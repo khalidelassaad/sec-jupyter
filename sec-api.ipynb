{
 "cells": [
  {
   "cell_type": "markdown",
   "id": "a92381cb-653c-41ef-a58c-32dc265a7fd9",
   "metadata": {},
   "source": [
    "First goal is to find an endpoint for Form 4's\n",
    "\n",
    "https://www.sec.gov/developer\n",
    "\n",
    "https://www.sec.gov/os/accessing-edgar-data"
   ]
  },
  {
   "cell_type": "code",
   "execution_count": 1,
   "id": "f62a6470-162a-4724-82a0-e60ec1476e8e",
   "metadata": {
    "tags": []
   },
   "outputs": [],
   "source": [
    "import requests\n",
    "import time\n",
    "import datetime\n",
    "import pandas as pd\n",
    "import os\n",
    "import dotenv\n",
    "import xml.etree.ElementTree as ET\n",
    "import matplotlib\n",
    "import matplotlib.pyplot as plt\n",
    "import matplotlib.dates as mdates\n",
    "import numpy as np"
   ]
  },
  {
   "cell_type": "code",
   "execution_count": 2,
   "id": "4d6aa047-4500-4910-bced-a792202cd928",
   "metadata": {
    "tags": []
   },
   "outputs": [],
   "source": [
    "dotenv.load_dotenv()\n",
    "run_once_override = False\n",
    "\n",
    "HEADERS = {\n",
    "    'User-Agent': 'Personal User {}'.format(os.getenv(\"EMAIL\")),\n",
    "    'Accept-Encoding': 'gzip, deflate',\n",
    "    'Host': 'www.sec.gov'\n",
    "}\n",
    "\n",
    "def SEC_API_sleep():\n",
    "    # Be a good citizen! Limit requests to less than 10 per second\n",
    "    time.sleep(0.11)\n",
    "    "
   ]
  },
  {
   "cell_type": "markdown",
   "id": "1be2e222-caa4-4706-b26d-30276faef767",
   "metadata": {},
   "source": [
    "Fetch the list of CIKs from here https://www.sec.gov/Archives/edgar/cik-lookup-data.txt"
   ]
  },
  {
   "cell_type": "code",
   "execution_count": 3,
   "id": "b454f104-c59c-4ddc-b283-61410df8d220",
   "metadata": {
    "tags": []
   },
   "outputs": [],
   "source": [
    "def get_url_to_outfilename(url, outfilename, run_once_override=run_once_override):\n",
    "    if not run_once_override:\n",
    "        return -1\n",
    "    response = requests.get(url, headers=HEADERS)\n",
    "    if response.status_code != 200:\n",
    "        print(\"Status Code:\", response.status_code)\n",
    "    with open(outfilename, \"w\", encoding=\"utf-8\") as outfile:\n",
    "        outfile.write(response.text)\n",
    "    SEC_API_sleep()\n",
    "    return response"
   ]
  },
  {
   "cell_type": "code",
   "execution_count": 4,
   "id": "b8ebdd93-d130-42c2-97a1-645ed367562c",
   "metadata": {
    "tags": []
   },
   "outputs": [
    {
     "data": {
      "text/plain": [
       "-1"
      ]
     },
     "execution_count": 4,
     "metadata": {},
     "output_type": "execute_result"
    }
   ],
   "source": [
    "get_url_to_outfilename(\n",
    "    \"https://www.sec.gov/Archives/edgar/cik-lookup-data.txt\",\n",
    "    \"cik_list.txt\"\n",
    ")"
   ]
  },
  {
   "cell_type": "code",
   "execution_count": 5,
   "id": "c42fec01-92f3-4d02-9e04-f70734204335",
   "metadata": {
    "tags": []
   },
   "outputs": [
    {
     "data": {
      "text/plain": [
       "-1"
      ]
     },
     "execution_count": 5,
     "metadata": {},
     "output_type": "execute_result"
    }
   ],
   "source": [
    "get_url_to_outfilename(\n",
    "    \"https://www.sec.gov/files/company_tickers.json\",\n",
    "    \"company_tickers.json\"\n",
    ")"
   ]
  },
  {
   "cell_type": "code",
   "execution_count": 6,
   "id": "6bc5eece-aca8-4bcb-821a-00b8a3af327c",
   "metadata": {
    "tags": []
   },
   "outputs": [],
   "source": [
    "def generate_interested_companies_dict():\n",
    "    interested_company_names = []\n",
    "    return_dict = dict()\n",
    "    with open(\"interested_company_names.txt\",\"r\") as infile:\n",
    "        for line in infile:\n",
    "            interested_company_names.append(line.strip())\n",
    "    with open(\"cik_list.txt\",\"r\") as infile:\n",
    "        for line in infile:\n",
    "            for name in interested_company_names:\n",
    "                if name in line:\n",
    "                    cik_number = int(line.split(\":\")[1])\n",
    "                    cik_name = line.split(\":\")[0]\n",
    "                    return_dict[cik_number] = {\"name\": cik_name}\n",
    "    return return_dict"
   ]
  },
  {
   "cell_type": "code",
   "execution_count": 7,
   "id": "2effa6c0-188a-49ca-b029-3460a28e68c7",
   "metadata": {
    "tags": []
   },
   "outputs": [],
   "source": [
    "interested_companies_dict = generate_interested_companies_dict()"
   ]
  },
  {
   "cell_type": "markdown",
   "id": "6e1096a0-e0dc-4f06-b100-4c720a0174a0",
   "metadata": {},
   "source": [
    "We can get information about a specific CIK's filings by querying this resource:\n",
    "\n",
    "https://data.sec.gov/submissions/CIK##########.json"
   ]
  },
  {
   "cell_type": "code",
   "execution_count": 8,
   "id": "49736a7a-3a29-4fa1-afe0-64b68aaa5bd9",
   "metadata": {
    "tags": []
   },
   "outputs": [],
   "source": [
    "def save_interested_companies_indices(interested_companies_dict, run_once_override=run_once_override):\n",
    "    if not run_once_override:\n",
    "        return -1\n",
    "    for cik in interested_companies_dict:\n",
    "        url = \"https://data.sec.gov/submissions/CIK{:010d}.json\".format(cik)\n",
    "        get_url_to_outfilename(\n",
    "            \"https://data.sec.gov/submissions/CIK{:010d}.json\".format(cik),\n",
    "            \"{}.html\".format(cik),\n",
    "            run_once_override=run_once_override\n",
    "        )\n",
    "    return 0"
   ]
  },
  {
   "cell_type": "markdown",
   "id": "df5ca1f3-b78a-4999-9041-e411c32d0adb",
   "metadata": {},
   "source": [
    "The above URL is not fetching. Let's try something else.\n",
    "\n",
    "https://www.sec.gov/os/accessing-edgar-data\n",
    "\n",
    "According to the above, use https://www.sec.gov/Archives/edgar/full-index/ to get an index per quarter of all filings from all companies. Let's write a function to grab the latest index and parse out relevant links for our `interested_companies_dict`\n",
    "\n",
    "We want the `master.idx` file which contains data in this format: `CIK|Company Name|Form Type|Date Filed|Filename`\n",
    "\n",
    "The full path to this file looks like:\n",
    "\n",
    "`https://www.sec.gov/Archives/edgar/full-index/{YYYY}/QTR{1-4}/master.idx`\n",
    "\n",
    "Data extends from 1993 QTR1 - 2023 QTR1"
   ]
  },
  {
   "cell_type": "code",
   "execution_count": 9,
   "id": "eb88f7cc-680a-4bad-b38c-801436fe26c6",
   "metadata": {
    "tags": []
   },
   "outputs": [],
   "source": [
    "def get_master_index_for_year_and_quarter(year, quarter, run_once_override=run_once_override):\n",
    "    if not run_once_override:\n",
    "        return -1\n",
    "    get_url_to_outfilename(\n",
    "        \"https://www.sec.gov/Archives/edgar/full-index/{}/QTR{}/master.idx\".format(year, quarter),\n",
    "        \"indices/{}Q{}_master.idx\".format(year, quarter),\n",
    "        run_once_override=run_once_override\n",
    "    )\n",
    "    return 0"
   ]
  },
  {
   "cell_type": "code",
   "execution_count": 10,
   "id": "efd4dfea-fdf6-4427-8f98-107527250d7e",
   "metadata": {
    "tags": []
   },
   "outputs": [
    {
     "data": {
      "text/plain": [
       "-1"
      ]
     },
     "execution_count": 10,
     "metadata": {},
     "output_type": "execute_result"
    }
   ],
   "source": [
    "get_master_index_for_year_and_quarter(2023, 1)"
   ]
  },
  {
   "cell_type": "markdown",
   "id": "7c6d4607-58ff-45ba-9cfe-099099ff3607",
   "metadata": {},
   "source": [
    "Let's grab all indices since 1993 QTR1, then we can aggregate them together for one unified master index that we can parse for companies we're interested in.\n",
    "\n",
    "First we'll grab all indices."
   ]
  },
  {
   "cell_type": "code",
   "execution_count": 11,
   "id": "c834e6c1-48df-4c49-b075-89c43ad36e0f",
   "metadata": {
    "tags": []
   },
   "outputs": [],
   "source": [
    "def get_all_master_indices(run_once_override=run_once_override, start_year=1993):\n",
    "    if not run_once_override:\n",
    "        return -1\n",
    "    end_year = pd.Timestamp(datetime.datetime.now()).year\n",
    "    end_quarter = pd.Timestamp(datetime.datetime.now()).quarter\n",
    "    for year in range(start_year, end_year + 1):\n",
    "        end_quarter_range = 4 if year != end_year else end_quarter\n",
    "        for quarter in range(1, end_quarter_range + 1):\n",
    "            print(\"Fetchin index for {}Q{}\".format(year, quarter))\n",
    "            get_master_index_for_year_and_quarter(year, quarter, run_once_override)\n",
    "    return 0"
   ]
  },
  {
   "cell_type": "code",
   "execution_count": 12,
   "id": "78cca6c2-40b8-4947-855e-3fcc76e6fecd",
   "metadata": {
    "tags": []
   },
   "outputs": [
    {
     "data": {
      "text/plain": [
       "-1"
      ]
     },
     "execution_count": 12,
     "metadata": {},
     "output_type": "execute_result"
    }
   ],
   "source": [
    "get_all_master_indices()"
   ]
  },
  {
   "cell_type": "markdown",
   "id": "6261e675-5d83-404e-9144-f18be1e6e417",
   "metadata": {},
   "source": [
    "Let's also write a function to fetch only the latest index (for updates while the current quarter is ongoing)."
   ]
  },
  {
   "cell_type": "code",
   "execution_count": 13,
   "id": "5c4bebe4-bf73-4c8d-a73b-c40f012b7bad",
   "metadata": {
    "tags": []
   },
   "outputs": [],
   "source": [
    "def get_latest_master_index(run_once_override=run_once_override):\n",
    "    if not run_once_override:\n",
    "        return -1\n",
    "    year = pd.Timestamp(datetime.datetime.now()).year\n",
    "    quarter = pd.Timestamp(datetime.datetime.now()).quarter\n",
    "    print(\"Fetchin index for {}Q{}\".format(year, quarter))\n",
    "    get_master_index_for_year_and_quarter(year, quarter, run_once_override)\n",
    "    return 0"
   ]
  },
  {
   "cell_type": "code",
   "execution_count": 14,
   "id": "f0efd1ce-c698-437b-9766-ebb98259df89",
   "metadata": {
    "tags": []
   },
   "outputs": [
    {
     "data": {
      "text/plain": [
       "-1"
      ]
     },
     "execution_count": 14,
     "metadata": {},
     "output_type": "execute_result"
    }
   ],
   "source": [
    "get_latest_master_index()"
   ]
  },
  {
   "cell_type": "markdown",
   "id": "f03132c5-2130-4efd-9df6-5328020d6b64",
   "metadata": {},
   "source": [
    "Nice, now to read data. Here's what I want to do:\n",
    "\n",
    "1. Read all index files.\n",
    "2. Grab rows for CIKs that I'm interested in, based on `interested_companies_dict`\n",
    "3. Output rows as a pandas dataframe"
   ]
  },
  {
   "cell_type": "code",
   "execution_count": 15,
   "id": "a1c6b762-eb4e-4bd0-9982-77d64771a012",
   "metadata": {
    "tags": []
   },
   "outputs": [
    {
     "data": {
      "text/plain": [
       "'indices/2023Q1_master.idx'"
      ]
     },
     "execution_count": 15,
     "metadata": {},
     "output_type": "execute_result"
    }
   ],
   "source": [
    "index_files = [\"indices/\" + filepath for filepath in os.listdir(\"indices\")]\n",
    "index_files[-1]"
   ]
  },
  {
   "cell_type": "code",
   "execution_count": 16,
   "id": "5ffbc072-cfe7-4abb-9341-00d694511469",
   "metadata": {
    "tags": []
   },
   "outputs": [
    {
     "data": {
      "text/html": [
       "<div>\n",
       "<style scoped>\n",
       "    .dataframe tbody tr th:only-of-type {\n",
       "        vertical-align: middle;\n",
       "    }\n",
       "\n",
       "    .dataframe tbody tr th {\n",
       "        vertical-align: top;\n",
       "    }\n",
       "\n",
       "    .dataframe thead th {\n",
       "        text-align: right;\n",
       "    }\n",
       "</style>\n",
       "<table border=\"1\" class=\"dataframe\">\n",
       "  <thead>\n",
       "    <tr style=\"text-align: right;\">\n",
       "      <th></th>\n",
       "      <th>CIK</th>\n",
       "      <th>Company Name</th>\n",
       "      <th>Form Type</th>\n",
       "      <th>Date Filed</th>\n",
       "      <th>Filename</th>\n",
       "    </tr>\n",
       "  </thead>\n",
       "  <tbody>\n",
       "    <tr>\n",
       "      <th>23906</th>\n",
       "      <td>1108524</td>\n",
       "      <td>Salesforce, Inc.</td>\n",
       "      <td>10-K</td>\n",
       "      <td>2023-03-08</td>\n",
       "      <td>edgar/data/1108524/0001108524-23-000011.txt</td>\n",
       "    </tr>\n",
       "    <tr>\n",
       "      <th>23907</th>\n",
       "      <td>1108524</td>\n",
       "      <td>Salesforce, Inc.</td>\n",
       "      <td>13F-HR</td>\n",
       "      <td>2023-02-10</td>\n",
       "      <td>edgar/data/1108524/0001108524-23-000005.txt</td>\n",
       "    </tr>\n",
       "    <tr>\n",
       "      <th>23908</th>\n",
       "      <td>1108524</td>\n",
       "      <td>Salesforce, Inc.</td>\n",
       "      <td>3</td>\n",
       "      <td>2023-03-03</td>\n",
       "      <td>edgar/data/1108524/0001127602-23-008948.txt</td>\n",
       "    </tr>\n",
       "    <tr>\n",
       "      <th>23909</th>\n",
       "      <td>1108524</td>\n",
       "      <td>Salesforce, Inc.</td>\n",
       "      <td>3</td>\n",
       "      <td>2023-03-03</td>\n",
       "      <td>edgar/data/1108524/0001127602-23-008950.txt</td>\n",
       "    </tr>\n",
       "    <tr>\n",
       "      <th>23910</th>\n",
       "      <td>1108524</td>\n",
       "      <td>Salesforce, Inc.</td>\n",
       "      <td>3</td>\n",
       "      <td>2023-03-03</td>\n",
       "      <td>edgar/data/1108524/0001418812-23-000017.txt</td>\n",
       "    </tr>\n",
       "    <tr>\n",
       "      <th>...</th>\n",
       "      <td>...</td>\n",
       "      <td>...</td>\n",
       "      <td>...</td>\n",
       "      <td>...</td>\n",
       "      <td>...</td>\n",
       "    </tr>\n",
       "    <tr>\n",
       "      <th>23995</th>\n",
       "      <td>1108524</td>\n",
       "      <td>Salesforce, Inc.</td>\n",
       "      <td>8-K</td>\n",
       "      <td>2023-01-27</td>\n",
       "      <td>edgar/data/1108524/0001193125-23-017661.txt</td>\n",
       "    </tr>\n",
       "    <tr>\n",
       "      <th>23996</th>\n",
       "      <td>1108524</td>\n",
       "      <td>Salesforce, Inc.</td>\n",
       "      <td>8-K</td>\n",
       "      <td>2023-03-01</td>\n",
       "      <td>edgar/data/1108524/0001108524-23-000007.txt</td>\n",
       "    </tr>\n",
       "    <tr>\n",
       "      <th>23997</th>\n",
       "      <td>1108524</td>\n",
       "      <td>Salesforce, Inc.</td>\n",
       "      <td>SC 13G/A</td>\n",
       "      <td>2023-02-07</td>\n",
       "      <td>edgar/data/1108524/0001306550-23-008329.txt</td>\n",
       "    </tr>\n",
       "    <tr>\n",
       "      <th>23998</th>\n",
       "      <td>1108524</td>\n",
       "      <td>Salesforce, Inc.</td>\n",
       "      <td>SC 13G/A</td>\n",
       "      <td>2023-02-09</td>\n",
       "      <td>edgar/data/1108524/0000315066-23-002031.txt</td>\n",
       "    </tr>\n",
       "    <tr>\n",
       "      <th>23999</th>\n",
       "      <td>1108524</td>\n",
       "      <td>Salesforce, Inc.</td>\n",
       "      <td>SC 13G/A</td>\n",
       "      <td>2023-02-09</td>\n",
       "      <td>edgar/data/1108524/0001104659-23-016896.txt</td>\n",
       "    </tr>\n",
       "  </tbody>\n",
       "</table>\n",
       "<p>94 rows × 5 columns</p>\n",
       "</div>"
      ],
      "text/plain": [
       "           CIK      Company Name Form Type  Date Filed  \\\n",
       "23906  1108524  Salesforce, Inc.      10-K  2023-03-08   \n",
       "23907  1108524  Salesforce, Inc.    13F-HR  2023-02-10   \n",
       "23908  1108524  Salesforce, Inc.         3  2023-03-03   \n",
       "23909  1108524  Salesforce, Inc.         3  2023-03-03   \n",
       "23910  1108524  Salesforce, Inc.         3  2023-03-03   \n",
       "...        ...               ...       ...         ...   \n",
       "23995  1108524  Salesforce, Inc.       8-K  2023-01-27   \n",
       "23996  1108524  Salesforce, Inc.       8-K  2023-03-01   \n",
       "23997  1108524  Salesforce, Inc.  SC 13G/A  2023-02-07   \n",
       "23998  1108524  Salesforce, Inc.  SC 13G/A  2023-02-09   \n",
       "23999  1108524  Salesforce, Inc.  SC 13G/A  2023-02-09   \n",
       "\n",
       "                                          Filename  \n",
       "23906  edgar/data/1108524/0001108524-23-000011.txt  \n",
       "23907  edgar/data/1108524/0001108524-23-000005.txt  \n",
       "23908  edgar/data/1108524/0001127602-23-008948.txt  \n",
       "23909  edgar/data/1108524/0001127602-23-008950.txt  \n",
       "23910  edgar/data/1108524/0001418812-23-000017.txt  \n",
       "...                                            ...  \n",
       "23995  edgar/data/1108524/0001193125-23-017661.txt  \n",
       "23996  edgar/data/1108524/0001108524-23-000007.txt  \n",
       "23997  edgar/data/1108524/0001306550-23-008329.txt  \n",
       "23998  edgar/data/1108524/0000315066-23-002031.txt  \n",
       "23999  edgar/data/1108524/0001104659-23-016896.txt  \n",
       "\n",
       "[94 rows x 5 columns]"
      ]
     },
     "execution_count": 16,
     "metadata": {},
     "output_type": "execute_result"
    }
   ],
   "source": [
    "index_column_names = [\"CIK\",\"Company Name\",\"Form Type\",\"Date Filed\",\"Filename\"]\n",
    "index_dataframe = pd.read_csv(index_files[-1], sep = \"|\", skiprows=11, names=index_column_names)\n",
    "index_dataframe[index_dataframe[\"CIK\"].isin(interested_companies_dict)]"
   ]
  },
  {
   "cell_type": "markdown",
   "id": "8a24b7e1-1a33-48ba-901f-3ea008e63b48",
   "metadata": {},
   "source": [
    "Okay, I have the pieces to read the data correctly from the files and to focus on only the companies I care about. The last step is figure out how to concatenate two dataframes together.\n",
    "\n",
    "Looks like `pd.concat([list of dataframes])` will do the job. Time to stitch it all together."
   ]
  },
  {
   "cell_type": "code",
   "execution_count": 17,
   "id": "98739f49-703c-4431-b23a-ae3057bf8dbd",
   "metadata": {
    "tags": []
   },
   "outputs": [],
   "source": [
    "def print_percent_complete(step, total):\n",
    "    print(\"{:.2f}% complete\".format( (step / total) * 100), end = \"\\r\")"
   ]
  },
  {
   "cell_type": "code",
   "execution_count": 18,
   "id": "cbc13b84-dc67-44df-8602-2d251044000d",
   "metadata": {
    "tags": []
   },
   "outputs": [],
   "source": [
    "def get_index_dataframe_for_interested_companies(interested_companies_dict, interested_forms=None):\n",
    "    index_files = [\"indices/\" + filepath for filepath in os.listdir(\"indices\")]\n",
    "    index_column_names = [\"CIK\",\"Company Name\",\"Form Type\",\"Date Filed\",\"Filename\"]\n",
    "    return_dataframe = pd.DataFrame()\n",
    "    for i in range(len(index_files)):\n",
    "        index_file = index_files[i]\n",
    "        index_dataframe = pd.read_csv(index_file, sep = \"|\", skiprows=11, names=index_column_names)\n",
    "        index_dataframe = index_dataframe[\n",
    "            index_dataframe[\"CIK\"].isin(interested_companies_dict)\n",
    "        ]\n",
    "        if interested_forms is not None:\n",
    "            index_dataframe = index_dataframe[\n",
    "                index_dataframe[\"Form Type\"].isin(interested_forms)\n",
    "            ]\n",
    "        return_dataframe = pd.concat([return_dataframe, index_dataframe])\n",
    "        print_percent_complete(i, len(index_files) - 1)\n",
    "    print()\n",
    "    return return_dataframe.reset_index(drop=True)"
   ]
  },
  {
   "cell_type": "code",
   "execution_count": 19,
   "id": "9b5947cf-c9ab-4dbd-950e-13e6087ab01c",
   "metadata": {
    "tags": []
   },
   "outputs": [
    {
     "name": "stdout",
     "output_type": "stream",
     "text": [
      "100.00% complete\n"
     ]
    }
   ],
   "source": [
    "interested_company_form_4_index = get_index_dataframe_for_interested_companies(interested_companies_dict, [\"4\"])"
   ]
  },
  {
   "cell_type": "markdown",
   "id": "d232a752-689f-426c-9d2d-504d9db6cf89",
   "metadata": {},
   "source": [
    "Great! I can grab the locations of the forms I want. Now to pull the data for those actual forms..."
   ]
  },
  {
   "cell_type": "code",
   "execution_count": 20,
   "id": "f329485d-bffb-4f01-88da-c757aa013744",
   "metadata": {
    "tags": []
   },
   "outputs": [],
   "source": [
    "edgar_archive_url_root = \"https://www.sec.gov/Archives/\""
   ]
  },
  {
   "cell_type": "code",
   "execution_count": 39,
   "id": "8bb7928b-2dc7-4167-90e9-4a94ca41907a",
   "metadata": {
    "tags": []
   },
   "outputs": [],
   "source": [
    "form_4_urls_to_collect = [edgar_archive_url_root + i for i in interested_company_form_4_index[\"Filename\"]]"
   ]
  },
  {
   "cell_type": "code",
   "execution_count": 22,
   "id": "c340a7ac-fcd7-4464-b3cc-8984058b3cab",
   "metadata": {
    "tags": []
   },
   "outputs": [],
   "source": [
    "def get_forms_from_url_list(form_urls_to_collect, run_once_override=run_once_override):\n",
    "    if not run_once_override:\n",
    "        return -1\n",
    "    for i in range(len(form_urls_to_collect)):\n",
    "        form_url = form_urls_to_collect[i]\n",
    "        get_url_to_outfilename(\n",
    "            form_url,\n",
    "            \"forms/\" + form_url.split(\"/\")[-1],\n",
    "            run_once_override\n",
    "        )\n",
    "        print_percent_complete(i, len(form_urls_to_collect) - 1)\n",
    "    print()\n",
    "    return 0"
   ]
  },
  {
   "cell_type": "code",
   "execution_count": 40,
   "id": "a9d08bf7-212a-4346-ac8a-13a1663b70ce",
   "metadata": {
    "tags": []
   },
   "outputs": [
    {
     "name": "stdout",
     "output_type": "stream",
     "text": [
      "16.70% complete\r"
     ]
    },
    {
     "ename": "KeyboardInterrupt",
     "evalue": "",
     "output_type": "error",
     "traceback": [
      "\u001b[1;31m---------------------------------------------------------------------------\u001b[0m",
      "\u001b[1;31mKeyboardInterrupt\u001b[0m                         Traceback (most recent call last)",
      "Cell \u001b[1;32mIn[40], line 1\u001b[0m\n\u001b[1;32m----> 1\u001b[0m \u001b[43mget_forms_from_url_list\u001b[49m\u001b[43m(\u001b[49m\u001b[43mform_4_urls_to_collect\u001b[49m\u001b[43m,\u001b[49m\u001b[43m \u001b[49m\u001b[38;5;28;43;01mTrue\u001b[39;49;00m\u001b[43m)\u001b[49m\n",
      "Cell \u001b[1;32mIn[22], line 6\u001b[0m, in \u001b[0;36mget_forms_from_url_list\u001b[1;34m(form_urls_to_collect, run_once_override)\u001b[0m\n\u001b[0;32m      4\u001b[0m \u001b[38;5;28;01mfor\u001b[39;00m i \u001b[38;5;129;01min\u001b[39;00m \u001b[38;5;28mrange\u001b[39m(\u001b[38;5;28mlen\u001b[39m(form_urls_to_collect)):\n\u001b[0;32m      5\u001b[0m     form_url \u001b[38;5;241m=\u001b[39m form_urls_to_collect[i]\n\u001b[1;32m----> 6\u001b[0m     \u001b[43mget_url_to_outfilename\u001b[49m\u001b[43m(\u001b[49m\n\u001b[0;32m      7\u001b[0m \u001b[43m        \u001b[49m\u001b[43mform_url\u001b[49m\u001b[43m,\u001b[49m\n\u001b[0;32m      8\u001b[0m \u001b[43m        \u001b[49m\u001b[38;5;124;43m\"\u001b[39;49m\u001b[38;5;124;43mforms/\u001b[39;49m\u001b[38;5;124;43m\"\u001b[39;49m\u001b[43m \u001b[49m\u001b[38;5;241;43m+\u001b[39;49m\u001b[43m \u001b[49m\u001b[43mform_url\u001b[49m\u001b[38;5;241;43m.\u001b[39;49m\u001b[43msplit\u001b[49m\u001b[43m(\u001b[49m\u001b[38;5;124;43m\"\u001b[39;49m\u001b[38;5;124;43m/\u001b[39;49m\u001b[38;5;124;43m\"\u001b[39;49m\u001b[43m)\u001b[49m\u001b[43m[\u001b[49m\u001b[38;5;241;43m-\u001b[39;49m\u001b[38;5;241;43m1\u001b[39;49m\u001b[43m]\u001b[49m\u001b[43m,\u001b[49m\n\u001b[0;32m      9\u001b[0m \u001b[43m        \u001b[49m\u001b[43mrun_once_override\u001b[49m\n\u001b[0;32m     10\u001b[0m \u001b[43m    \u001b[49m\u001b[43m)\u001b[49m\n\u001b[0;32m     11\u001b[0m     print_percent_complete(i, \u001b[38;5;28mlen\u001b[39m(form_urls_to_collect) \u001b[38;5;241m-\u001b[39m \u001b[38;5;241m1\u001b[39m)\n\u001b[0;32m     12\u001b[0m \u001b[38;5;28mprint\u001b[39m()\n",
      "Cell \u001b[1;32mIn[3], line 4\u001b[0m, in \u001b[0;36mget_url_to_outfilename\u001b[1;34m(url, outfilename, run_once_override)\u001b[0m\n\u001b[0;32m      2\u001b[0m \u001b[38;5;28;01mif\u001b[39;00m \u001b[38;5;129;01mnot\u001b[39;00m run_once_override:\n\u001b[0;32m      3\u001b[0m     \u001b[38;5;28;01mreturn\u001b[39;00m \u001b[38;5;241m-\u001b[39m\u001b[38;5;241m1\u001b[39m\n\u001b[1;32m----> 4\u001b[0m response \u001b[38;5;241m=\u001b[39m \u001b[43mrequests\u001b[49m\u001b[38;5;241;43m.\u001b[39;49m\u001b[43mget\u001b[49m\u001b[43m(\u001b[49m\u001b[43murl\u001b[49m\u001b[43m,\u001b[49m\u001b[43m \u001b[49m\u001b[43mheaders\u001b[49m\u001b[38;5;241;43m=\u001b[39;49m\u001b[43mHEADERS\u001b[49m\u001b[43m)\u001b[49m\n\u001b[0;32m      5\u001b[0m \u001b[38;5;28;01mif\u001b[39;00m response\u001b[38;5;241m.\u001b[39mstatus_code \u001b[38;5;241m!=\u001b[39m \u001b[38;5;241m200\u001b[39m:\n\u001b[0;32m      6\u001b[0m     \u001b[38;5;28mprint\u001b[39m(\u001b[38;5;124m\"\u001b[39m\u001b[38;5;124mStatus Code:\u001b[39m\u001b[38;5;124m\"\u001b[39m, response\u001b[38;5;241m.\u001b[39mstatus_code)\n",
      "File \u001b[1;32mC:\\Python311\\Lib\\site-packages\\requests\\api.py:73\u001b[0m, in \u001b[0;36mget\u001b[1;34m(url, params, **kwargs)\u001b[0m\n\u001b[0;32m     62\u001b[0m \u001b[38;5;28;01mdef\u001b[39;00m \u001b[38;5;21mget\u001b[39m(url, params\u001b[38;5;241m=\u001b[39m\u001b[38;5;28;01mNone\u001b[39;00m, \u001b[38;5;241m*\u001b[39m\u001b[38;5;241m*\u001b[39mkwargs):\n\u001b[0;32m     63\u001b[0m \u001b[38;5;250m    \u001b[39m\u001b[38;5;124mr\u001b[39m\u001b[38;5;124;03m\"\"\"Sends a GET request.\u001b[39;00m\n\u001b[0;32m     64\u001b[0m \n\u001b[0;32m     65\u001b[0m \u001b[38;5;124;03m    :param url: URL for the new :class:`Request` object.\u001b[39;00m\n\u001b[1;32m   (...)\u001b[0m\n\u001b[0;32m     70\u001b[0m \u001b[38;5;124;03m    :rtype: requests.Response\u001b[39;00m\n\u001b[0;32m     71\u001b[0m \u001b[38;5;124;03m    \"\"\"\u001b[39;00m\n\u001b[1;32m---> 73\u001b[0m     \u001b[38;5;28;01mreturn\u001b[39;00m \u001b[43mrequest\u001b[49m\u001b[43m(\u001b[49m\u001b[38;5;124;43m\"\u001b[39;49m\u001b[38;5;124;43mget\u001b[39;49m\u001b[38;5;124;43m\"\u001b[39;49m\u001b[43m,\u001b[49m\u001b[43m \u001b[49m\u001b[43murl\u001b[49m\u001b[43m,\u001b[49m\u001b[43m \u001b[49m\u001b[43mparams\u001b[49m\u001b[38;5;241;43m=\u001b[39;49m\u001b[43mparams\u001b[49m\u001b[43m,\u001b[49m\u001b[43m \u001b[49m\u001b[38;5;241;43m*\u001b[39;49m\u001b[38;5;241;43m*\u001b[39;49m\u001b[43mkwargs\u001b[49m\u001b[43m)\u001b[49m\n",
      "File \u001b[1;32mC:\\Python311\\Lib\\site-packages\\requests\\api.py:59\u001b[0m, in \u001b[0;36mrequest\u001b[1;34m(method, url, **kwargs)\u001b[0m\n\u001b[0;32m     55\u001b[0m \u001b[38;5;66;03m# By using the 'with' statement we are sure the session is closed, thus we\u001b[39;00m\n\u001b[0;32m     56\u001b[0m \u001b[38;5;66;03m# avoid leaving sockets open which can trigger a ResourceWarning in some\u001b[39;00m\n\u001b[0;32m     57\u001b[0m \u001b[38;5;66;03m# cases, and look like a memory leak in others.\u001b[39;00m\n\u001b[0;32m     58\u001b[0m \u001b[38;5;28;01mwith\u001b[39;00m sessions\u001b[38;5;241m.\u001b[39mSession() \u001b[38;5;28;01mas\u001b[39;00m session:\n\u001b[1;32m---> 59\u001b[0m     \u001b[38;5;28;01mreturn\u001b[39;00m \u001b[43msession\u001b[49m\u001b[38;5;241;43m.\u001b[39;49m\u001b[43mrequest\u001b[49m\u001b[43m(\u001b[49m\u001b[43mmethod\u001b[49m\u001b[38;5;241;43m=\u001b[39;49m\u001b[43mmethod\u001b[49m\u001b[43m,\u001b[49m\u001b[43m \u001b[49m\u001b[43murl\u001b[49m\u001b[38;5;241;43m=\u001b[39;49m\u001b[43murl\u001b[49m\u001b[43m,\u001b[49m\u001b[43m \u001b[49m\u001b[38;5;241;43m*\u001b[39;49m\u001b[38;5;241;43m*\u001b[39;49m\u001b[43mkwargs\u001b[49m\u001b[43m)\u001b[49m\n",
      "File \u001b[1;32mC:\\Python311\\Lib\\site-packages\\requests\\sessions.py:587\u001b[0m, in \u001b[0;36mSession.request\u001b[1;34m(self, method, url, params, data, headers, cookies, files, auth, timeout, allow_redirects, proxies, hooks, stream, verify, cert, json)\u001b[0m\n\u001b[0;32m    582\u001b[0m send_kwargs \u001b[38;5;241m=\u001b[39m {\n\u001b[0;32m    583\u001b[0m     \u001b[38;5;124m\"\u001b[39m\u001b[38;5;124mtimeout\u001b[39m\u001b[38;5;124m\"\u001b[39m: timeout,\n\u001b[0;32m    584\u001b[0m     \u001b[38;5;124m\"\u001b[39m\u001b[38;5;124mallow_redirects\u001b[39m\u001b[38;5;124m\"\u001b[39m: allow_redirects,\n\u001b[0;32m    585\u001b[0m }\n\u001b[0;32m    586\u001b[0m send_kwargs\u001b[38;5;241m.\u001b[39mupdate(settings)\n\u001b[1;32m--> 587\u001b[0m resp \u001b[38;5;241m=\u001b[39m \u001b[38;5;28;43mself\u001b[39;49m\u001b[38;5;241;43m.\u001b[39;49m\u001b[43msend\u001b[49m\u001b[43m(\u001b[49m\u001b[43mprep\u001b[49m\u001b[43m,\u001b[49m\u001b[43m \u001b[49m\u001b[38;5;241;43m*\u001b[39;49m\u001b[38;5;241;43m*\u001b[39;49m\u001b[43msend_kwargs\u001b[49m\u001b[43m)\u001b[49m\n\u001b[0;32m    589\u001b[0m \u001b[38;5;28;01mreturn\u001b[39;00m resp\n",
      "File \u001b[1;32mC:\\Python311\\Lib\\site-packages\\requests\\sessions.py:701\u001b[0m, in \u001b[0;36mSession.send\u001b[1;34m(self, request, **kwargs)\u001b[0m\n\u001b[0;32m    698\u001b[0m start \u001b[38;5;241m=\u001b[39m preferred_clock()\n\u001b[0;32m    700\u001b[0m \u001b[38;5;66;03m# Send the request\u001b[39;00m\n\u001b[1;32m--> 701\u001b[0m r \u001b[38;5;241m=\u001b[39m \u001b[43madapter\u001b[49m\u001b[38;5;241;43m.\u001b[39;49m\u001b[43msend\u001b[49m\u001b[43m(\u001b[49m\u001b[43mrequest\u001b[49m\u001b[43m,\u001b[49m\u001b[43m \u001b[49m\u001b[38;5;241;43m*\u001b[39;49m\u001b[38;5;241;43m*\u001b[39;49m\u001b[43mkwargs\u001b[49m\u001b[43m)\u001b[49m\n\u001b[0;32m    703\u001b[0m \u001b[38;5;66;03m# Total elapsed time of the request (approximately)\u001b[39;00m\n\u001b[0;32m    704\u001b[0m elapsed \u001b[38;5;241m=\u001b[39m preferred_clock() \u001b[38;5;241m-\u001b[39m start\n",
      "File \u001b[1;32mC:\\Python311\\Lib\\site-packages\\requests\\adapters.py:489\u001b[0m, in \u001b[0;36mHTTPAdapter.send\u001b[1;34m(self, request, stream, timeout, verify, cert, proxies)\u001b[0m\n\u001b[0;32m    487\u001b[0m \u001b[38;5;28;01mtry\u001b[39;00m:\n\u001b[0;32m    488\u001b[0m     \u001b[38;5;28;01mif\u001b[39;00m \u001b[38;5;129;01mnot\u001b[39;00m chunked:\n\u001b[1;32m--> 489\u001b[0m         resp \u001b[38;5;241m=\u001b[39m \u001b[43mconn\u001b[49m\u001b[38;5;241;43m.\u001b[39;49m\u001b[43murlopen\u001b[49m\u001b[43m(\u001b[49m\n\u001b[0;32m    490\u001b[0m \u001b[43m            \u001b[49m\u001b[43mmethod\u001b[49m\u001b[38;5;241;43m=\u001b[39;49m\u001b[43mrequest\u001b[49m\u001b[38;5;241;43m.\u001b[39;49m\u001b[43mmethod\u001b[49m\u001b[43m,\u001b[49m\n\u001b[0;32m    491\u001b[0m \u001b[43m            \u001b[49m\u001b[43murl\u001b[49m\u001b[38;5;241;43m=\u001b[39;49m\u001b[43murl\u001b[49m\u001b[43m,\u001b[49m\n\u001b[0;32m    492\u001b[0m \u001b[43m            \u001b[49m\u001b[43mbody\u001b[49m\u001b[38;5;241;43m=\u001b[39;49m\u001b[43mrequest\u001b[49m\u001b[38;5;241;43m.\u001b[39;49m\u001b[43mbody\u001b[49m\u001b[43m,\u001b[49m\n\u001b[0;32m    493\u001b[0m \u001b[43m            \u001b[49m\u001b[43mheaders\u001b[49m\u001b[38;5;241;43m=\u001b[39;49m\u001b[43mrequest\u001b[49m\u001b[38;5;241;43m.\u001b[39;49m\u001b[43mheaders\u001b[49m\u001b[43m,\u001b[49m\n\u001b[0;32m    494\u001b[0m \u001b[43m            \u001b[49m\u001b[43mredirect\u001b[49m\u001b[38;5;241;43m=\u001b[39;49m\u001b[38;5;28;43;01mFalse\u001b[39;49;00m\u001b[43m,\u001b[49m\n\u001b[0;32m    495\u001b[0m \u001b[43m            \u001b[49m\u001b[43massert_same_host\u001b[49m\u001b[38;5;241;43m=\u001b[39;49m\u001b[38;5;28;43;01mFalse\u001b[39;49;00m\u001b[43m,\u001b[49m\n\u001b[0;32m    496\u001b[0m \u001b[43m            \u001b[49m\u001b[43mpreload_content\u001b[49m\u001b[38;5;241;43m=\u001b[39;49m\u001b[38;5;28;43;01mFalse\u001b[39;49;00m\u001b[43m,\u001b[49m\n\u001b[0;32m    497\u001b[0m \u001b[43m            \u001b[49m\u001b[43mdecode_content\u001b[49m\u001b[38;5;241;43m=\u001b[39;49m\u001b[38;5;28;43;01mFalse\u001b[39;49;00m\u001b[43m,\u001b[49m\n\u001b[0;32m    498\u001b[0m \u001b[43m            \u001b[49m\u001b[43mretries\u001b[49m\u001b[38;5;241;43m=\u001b[39;49m\u001b[38;5;28;43mself\u001b[39;49m\u001b[38;5;241;43m.\u001b[39;49m\u001b[43mmax_retries\u001b[49m\u001b[43m,\u001b[49m\n\u001b[0;32m    499\u001b[0m \u001b[43m            \u001b[49m\u001b[43mtimeout\u001b[49m\u001b[38;5;241;43m=\u001b[39;49m\u001b[43mtimeout\u001b[49m\u001b[43m,\u001b[49m\n\u001b[0;32m    500\u001b[0m \u001b[43m        \u001b[49m\u001b[43m)\u001b[49m\n\u001b[0;32m    502\u001b[0m     \u001b[38;5;66;03m# Send the request.\u001b[39;00m\n\u001b[0;32m    503\u001b[0m     \u001b[38;5;28;01melse\u001b[39;00m:\n\u001b[0;32m    504\u001b[0m         \u001b[38;5;28;01mif\u001b[39;00m \u001b[38;5;28mhasattr\u001b[39m(conn, \u001b[38;5;124m\"\u001b[39m\u001b[38;5;124mproxy_pool\u001b[39m\u001b[38;5;124m\"\u001b[39m):\n",
      "File \u001b[1;32mC:\\Python311\\Lib\\site-packages\\urllib3\\connectionpool.py:703\u001b[0m, in \u001b[0;36mHTTPConnectionPool.urlopen\u001b[1;34m(self, method, url, body, headers, retries, redirect, assert_same_host, timeout, pool_timeout, release_conn, chunked, body_pos, **response_kw)\u001b[0m\n\u001b[0;32m    700\u001b[0m     \u001b[38;5;28mself\u001b[39m\u001b[38;5;241m.\u001b[39m_prepare_proxy(conn)\n\u001b[0;32m    702\u001b[0m \u001b[38;5;66;03m# Make the request on the httplib connection object.\u001b[39;00m\n\u001b[1;32m--> 703\u001b[0m httplib_response \u001b[38;5;241m=\u001b[39m \u001b[38;5;28;43mself\u001b[39;49m\u001b[38;5;241;43m.\u001b[39;49m\u001b[43m_make_request\u001b[49m\u001b[43m(\u001b[49m\n\u001b[0;32m    704\u001b[0m \u001b[43m    \u001b[49m\u001b[43mconn\u001b[49m\u001b[43m,\u001b[49m\n\u001b[0;32m    705\u001b[0m \u001b[43m    \u001b[49m\u001b[43mmethod\u001b[49m\u001b[43m,\u001b[49m\n\u001b[0;32m    706\u001b[0m \u001b[43m    \u001b[49m\u001b[43murl\u001b[49m\u001b[43m,\u001b[49m\n\u001b[0;32m    707\u001b[0m \u001b[43m    \u001b[49m\u001b[43mtimeout\u001b[49m\u001b[38;5;241;43m=\u001b[39;49m\u001b[43mtimeout_obj\u001b[49m\u001b[43m,\u001b[49m\n\u001b[0;32m    708\u001b[0m \u001b[43m    \u001b[49m\u001b[43mbody\u001b[49m\u001b[38;5;241;43m=\u001b[39;49m\u001b[43mbody\u001b[49m\u001b[43m,\u001b[49m\n\u001b[0;32m    709\u001b[0m \u001b[43m    \u001b[49m\u001b[43mheaders\u001b[49m\u001b[38;5;241;43m=\u001b[39;49m\u001b[43mheaders\u001b[49m\u001b[43m,\u001b[49m\n\u001b[0;32m    710\u001b[0m \u001b[43m    \u001b[49m\u001b[43mchunked\u001b[49m\u001b[38;5;241;43m=\u001b[39;49m\u001b[43mchunked\u001b[49m\u001b[43m,\u001b[49m\n\u001b[0;32m    711\u001b[0m \u001b[43m\u001b[49m\u001b[43m)\u001b[49m\n\u001b[0;32m    713\u001b[0m \u001b[38;5;66;03m# If we're going to release the connection in ``finally:``, then\u001b[39;00m\n\u001b[0;32m    714\u001b[0m \u001b[38;5;66;03m# the response doesn't need to know about the connection. Otherwise\u001b[39;00m\n\u001b[0;32m    715\u001b[0m \u001b[38;5;66;03m# it will also try to release it and we'll have a double-release\u001b[39;00m\n\u001b[0;32m    716\u001b[0m \u001b[38;5;66;03m# mess.\u001b[39;00m\n\u001b[0;32m    717\u001b[0m response_conn \u001b[38;5;241m=\u001b[39m conn \u001b[38;5;28;01mif\u001b[39;00m \u001b[38;5;129;01mnot\u001b[39;00m release_conn \u001b[38;5;28;01melse\u001b[39;00m \u001b[38;5;28;01mNone\u001b[39;00m\n",
      "File \u001b[1;32mC:\\Python311\\Lib\\site-packages\\urllib3\\connectionpool.py:449\u001b[0m, in \u001b[0;36mHTTPConnectionPool._make_request\u001b[1;34m(self, conn, method, url, timeout, chunked, **httplib_request_kw)\u001b[0m\n\u001b[0;32m    444\u001b[0m             httplib_response \u001b[38;5;241m=\u001b[39m conn\u001b[38;5;241m.\u001b[39mgetresponse()\n\u001b[0;32m    445\u001b[0m         \u001b[38;5;28;01mexcept\u001b[39;00m \u001b[38;5;167;01mBaseException\u001b[39;00m \u001b[38;5;28;01mas\u001b[39;00m e:\n\u001b[0;32m    446\u001b[0m             \u001b[38;5;66;03m# Remove the TypeError from the exception chain in\u001b[39;00m\n\u001b[0;32m    447\u001b[0m             \u001b[38;5;66;03m# Python 3 (including for exceptions like SystemExit).\u001b[39;00m\n\u001b[0;32m    448\u001b[0m             \u001b[38;5;66;03m# Otherwise it looks like a bug in the code.\u001b[39;00m\n\u001b[1;32m--> 449\u001b[0m             \u001b[43msix\u001b[49m\u001b[38;5;241;43m.\u001b[39;49m\u001b[43mraise_from\u001b[49m\u001b[43m(\u001b[49m\u001b[43me\u001b[49m\u001b[43m,\u001b[49m\u001b[43m \u001b[49m\u001b[38;5;28;43;01mNone\u001b[39;49;00m\u001b[43m)\u001b[49m\n\u001b[0;32m    450\u001b[0m \u001b[38;5;28;01mexcept\u001b[39;00m (SocketTimeout, BaseSSLError, SocketError) \u001b[38;5;28;01mas\u001b[39;00m e:\n\u001b[0;32m    451\u001b[0m     \u001b[38;5;28mself\u001b[39m\u001b[38;5;241m.\u001b[39m_raise_timeout(err\u001b[38;5;241m=\u001b[39me, url\u001b[38;5;241m=\u001b[39murl, timeout_value\u001b[38;5;241m=\u001b[39mread_timeout)\n",
      "File \u001b[1;32m<string>:3\u001b[0m, in \u001b[0;36mraise_from\u001b[1;34m(value, from_value)\u001b[0m\n",
      "File \u001b[1;32mC:\\Python311\\Lib\\site-packages\\urllib3\\connectionpool.py:444\u001b[0m, in \u001b[0;36mHTTPConnectionPool._make_request\u001b[1;34m(self, conn, method, url, timeout, chunked, **httplib_request_kw)\u001b[0m\n\u001b[0;32m    441\u001b[0m \u001b[38;5;28;01mexcept\u001b[39;00m \u001b[38;5;167;01mTypeError\u001b[39;00m:\n\u001b[0;32m    442\u001b[0m     \u001b[38;5;66;03m# Python 3\u001b[39;00m\n\u001b[0;32m    443\u001b[0m     \u001b[38;5;28;01mtry\u001b[39;00m:\n\u001b[1;32m--> 444\u001b[0m         httplib_response \u001b[38;5;241m=\u001b[39m \u001b[43mconn\u001b[49m\u001b[38;5;241;43m.\u001b[39;49m\u001b[43mgetresponse\u001b[49m\u001b[43m(\u001b[49m\u001b[43m)\u001b[49m\n\u001b[0;32m    445\u001b[0m     \u001b[38;5;28;01mexcept\u001b[39;00m \u001b[38;5;167;01mBaseException\u001b[39;00m \u001b[38;5;28;01mas\u001b[39;00m e:\n\u001b[0;32m    446\u001b[0m         \u001b[38;5;66;03m# Remove the TypeError from the exception chain in\u001b[39;00m\n\u001b[0;32m    447\u001b[0m         \u001b[38;5;66;03m# Python 3 (including for exceptions like SystemExit).\u001b[39;00m\n\u001b[0;32m    448\u001b[0m         \u001b[38;5;66;03m# Otherwise it looks like a bug in the code.\u001b[39;00m\n\u001b[0;32m    449\u001b[0m         six\u001b[38;5;241m.\u001b[39mraise_from(e, \u001b[38;5;28;01mNone\u001b[39;00m)\n",
      "File \u001b[1;32mC:\\Python311\\Lib\\http\\client.py:1374\u001b[0m, in \u001b[0;36mHTTPConnection.getresponse\u001b[1;34m(self)\u001b[0m\n\u001b[0;32m   1372\u001b[0m \u001b[38;5;28;01mtry\u001b[39;00m:\n\u001b[0;32m   1373\u001b[0m     \u001b[38;5;28;01mtry\u001b[39;00m:\n\u001b[1;32m-> 1374\u001b[0m         \u001b[43mresponse\u001b[49m\u001b[38;5;241;43m.\u001b[39;49m\u001b[43mbegin\u001b[49m\u001b[43m(\u001b[49m\u001b[43m)\u001b[49m\n\u001b[0;32m   1375\u001b[0m     \u001b[38;5;28;01mexcept\u001b[39;00m \u001b[38;5;167;01mConnectionError\u001b[39;00m:\n\u001b[0;32m   1376\u001b[0m         \u001b[38;5;28mself\u001b[39m\u001b[38;5;241m.\u001b[39mclose()\n",
      "File \u001b[1;32mC:\\Python311\\Lib\\http\\client.py:318\u001b[0m, in \u001b[0;36mHTTPResponse.begin\u001b[1;34m(self)\u001b[0m\n\u001b[0;32m    316\u001b[0m \u001b[38;5;66;03m# read until we get a non-100 response\u001b[39;00m\n\u001b[0;32m    317\u001b[0m \u001b[38;5;28;01mwhile\u001b[39;00m \u001b[38;5;28;01mTrue\u001b[39;00m:\n\u001b[1;32m--> 318\u001b[0m     version, status, reason \u001b[38;5;241m=\u001b[39m \u001b[38;5;28;43mself\u001b[39;49m\u001b[38;5;241;43m.\u001b[39;49m\u001b[43m_read_status\u001b[49m\u001b[43m(\u001b[49m\u001b[43m)\u001b[49m\n\u001b[0;32m    319\u001b[0m     \u001b[38;5;28;01mif\u001b[39;00m status \u001b[38;5;241m!=\u001b[39m CONTINUE:\n\u001b[0;32m    320\u001b[0m         \u001b[38;5;28;01mbreak\u001b[39;00m\n",
      "File \u001b[1;32mC:\\Python311\\Lib\\http\\client.py:279\u001b[0m, in \u001b[0;36mHTTPResponse._read_status\u001b[1;34m(self)\u001b[0m\n\u001b[0;32m    278\u001b[0m \u001b[38;5;28;01mdef\u001b[39;00m \u001b[38;5;21m_read_status\u001b[39m(\u001b[38;5;28mself\u001b[39m):\n\u001b[1;32m--> 279\u001b[0m     line \u001b[38;5;241m=\u001b[39m \u001b[38;5;28mstr\u001b[39m(\u001b[38;5;28mself\u001b[39m\u001b[38;5;241m.\u001b[39mfp\u001b[38;5;241m.\u001b[39mreadline(_MAXLINE \u001b[38;5;241m+\u001b[39m \u001b[38;5;241m1\u001b[39m), \u001b[38;5;124m\"\u001b[39m\u001b[38;5;124miso-8859-1\u001b[39m\u001b[38;5;124m\"\u001b[39m)\n\u001b[0;32m    280\u001b[0m     \u001b[38;5;28;01mif\u001b[39;00m \u001b[38;5;28mlen\u001b[39m(line) \u001b[38;5;241m>\u001b[39m _MAXLINE:\n\u001b[0;32m    281\u001b[0m         \u001b[38;5;28;01mraise\u001b[39;00m LineTooLong(\u001b[38;5;124m\"\u001b[39m\u001b[38;5;124mstatus line\u001b[39m\u001b[38;5;124m\"\u001b[39m)\n",
      "File \u001b[1;32mC:\\Python311\\Lib\\socket.py:705\u001b[0m, in \u001b[0;36mSocketIO.readinto\u001b[1;34m(self, b)\u001b[0m\n\u001b[0;32m    703\u001b[0m \u001b[38;5;28;01mwhile\u001b[39;00m \u001b[38;5;28;01mTrue\u001b[39;00m:\n\u001b[0;32m    704\u001b[0m     \u001b[38;5;28;01mtry\u001b[39;00m:\n\u001b[1;32m--> 705\u001b[0m         \u001b[38;5;28;01mreturn\u001b[39;00m \u001b[38;5;28;43mself\u001b[39;49m\u001b[38;5;241;43m.\u001b[39;49m\u001b[43m_sock\u001b[49m\u001b[38;5;241;43m.\u001b[39;49m\u001b[43mrecv_into\u001b[49m\u001b[43m(\u001b[49m\u001b[43mb\u001b[49m\u001b[43m)\u001b[49m\n\u001b[0;32m    706\u001b[0m     \u001b[38;5;28;01mexcept\u001b[39;00m timeout:\n\u001b[0;32m    707\u001b[0m         \u001b[38;5;28mself\u001b[39m\u001b[38;5;241m.\u001b[39m_timeout_occurred \u001b[38;5;241m=\u001b[39m \u001b[38;5;28;01mTrue\u001b[39;00m\n",
      "File \u001b[1;32mC:\\Python311\\Lib\\ssl.py:1278\u001b[0m, in \u001b[0;36mSSLSocket.recv_into\u001b[1;34m(self, buffer, nbytes, flags)\u001b[0m\n\u001b[0;32m   1274\u001b[0m     \u001b[38;5;28;01mif\u001b[39;00m flags \u001b[38;5;241m!=\u001b[39m \u001b[38;5;241m0\u001b[39m:\n\u001b[0;32m   1275\u001b[0m         \u001b[38;5;28;01mraise\u001b[39;00m \u001b[38;5;167;01mValueError\u001b[39;00m(\n\u001b[0;32m   1276\u001b[0m           \u001b[38;5;124m\"\u001b[39m\u001b[38;5;124mnon-zero flags not allowed in calls to recv_into() on \u001b[39m\u001b[38;5;132;01m%s\u001b[39;00m\u001b[38;5;124m\"\u001b[39m \u001b[38;5;241m%\u001b[39m\n\u001b[0;32m   1277\u001b[0m           \u001b[38;5;28mself\u001b[39m\u001b[38;5;241m.\u001b[39m\u001b[38;5;18m__class__\u001b[39m)\n\u001b[1;32m-> 1278\u001b[0m     \u001b[38;5;28;01mreturn\u001b[39;00m \u001b[38;5;28;43mself\u001b[39;49m\u001b[38;5;241;43m.\u001b[39;49m\u001b[43mread\u001b[49m\u001b[43m(\u001b[49m\u001b[43mnbytes\u001b[49m\u001b[43m,\u001b[49m\u001b[43m \u001b[49m\u001b[43mbuffer\u001b[49m\u001b[43m)\u001b[49m\n\u001b[0;32m   1279\u001b[0m \u001b[38;5;28;01melse\u001b[39;00m:\n\u001b[0;32m   1280\u001b[0m     \u001b[38;5;28;01mreturn\u001b[39;00m \u001b[38;5;28msuper\u001b[39m()\u001b[38;5;241m.\u001b[39mrecv_into(buffer, nbytes, flags)\n",
      "File \u001b[1;32mC:\\Python311\\Lib\\ssl.py:1134\u001b[0m, in \u001b[0;36mSSLSocket.read\u001b[1;34m(self, len, buffer)\u001b[0m\n\u001b[0;32m   1132\u001b[0m \u001b[38;5;28;01mtry\u001b[39;00m:\n\u001b[0;32m   1133\u001b[0m     \u001b[38;5;28;01mif\u001b[39;00m buffer \u001b[38;5;129;01mis\u001b[39;00m \u001b[38;5;129;01mnot\u001b[39;00m \u001b[38;5;28;01mNone\u001b[39;00m:\n\u001b[1;32m-> 1134\u001b[0m         \u001b[38;5;28;01mreturn\u001b[39;00m \u001b[38;5;28;43mself\u001b[39;49m\u001b[38;5;241;43m.\u001b[39;49m\u001b[43m_sslobj\u001b[49m\u001b[38;5;241;43m.\u001b[39;49m\u001b[43mread\u001b[49m\u001b[43m(\u001b[49m\u001b[38;5;28;43mlen\u001b[39;49m\u001b[43m,\u001b[49m\u001b[43m \u001b[49m\u001b[43mbuffer\u001b[49m\u001b[43m)\u001b[49m\n\u001b[0;32m   1135\u001b[0m     \u001b[38;5;28;01melse\u001b[39;00m:\n\u001b[0;32m   1136\u001b[0m         \u001b[38;5;28;01mreturn\u001b[39;00m \u001b[38;5;28mself\u001b[39m\u001b[38;5;241m.\u001b[39m_sslobj\u001b[38;5;241m.\u001b[39mread(\u001b[38;5;28mlen\u001b[39m)\n",
      "\u001b[1;31mKeyboardInterrupt\u001b[0m: "
     ]
    }
   ],
   "source": [
    "get_forms_from_url_list(form_4_urls_to_collect) \n",
    "# TODO: Make this network efficient. Each file is approx 25KB for only 100 key bytes of info\n",
    "# Grab a form, make it into a dataframe, add it up.\n",
    "# Save quarterly dataframes as CSVs with ticker and quarter"
   ]
  },
  {
   "cell_type": "code",
   "execution_count": 23,
   "id": "d9a3076c-04cb-4eca-ae3f-9f562160a6e5",
   "metadata": {
    "tags": []
   },
   "outputs": [
    {
     "data": {
      "text/plain": [
       "['forms/0001127602-23-010343.txt',\n",
       " 'forms/0001127602-23-010346.txt',\n",
       " 'forms/0001127602-23-010481.txt',\n",
       " 'forms/0001127602-23-010750.txt',\n",
       " 'forms/0001127602-23-010933.txt']"
      ]
     },
     "execution_count": 23,
     "metadata": {},
     "output_type": "execute_result"
    }
   ],
   "source": [
    "form_4_paths = [\"forms/\" + filepath for filepath in os.listdir(\"forms\")]\n",
    "form_4_paths"
   ]
  },
  {
   "cell_type": "markdown",
   "id": "872a697c-8073-4870-82d4-2a8bc48bec7a",
   "metadata": {},
   "source": [
    "Time to parse the XML and extract key form 4 data..."
   ]
  },
  {
   "cell_type": "code",
   "execution_count": 24,
   "id": "4bcd49fb-d299-48b5-8c05-39a99c80e8ff",
   "metadata": {
    "tags": []
   },
   "outputs": [],
   "source": [
    "def get_XML_tree_from_file_path(file_path):\n",
    "    file_lines = []\n",
    "    with open(file_path, \"r\") as infile:\n",
    "        file_lines = infile.readlines()\n",
    "    XML_string = \"\".join(file_lines[file_lines.index('<XML>\\n')+1:file_lines.index('</XML>\\n')])\n",
    "    return ET.fromstring(XML_string)"
   ]
  },
  {
   "cell_type": "markdown",
   "id": "bdd9ab3a-67ef-40a9-83bb-21d98068fadd",
   "metadata": {
    "tags": []
   },
   "source": [
    "Okay we've sort of figured out how to walk through the XML tree, let's define the data we're trying to extract:\n",
    "\n",
    "1. Name of Reporting Person\n",
    "2. Title of Reporting Person\n",
    "3. Issuer Name\n",
    "4. Issuer Ticker\n",
    "5. Non-Derivative Securities\n",
    "    * Title of Security\n",
    "    * Date\n",
    "    * Code\n",
    "    * Amount\n",
    "    * Security Acquired or Disposed A / D\n",
    "    * Price\n",
    "    * Amount Total Following Reported Transaction\n",
    "    * Ownership Direct or Indirect D / I\n",
    "    * Nature of Indirect Beneficial Ownership\n",
    "6. Derivative Securities\n",
    "    * Title of Security\n",
    "    * Exercise Price\n",
    "    * Date\n",
    "    * Code\n",
    "    * Amount\n",
    "    * Security Acquired or Disposed A / D\n",
    "    * Date Exercisable\n",
    "    * Date of Expiry\n",
    "    * Title of Security Underlying\n",
    "    * Amount of Security Underlying\n",
    "    * Price of Derivative Security\n",
    "    * Amount of Derivative Security Total Following Reported Transaction\n",
    "    * Ownership Form Direct or Indirect D / A\n",
    "    * Nature of Indirect Beneficial Ownership"
   ]
  },
  {
   "cell_type": "code",
   "execution_count": 25,
   "id": "f63d5b64-3fc8-46f7-b4fc-d0863f33132b",
   "metadata": {
    "tags": []
   },
   "outputs": [
    {
     "data": {
      "text/plain": [
       "[<Element 'schemaVersion' at 0x0000026E09251030>,\n",
       " <Element 'documentType' at 0x0000026E09250FE0>,\n",
       " <Element 'periodOfReport' at 0x0000026E09250F90>,\n",
       " <Element 'issuer' at 0x0000026E09250F40>,\n",
       " <Element 'reportingOwner' at 0x0000026E09250C70>,\n",
       " <Element 'aff10b5One' at 0x0000026E09250630>,\n",
       " <Element 'nonDerivativeTable' at 0x0000026E09250540>,\n",
       " <Element 'derivativeTable' at 0x0000026E091D9580>,\n",
       " <Element 'footnotes' at 0x0000026E091DBF10>,\n",
       " <Element 'ownerSignature' at 0x0000026E092040E0>]"
      ]
     },
     "execution_count": 25,
     "metadata": {},
     "output_type": "execute_result"
    }
   ],
   "source": [
    "XML_tree = get_XML_tree_from_file_path(form_4_paths[-1])\n",
    "[i for i in XML_tree]"
   ]
  },
  {
   "cell_type": "code",
   "execution_count": 26,
   "id": "ad2c68d6-d11c-4829-9019-c9f73e4ce545",
   "metadata": {
    "tags": []
   },
   "outputs": [],
   "source": [
    "def get_text_from_XML_tree_and_xpath_string(XML_tree, xpath):\n",
    "    result = XML_tree.find(xpath)\n",
    "    return result.text if result is not None else result"
   ]
  },
  {
   "cell_type": "code",
   "execution_count": 27,
   "id": "0a0aeacb-adf9-4a30-a004-3ad115990eb3",
   "metadata": {
    "tags": []
   },
   "outputs": [],
   "source": [
    "def get_form_4_dict_from_XML_tree(XML_tree):\n",
    "    form_4_dict = {\n",
    "        \"name_of_reporting_person\": \n",
    "        get_text_from_XML_tree_and_xpath_string(XML_tree, './reportingOwner/reportingOwnerId/rptOwnerName'),\n",
    "        \"title_of_reporting_person\": \n",
    "        get_text_from_XML_tree_and_xpath_string(XML_tree, './reportingOwner/reportingOwnerRelationship/officerTitle'),\n",
    "        \"issuer_name\":\n",
    "        get_text_from_XML_tree_and_xpath_string(XML_tree, './issuer/issuerName'),\n",
    "        \"issuer_ticker\":\n",
    "        get_text_from_XML_tree_and_xpath_string(XML_tree, './issuer/issuerTradingSymbol'),\n",
    "        \"non_derivative_table\": [\n",
    "            {\n",
    "                \"title_of_security\":\n",
    "                get_text_from_XML_tree_and_xpath_string(non_derivative_transaction, './securityTitle/value'),\n",
    "                \"transaction_date\":\n",
    "                get_text_from_XML_tree_and_xpath_string(non_derivative_transaction, './transactionDate/value'),\n",
    "                \"transaction_code\":\n",
    "                get_text_from_XML_tree_and_xpath_string(non_derivative_transaction, './transactionCoding/transactionCode'),\n",
    "                \"amount_of_shares\":\n",
    "                get_text_from_XML_tree_and_xpath_string(non_derivative_transaction, './transactionAmounts/transactionShares/value'),\n",
    "                \"security_acquired_or_disposed\":\n",
    "                get_text_from_XML_tree_and_xpath_string(non_derivative_transaction, './transactionAmounts/transactionAcquiredDisposedCode/value'),\n",
    "                \"price\":\n",
    "                get_text_from_XML_tree_and_xpath_string(non_derivative_transaction, './transactionAmounts/transactionPricePerShare/value'),\n",
    "                \"amount_owned_following_transaction\":\n",
    "                get_text_from_XML_tree_and_xpath_string(non_derivative_transaction, './postTransactionAmounts/sharesOwnedFollowingTransaction/value'),\n",
    "                \"ownership_direct_or_indirect\":\n",
    "                get_text_from_XML_tree_and_xpath_string(non_derivative_transaction, './ownershipNature/directOrIndirectOwnership/value'),\n",
    "                \"nature_of_indirect_ownership\":\n",
    "                get_text_from_XML_tree_and_xpath_string(non_derivative_transaction, './ownershipNature/natureOfOwnership/value'),\n",
    "            } for non_derivative_transaction in XML_tree.find('./nonDerivativeTable').findall('nonDerivativeTransaction')\n",
    "        ],\n",
    "        \"derivative_table\": [\n",
    "            {\n",
    "                \"title_of_security\":\n",
    "                get_text_from_XML_tree_and_xpath_string(derivative_transaction, './securityTitle/value'),\n",
    "                \"transaction_date\":\n",
    "                get_text_from_XML_tree_and_xpath_string(derivative_transaction, './transactionDate/value'),\n",
    "                \"transaction_code\":\n",
    "                get_text_from_XML_tree_and_xpath_string(derivative_transaction, './transactionCoding/transactionCode'),\n",
    "                \"amount_of_shares\":\n",
    "                get_text_from_XML_tree_and_xpath_string(derivative_transaction, './transactionAmounts/transactionShares/value'),\n",
    "                \"security_acquired_or_disposed\":\n",
    "                get_text_from_XML_tree_and_xpath_string(derivative_transaction, './transactionAmounts/transactionAcquiredDisposedCode/value'),\n",
    "                \"price\":\n",
    "                get_text_from_XML_tree_and_xpath_string(derivative_transaction, './transactionAmounts/transactionPricePerShare/value'),\n",
    "                \"amount_owned_following_transaction\":\n",
    "                get_text_from_XML_tree_and_xpath_string(derivative_transaction, './postTransactionAmounts/sharesOwnedFollowingTransaction/value'),\n",
    "                \"ownership_direct_or_indirect\":\n",
    "                get_text_from_XML_tree_and_xpath_string(derivative_transaction, './ownershipNature/directOrIndirectOwnership/value'),\n",
    "                \"nature_of_indirect_ownership\":\n",
    "                get_text_from_XML_tree_and_xpath_string(derivative_transaction, './ownershipNature/natureOfOwnership/value'),\n",
    "                \"date_exercisable\":\n",
    "                get_text_from_XML_tree_and_xpath_string(derivative_transaction, './exerciseDate/value'),\n",
    "                \"date_of_expiry\":\n",
    "                get_text_from_XML_tree_and_xpath_string(derivative_transaction, './expirationDate/value'),\n",
    "                \"title_of_security_underlying\":\n",
    "                get_text_from_XML_tree_and_xpath_string(derivative_transaction, './underlyingSecurity/underlyingSecurityTitle/value'),\n",
    "                \"amount_of_security_underlying\":\n",
    "                get_text_from_XML_tree_and_xpath_string(derivative_transaction, './underlyingSecurity/underlyingSecurityShares/value'),\n",
    "                \"exercise_price\":\n",
    "                get_text_from_XML_tree_and_xpath_string(derivative_transaction, './conversionOrExercisePrice/value'),\n",
    "            } for derivative_transaction in XML_tree.find('./derivativeTable').findall('derivativeTransaction')\n",
    "        ]\n",
    "    }\n",
    "    return form_4_dict"
   ]
  },
  {
   "cell_type": "code",
   "execution_count": 28,
   "id": "913fd3b1-7715-4286-b25c-4eefb0e95681",
   "metadata": {
    "tags": []
   },
   "outputs": [
    {
     "data": {
      "text/plain": [
       "{'name_of_reporting_person': 'Benioff Marc',\n",
       " 'title_of_reporting_person': 'Chair and CEO',\n",
       " 'issuer_name': 'Salesforce, Inc.',\n",
       " 'issuer_ticker': 'CRM',\n",
       " 'non_derivative_table': [{'title_of_security': 'Common Stock',\n",
       "   'transaction_date': '2023-03-17',\n",
       "   'transaction_code': 'M',\n",
       "   'amount_of_shares': '725',\n",
       "   'security_acquired_or_disposed': 'A',\n",
       "   'price': '75.57',\n",
       "   'amount_owned_following_transaction': '27754334',\n",
       "   'ownership_direct_or_indirect': 'D',\n",
       "   'nature_of_indirect_ownership': None},\n",
       "  {'title_of_security': 'Common Stock',\n",
       "   'transaction_date': '2023-03-17',\n",
       "   'transaction_code': 'S',\n",
       "   'amount_of_shares': '341',\n",
       "   'security_acquired_or_disposed': 'D',\n",
       "   'price': '184.8934',\n",
       "   'amount_owned_following_transaction': '27753993',\n",
       "   'ownership_direct_or_indirect': 'D',\n",
       "   'nature_of_indirect_ownership': None},\n",
       "  {'title_of_security': 'Common Stock',\n",
       "   'transaction_date': '2023-03-17',\n",
       "   'transaction_code': 'S',\n",
       "   'amount_of_shares': '326',\n",
       "   'security_acquired_or_disposed': 'D',\n",
       "   'price': '185.8831',\n",
       "   'amount_owned_following_transaction': '27753667',\n",
       "   'ownership_direct_or_indirect': 'D',\n",
       "   'nature_of_indirect_ownership': None},\n",
       "  {'title_of_security': 'Common Stock',\n",
       "   'transaction_date': '2023-03-17',\n",
       "   'transaction_code': 'S',\n",
       "   'amount_of_shares': '58',\n",
       "   'security_acquired_or_disposed': 'D',\n",
       "   'price': '186.7848',\n",
       "   'amount_owned_following_transaction': '27753609',\n",
       "   'ownership_direct_or_indirect': 'D',\n",
       "   'nature_of_indirect_ownership': None}],\n",
       " 'derivative_table': [{'title_of_security': 'Non-qualified Stock Option (Right to Buy)',\n",
       "   'transaction_date': '2023-03-17',\n",
       "   'transaction_code': 'M',\n",
       "   'amount_of_shares': '725',\n",
       "   'security_acquired_or_disposed': 'D',\n",
       "   'price': '0',\n",
       "   'amount_owned_following_transaction': '113357',\n",
       "   'ownership_direct_or_indirect': 'D',\n",
       "   'nature_of_indirect_ownership': None,\n",
       "   'date_exercisable': '2017-11-22',\n",
       "   'date_of_expiry': '2023-11-22',\n",
       "   'title_of_security_underlying': 'Common Stock',\n",
       "   'amount_of_security_underlying': '725',\n",
       "   'exercise_price': '75.57'}]}"
      ]
     },
     "execution_count": 28,
     "metadata": {},
     "output_type": "execute_result"
    }
   ],
   "source": [
    "form_4_dict = get_form_4_dict_from_XML_tree(XML_tree)\n",
    "form_4_dict"
   ]
  },
  {
   "cell_type": "code",
   "execution_count": 29,
   "id": "d0ad5775-a2a1-4896-a59e-aed8162e314f",
   "metadata": {
    "tags": []
   },
   "outputs": [
    {
     "data": {
      "text/html": [
       "<div>\n",
       "<style scoped>\n",
       "    .dataframe tbody tr th:only-of-type {\n",
       "        vertical-align: middle;\n",
       "    }\n",
       "\n",
       "    .dataframe tbody tr th {\n",
       "        vertical-align: top;\n",
       "    }\n",
       "\n",
       "    .dataframe thead th {\n",
       "        text-align: right;\n",
       "    }\n",
       "</style>\n",
       "<table border=\"1\" class=\"dataframe\">\n",
       "  <thead>\n",
       "    <tr style=\"text-align: right;\">\n",
       "      <th></th>\n",
       "      <th>issuer_name</th>\n",
       "      <th>issuer_ticker</th>\n",
       "      <th>name_of_reporting_person</th>\n",
       "      <th>title_of_reporting_person</th>\n",
       "      <th>title_of_security</th>\n",
       "      <th>transaction_date</th>\n",
       "      <th>transaction_code</th>\n",
       "      <th>amount_of_shares</th>\n",
       "      <th>security_acquired_or_disposed</th>\n",
       "      <th>price</th>\n",
       "      <th>amount_owned_following_transaction</th>\n",
       "      <th>ownership_direct_or_indirect</th>\n",
       "      <th>nature_of_indirect_ownership</th>\n",
       "      <th>date_exercisable</th>\n",
       "      <th>date_of_expiry</th>\n",
       "      <th>title_of_security_underlying</th>\n",
       "      <th>amount_of_security_underlying</th>\n",
       "      <th>exercise_price</th>\n",
       "    </tr>\n",
       "  </thead>\n",
       "  <tbody>\n",
       "    <tr>\n",
       "      <th>0</th>\n",
       "      <td>Salesforce, Inc.</td>\n",
       "      <td>CRM</td>\n",
       "      <td>Benioff Marc</td>\n",
       "      <td>Chair and CEO</td>\n",
       "      <td>Common Stock</td>\n",
       "      <td>2023-03-17</td>\n",
       "      <td>M</td>\n",
       "      <td>725</td>\n",
       "      <td>A</td>\n",
       "      <td>75.5700</td>\n",
       "      <td>27754334</td>\n",
       "      <td>D</td>\n",
       "      <td>None</td>\n",
       "      <td>NaT</td>\n",
       "      <td>NaT</td>\n",
       "      <td>NaN</td>\n",
       "      <td>&lt;NA&gt;</td>\n",
       "      <td>NaN</td>\n",
       "    </tr>\n",
       "    <tr>\n",
       "      <th>1</th>\n",
       "      <td>Salesforce, Inc.</td>\n",
       "      <td>CRM</td>\n",
       "      <td>Benioff Marc</td>\n",
       "      <td>Chair and CEO</td>\n",
       "      <td>Common Stock</td>\n",
       "      <td>2023-03-17</td>\n",
       "      <td>S</td>\n",
       "      <td>341</td>\n",
       "      <td>D</td>\n",
       "      <td>184.8934</td>\n",
       "      <td>27753993</td>\n",
       "      <td>D</td>\n",
       "      <td>None</td>\n",
       "      <td>NaT</td>\n",
       "      <td>NaT</td>\n",
       "      <td>NaN</td>\n",
       "      <td>&lt;NA&gt;</td>\n",
       "      <td>NaN</td>\n",
       "    </tr>\n",
       "    <tr>\n",
       "      <th>2</th>\n",
       "      <td>Salesforce, Inc.</td>\n",
       "      <td>CRM</td>\n",
       "      <td>Benioff Marc</td>\n",
       "      <td>Chair and CEO</td>\n",
       "      <td>Common Stock</td>\n",
       "      <td>2023-03-17</td>\n",
       "      <td>S</td>\n",
       "      <td>326</td>\n",
       "      <td>D</td>\n",
       "      <td>185.8831</td>\n",
       "      <td>27753667</td>\n",
       "      <td>D</td>\n",
       "      <td>None</td>\n",
       "      <td>NaT</td>\n",
       "      <td>NaT</td>\n",
       "      <td>NaN</td>\n",
       "      <td>&lt;NA&gt;</td>\n",
       "      <td>NaN</td>\n",
       "    </tr>\n",
       "    <tr>\n",
       "      <th>3</th>\n",
       "      <td>Salesforce, Inc.</td>\n",
       "      <td>CRM</td>\n",
       "      <td>Benioff Marc</td>\n",
       "      <td>Chair and CEO</td>\n",
       "      <td>Common Stock</td>\n",
       "      <td>2023-03-17</td>\n",
       "      <td>S</td>\n",
       "      <td>58</td>\n",
       "      <td>D</td>\n",
       "      <td>186.7848</td>\n",
       "      <td>27753609</td>\n",
       "      <td>D</td>\n",
       "      <td>None</td>\n",
       "      <td>NaT</td>\n",
       "      <td>NaT</td>\n",
       "      <td>NaN</td>\n",
       "      <td>&lt;NA&gt;</td>\n",
       "      <td>NaN</td>\n",
       "    </tr>\n",
       "    <tr>\n",
       "      <th>4</th>\n",
       "      <td>Salesforce, Inc.</td>\n",
       "      <td>CRM</td>\n",
       "      <td>Benioff Marc</td>\n",
       "      <td>Chair and CEO</td>\n",
       "      <td>Non-qualified Stock Option (Right to Buy)</td>\n",
       "      <td>2023-03-17</td>\n",
       "      <td>M</td>\n",
       "      <td>725</td>\n",
       "      <td>D</td>\n",
       "      <td>0.0000</td>\n",
       "      <td>113357</td>\n",
       "      <td>D</td>\n",
       "      <td>None</td>\n",
       "      <td>2017-11-22</td>\n",
       "      <td>2023-11-22</td>\n",
       "      <td>Common Stock</td>\n",
       "      <td>725</td>\n",
       "      <td>75.57</td>\n",
       "    </tr>\n",
       "  </tbody>\n",
       "</table>\n",
       "</div>"
      ],
      "text/plain": [
       "        issuer_name issuer_ticker name_of_reporting_person  \\\n",
       "0  Salesforce, Inc.           CRM             Benioff Marc   \n",
       "1  Salesforce, Inc.           CRM             Benioff Marc   \n",
       "2  Salesforce, Inc.           CRM             Benioff Marc   \n",
       "3  Salesforce, Inc.           CRM             Benioff Marc   \n",
       "4  Salesforce, Inc.           CRM             Benioff Marc   \n",
       "\n",
       "  title_of_reporting_person                          title_of_security  \\\n",
       "0             Chair and CEO                               Common Stock   \n",
       "1             Chair and CEO                               Common Stock   \n",
       "2             Chair and CEO                               Common Stock   \n",
       "3             Chair and CEO                               Common Stock   \n",
       "4             Chair and CEO  Non-qualified Stock Option (Right to Buy)   \n",
       "\n",
       "  transaction_date transaction_code  amount_of_shares  \\\n",
       "0       2023-03-17                M               725   \n",
       "1       2023-03-17                S               341   \n",
       "2       2023-03-17                S               326   \n",
       "3       2023-03-17                S                58   \n",
       "4       2023-03-17                M               725   \n",
       "\n",
       "  security_acquired_or_disposed     price  amount_owned_following_transaction  \\\n",
       "0                             A   75.5700                            27754334   \n",
       "1                             D  184.8934                            27753993   \n",
       "2                             D  185.8831                            27753667   \n",
       "3                             D  186.7848                            27753609   \n",
       "4                             D    0.0000                              113357   \n",
       "\n",
       "  ownership_direct_or_indirect nature_of_indirect_ownership date_exercisable  \\\n",
       "0                            D                         None              NaT   \n",
       "1                            D                         None              NaT   \n",
       "2                            D                         None              NaT   \n",
       "3                            D                         None              NaT   \n",
       "4                            D                         None       2017-11-22   \n",
       "\n",
       "  date_of_expiry title_of_security_underlying  amount_of_security_underlying  \\\n",
       "0            NaT                          NaN                           <NA>   \n",
       "1            NaT                          NaN                           <NA>   \n",
       "2            NaT                          NaN                           <NA>   \n",
       "3            NaT                          NaN                           <NA>   \n",
       "4     2023-11-22                 Common Stock                            725   \n",
       "\n",
       "   exercise_price  \n",
       "0             NaN  \n",
       "1             NaN  \n",
       "2             NaN  \n",
       "3             NaN  \n",
       "4           75.57  "
      ]
     },
     "execution_count": 29,
     "metadata": {},
     "output_type": "execute_result"
    }
   ],
   "source": [
    "def get_form_4_transaction_dataframe_from_form_4_dict(form_4_dict):\n",
    "    non_derivative_dataframe = pd.DataFrame(form_4_dict['non_derivative_table'])\n",
    "    derivative_dataframe = pd.DataFrame(form_4_dict['derivative_table'])\n",
    "    return_dataframe = pd.concat([non_derivative_dataframe, derivative_dataframe])\n",
    "    keys_to_add_to_all_rows = [\n",
    "        'name_of_reporting_person', \n",
    "        'title_of_reporting_person',\n",
    "        'issuer_name',\n",
    "        'issuer_ticker'\n",
    "    ]\n",
    "    for key in keys_to_add_to_all_rows:\n",
    "        return_dataframe[key] = form_4_dict[key]\n",
    "    column_order = [\n",
    "        'issuer_name',\n",
    "        'issuer_ticker',\n",
    "        'name_of_reporting_person',\n",
    "        'title_of_reporting_person',    \n",
    "        'title_of_security',\n",
    "        'transaction_date',\n",
    "        'transaction_code',\n",
    "        'amount_of_shares',\n",
    "        'security_acquired_or_disposed',\n",
    "        'price',\n",
    "        'amount_owned_following_transaction',\n",
    "        'ownership_direct_or_indirect',\n",
    "        'nature_of_indirect_ownership',\n",
    "        'date_exercisable',\n",
    "        'date_of_expiry',\n",
    "        'title_of_security_underlying',\n",
    "        'amount_of_security_underlying',\n",
    "        'exercise_price',\n",
    "    ]\n",
    "    return_dataframe = return_dataframe[column_order]\n",
    "    return_dataframe['transaction_date'] = pd.to_datetime(return_dataframe['transaction_date'])\n",
    "    return_dataframe['amount_of_shares'] = return_dataframe['amount_of_shares'].astype(pd.Int64Dtype())\n",
    "    return_dataframe['price'] = return_dataframe['price'].astype(np.float64)\n",
    "    return_dataframe['amount_owned_following_transaction'] = return_dataframe['amount_owned_following_transaction'].astype(pd.Int64Dtype())\n",
    "    return_dataframe['date_exercisable'] = pd.to_datetime(return_dataframe['date_exercisable'])\n",
    "    return_dataframe['date_of_expiry'] = pd.to_datetime(return_dataframe['date_of_expiry'])\n",
    "    return_dataframe['amount_of_security_underlying'] = return_dataframe['amount_of_security_underlying'].astype(pd.Int64Dtype())\n",
    "    return_dataframe['exercise_price'] = return_dataframe['exercise_price'].astype(np.float64)\n",
    "    return return_dataframe.reset_index(drop=True)\n",
    "\n",
    "get_form_4_transaction_dataframe_from_form_4_dict(form_4_dict)"
   ]
  },
  {
   "cell_type": "markdown",
   "id": "fddc237f-6873-42a3-9c4e-29ad26ab52a8",
   "metadata": {
    "tags": []
   },
   "source": [
    "Now, let's pull together a few form 4's into one dataframe so we can start plotting time series data."
   ]
  },
  {
   "cell_type": "code",
   "execution_count": 30,
   "id": "9e66e4dc-d86e-4a16-a355-ea5d5262af70",
   "metadata": {
    "tags": []
   },
   "outputs": [],
   "source": [
    "def get_form_4_dataframe_from_form_4_filepath_list(form_4_filepath_list):\n",
    "    return_dataframe = pd.DataFrame()\n",
    "    for filepath in form_4_filepath_list:\n",
    "        XML_tree = get_XML_tree_from_file_path(filepath)\n",
    "        form_4_dict = get_form_4_dict_from_XML_tree(XML_tree)\n",
    "        dataframe = get_form_4_transaction_dataframe_from_form_4_dict(form_4_dict)\n",
    "        return_dataframe = pd.concat([return_dataframe, dataframe])\n",
    "    return return_dataframe.reset_index(drop=True)\n",
    "    \n",
    "form_4_dataframe = get_form_4_dataframe_from_form_4_filepath_list(form_4_paths)"
   ]
  },
  {
   "cell_type": "code",
   "execution_count": 31,
   "id": "d0713d63-b86a-45d4-a81d-c17440da1d65",
   "metadata": {
    "tags": []
   },
   "outputs": [
    {
     "data": {
      "text/html": [
       "<div>\n",
       "<style scoped>\n",
       "    .dataframe tbody tr th:only-of-type {\n",
       "        vertical-align: middle;\n",
       "    }\n",
       "\n",
       "    .dataframe tbody tr th {\n",
       "        vertical-align: top;\n",
       "    }\n",
       "\n",
       "    .dataframe thead th {\n",
       "        text-align: right;\n",
       "    }\n",
       "</style>\n",
       "<table border=\"1\" class=\"dataframe\">\n",
       "  <thead>\n",
       "    <tr style=\"text-align: right;\">\n",
       "      <th></th>\n",
       "      <th>title_of_security</th>\n",
       "      <th>security_acquired_or_disposed</th>\n",
       "      <th>transaction_code</th>\n",
       "      <th>amount_of_shares</th>\n",
       "      <th>price</th>\n",
       "      <th>exercise_price</th>\n",
       "      <th>dollars_moved</th>\n",
       "    </tr>\n",
       "  </thead>\n",
       "  <tbody>\n",
       "    <tr>\n",
       "      <th>0</th>\n",
       "      <td>Common Stock</td>\n",
       "      <td>A</td>\n",
       "      <td>M</td>\n",
       "      <td>725</td>\n",
       "      <td>75.5700</td>\n",
       "      <td>NaN</td>\n",
       "      <td>54788.25</td>\n",
       "    </tr>\n",
       "    <tr>\n",
       "      <th>1</th>\n",
       "      <td>Common Stock</td>\n",
       "      <td>D</td>\n",
       "      <td>S</td>\n",
       "      <td>52</td>\n",
       "      <td>180.0762</td>\n",
       "      <td>NaN</td>\n",
       "      <td>9363.9624</td>\n",
       "    </tr>\n",
       "    <tr>\n",
       "      <th>2</th>\n",
       "      <td>Common Stock</td>\n",
       "      <td>D</td>\n",
       "      <td>S</td>\n",
       "      <td>314</td>\n",
       "      <td>181.7061</td>\n",
       "      <td>NaN</td>\n",
       "      <td>57055.7154</td>\n",
       "    </tr>\n",
       "    <tr>\n",
       "      <th>3</th>\n",
       "      <td>Common Stock</td>\n",
       "      <td>D</td>\n",
       "      <td>S</td>\n",
       "      <td>161</td>\n",
       "      <td>182.5880</td>\n",
       "      <td>NaN</td>\n",
       "      <td>29396.668</td>\n",
       "    </tr>\n",
       "    <tr>\n",
       "      <th>4</th>\n",
       "      <td>Common Stock</td>\n",
       "      <td>D</td>\n",
       "      <td>S</td>\n",
       "      <td>176</td>\n",
       "      <td>183.4825</td>\n",
       "      <td>NaN</td>\n",
       "      <td>32292.92</td>\n",
       "    </tr>\n",
       "    <tr>\n",
       "      <th>5</th>\n",
       "      <td>Common Stock</td>\n",
       "      <td>D</td>\n",
       "      <td>S</td>\n",
       "      <td>22</td>\n",
       "      <td>184.9400</td>\n",
       "      <td>NaN</td>\n",
       "      <td>4068.68</td>\n",
       "    </tr>\n",
       "    <tr>\n",
       "      <th>6</th>\n",
       "      <td>Non-qualified Stock Option (Right to Buy)</td>\n",
       "      <td>D</td>\n",
       "      <td>M</td>\n",
       "      <td>725</td>\n",
       "      <td>0.0000</td>\n",
       "      <td>75.57</td>\n",
       "      <td>54788.25</td>\n",
       "    </tr>\n",
       "    <tr>\n",
       "      <th>7</th>\n",
       "      <td>Common Stock</td>\n",
       "      <td>A</td>\n",
       "      <td>M</td>\n",
       "      <td>1250</td>\n",
       "      <td>75.5700</td>\n",
       "      <td>NaN</td>\n",
       "      <td>94462.5</td>\n",
       "    </tr>\n",
       "    <tr>\n",
       "      <th>8</th>\n",
       "      <td>Common Stock</td>\n",
       "      <td>D</td>\n",
       "      <td>S</td>\n",
       "      <td>1250</td>\n",
       "      <td>180.0336</td>\n",
       "      <td>NaN</td>\n",
       "      <td>225042.0</td>\n",
       "    </tr>\n",
       "    <tr>\n",
       "      <th>9</th>\n",
       "      <td>Non-qualified Stock Option (Right to Buy)</td>\n",
       "      <td>D</td>\n",
       "      <td>M</td>\n",
       "      <td>1250</td>\n",
       "      <td>0.0000</td>\n",
       "      <td>75.57</td>\n",
       "      <td>94462.5</td>\n",
       "    </tr>\n",
       "    <tr>\n",
       "      <th>10</th>\n",
       "      <td>Common Stock</td>\n",
       "      <td>A</td>\n",
       "      <td>M</td>\n",
       "      <td>725</td>\n",
       "      <td>75.5700</td>\n",
       "      <td>NaN</td>\n",
       "      <td>54788.25</td>\n",
       "    </tr>\n",
       "    <tr>\n",
       "      <th>11</th>\n",
       "      <td>Common Stock</td>\n",
       "      <td>D</td>\n",
       "      <td>S</td>\n",
       "      <td>185</td>\n",
       "      <td>180.0479</td>\n",
       "      <td>NaN</td>\n",
       "      <td>33308.8615</td>\n",
       "    </tr>\n",
       "    <tr>\n",
       "      <th>12</th>\n",
       "      <td>Common Stock</td>\n",
       "      <td>D</td>\n",
       "      <td>S</td>\n",
       "      <td>264</td>\n",
       "      <td>181.0300</td>\n",
       "      <td>NaN</td>\n",
       "      <td>47791.92</td>\n",
       "    </tr>\n",
       "    <tr>\n",
       "      <th>13</th>\n",
       "      <td>Common Stock</td>\n",
       "      <td>D</td>\n",
       "      <td>S</td>\n",
       "      <td>186</td>\n",
       "      <td>182.0111</td>\n",
       "      <td>NaN</td>\n",
       "      <td>33854.0646</td>\n",
       "    </tr>\n",
       "    <tr>\n",
       "      <th>14</th>\n",
       "      <td>Common Stock</td>\n",
       "      <td>D</td>\n",
       "      <td>S</td>\n",
       "      <td>90</td>\n",
       "      <td>183.0722</td>\n",
       "      <td>NaN</td>\n",
       "      <td>16476.498</td>\n",
       "    </tr>\n",
       "    <tr>\n",
       "      <th>15</th>\n",
       "      <td>Non-qualified Stock Option (Right to Buy)</td>\n",
       "      <td>D</td>\n",
       "      <td>M</td>\n",
       "      <td>725</td>\n",
       "      <td>0.0000</td>\n",
       "      <td>75.57</td>\n",
       "      <td>54788.25</td>\n",
       "    </tr>\n",
       "    <tr>\n",
       "      <th>16</th>\n",
       "      <td>Common Stock</td>\n",
       "      <td>A</td>\n",
       "      <td>M</td>\n",
       "      <td>725</td>\n",
       "      <td>75.5700</td>\n",
       "      <td>NaN</td>\n",
       "      <td>54788.25</td>\n",
       "    </tr>\n",
       "    <tr>\n",
       "      <th>17</th>\n",
       "      <td>Common Stock</td>\n",
       "      <td>D</td>\n",
       "      <td>S</td>\n",
       "      <td>97</td>\n",
       "      <td>183.9328</td>\n",
       "      <td>NaN</td>\n",
       "      <td>17841.4816</td>\n",
       "    </tr>\n",
       "    <tr>\n",
       "      <th>18</th>\n",
       "      <td>Common Stock</td>\n",
       "      <td>D</td>\n",
       "      <td>S</td>\n",
       "      <td>132</td>\n",
       "      <td>184.7383</td>\n",
       "      <td>NaN</td>\n",
       "      <td>24385.4556</td>\n",
       "    </tr>\n",
       "    <tr>\n",
       "      <th>19</th>\n",
       "      <td>Common Stock</td>\n",
       "      <td>D</td>\n",
       "      <td>S</td>\n",
       "      <td>88</td>\n",
       "      <td>186.0600</td>\n",
       "      <td>NaN</td>\n",
       "      <td>16373.28</td>\n",
       "    </tr>\n",
       "    <tr>\n",
       "      <th>20</th>\n",
       "      <td>Common Stock</td>\n",
       "      <td>D</td>\n",
       "      <td>S</td>\n",
       "      <td>408</td>\n",
       "      <td>186.8554</td>\n",
       "      <td>NaN</td>\n",
       "      <td>76237.0032</td>\n",
       "    </tr>\n",
       "    <tr>\n",
       "      <th>21</th>\n",
       "      <td>Non-qualified Stock Option (Right to Buy)</td>\n",
       "      <td>D</td>\n",
       "      <td>M</td>\n",
       "      <td>725</td>\n",
       "      <td>0.0000</td>\n",
       "      <td>75.57</td>\n",
       "      <td>54788.25</td>\n",
       "    </tr>\n",
       "    <tr>\n",
       "      <th>22</th>\n",
       "      <td>Common Stock</td>\n",
       "      <td>A</td>\n",
       "      <td>M</td>\n",
       "      <td>725</td>\n",
       "      <td>75.5700</td>\n",
       "      <td>NaN</td>\n",
       "      <td>54788.25</td>\n",
       "    </tr>\n",
       "    <tr>\n",
       "      <th>23</th>\n",
       "      <td>Common Stock</td>\n",
       "      <td>D</td>\n",
       "      <td>S</td>\n",
       "      <td>341</td>\n",
       "      <td>184.8934</td>\n",
       "      <td>NaN</td>\n",
       "      <td>63048.6494</td>\n",
       "    </tr>\n",
       "    <tr>\n",
       "      <th>24</th>\n",
       "      <td>Common Stock</td>\n",
       "      <td>D</td>\n",
       "      <td>S</td>\n",
       "      <td>326</td>\n",
       "      <td>185.8831</td>\n",
       "      <td>NaN</td>\n",
       "      <td>60597.8906</td>\n",
       "    </tr>\n",
       "    <tr>\n",
       "      <th>25</th>\n",
       "      <td>Common Stock</td>\n",
       "      <td>D</td>\n",
       "      <td>S</td>\n",
       "      <td>58</td>\n",
       "      <td>186.7848</td>\n",
       "      <td>NaN</td>\n",
       "      <td>10833.5184</td>\n",
       "    </tr>\n",
       "    <tr>\n",
       "      <th>26</th>\n",
       "      <td>Non-qualified Stock Option (Right to Buy)</td>\n",
       "      <td>D</td>\n",
       "      <td>M</td>\n",
       "      <td>725</td>\n",
       "      <td>0.0000</td>\n",
       "      <td>75.57</td>\n",
       "      <td>54788.25</td>\n",
       "    </tr>\n",
       "  </tbody>\n",
       "</table>\n",
       "</div>"
      ],
      "text/plain": [
       "                            title_of_security security_acquired_or_disposed  \\\n",
       "0                                Common Stock                             A   \n",
       "1                                Common Stock                             D   \n",
       "2                                Common Stock                             D   \n",
       "3                                Common Stock                             D   \n",
       "4                                Common Stock                             D   \n",
       "5                                Common Stock                             D   \n",
       "6   Non-qualified Stock Option (Right to Buy)                             D   \n",
       "7                                Common Stock                             A   \n",
       "8                                Common Stock                             D   \n",
       "9   Non-qualified Stock Option (Right to Buy)                             D   \n",
       "10                               Common Stock                             A   \n",
       "11                               Common Stock                             D   \n",
       "12                               Common Stock                             D   \n",
       "13                               Common Stock                             D   \n",
       "14                               Common Stock                             D   \n",
       "15  Non-qualified Stock Option (Right to Buy)                             D   \n",
       "16                               Common Stock                             A   \n",
       "17                               Common Stock                             D   \n",
       "18                               Common Stock                             D   \n",
       "19                               Common Stock                             D   \n",
       "20                               Common Stock                             D   \n",
       "21  Non-qualified Stock Option (Right to Buy)                             D   \n",
       "22                               Common Stock                             A   \n",
       "23                               Common Stock                             D   \n",
       "24                               Common Stock                             D   \n",
       "25                               Common Stock                             D   \n",
       "26  Non-qualified Stock Option (Right to Buy)                             D   \n",
       "\n",
       "   transaction_code  amount_of_shares     price  exercise_price dollars_moved  \n",
       "0                 M               725   75.5700             NaN      54788.25  \n",
       "1                 S                52  180.0762             NaN     9363.9624  \n",
       "2                 S               314  181.7061             NaN    57055.7154  \n",
       "3                 S               161  182.5880             NaN     29396.668  \n",
       "4                 S               176  183.4825             NaN      32292.92  \n",
       "5                 S                22  184.9400             NaN       4068.68  \n",
       "6                 M               725    0.0000           75.57      54788.25  \n",
       "7                 M              1250   75.5700             NaN       94462.5  \n",
       "8                 S              1250  180.0336             NaN      225042.0  \n",
       "9                 M              1250    0.0000           75.57       94462.5  \n",
       "10                M               725   75.5700             NaN      54788.25  \n",
       "11                S               185  180.0479             NaN    33308.8615  \n",
       "12                S               264  181.0300             NaN      47791.92  \n",
       "13                S               186  182.0111             NaN    33854.0646  \n",
       "14                S                90  183.0722             NaN     16476.498  \n",
       "15                M               725    0.0000           75.57      54788.25  \n",
       "16                M               725   75.5700             NaN      54788.25  \n",
       "17                S                97  183.9328             NaN    17841.4816  \n",
       "18                S               132  184.7383             NaN    24385.4556  \n",
       "19                S                88  186.0600             NaN      16373.28  \n",
       "20                S               408  186.8554             NaN    76237.0032  \n",
       "21                M               725    0.0000           75.57      54788.25  \n",
       "22                M               725   75.5700             NaN      54788.25  \n",
       "23                S               341  184.8934             NaN    63048.6494  \n",
       "24                S               326  185.8831             NaN    60597.8906  \n",
       "25                S                58  186.7848             NaN    10833.5184  \n",
       "26                M               725    0.0000           75.57      54788.25  "
      ]
     },
     "execution_count": 31,
     "metadata": {},
     "output_type": "execute_result"
    }
   ],
   "source": [
    "conditions = [\n",
    "    (form_4_dataframe['transaction_code']=='S'),\n",
    "    (form_4_dataframe['transaction_code']=='M') & (form_4_dataframe['title_of_security']=='Common Stock'),\n",
    "    (form_4_dataframe['transaction_code']=='M') & (form_4_dataframe['title_of_security']=='Non-qualified Stock Option (Right to Buy)'),\n",
    "]\n",
    "\n",
    "values = [\n",
    "    form_4_dataframe['amount_of_shares'] * form_4_dataframe['price'],\n",
    "    form_4_dataframe['amount_of_shares'] * form_4_dataframe['price'],\n",
    "    form_4_dataframe['amount_of_shares'] * form_4_dataframe['exercise_price'],\n",
    "]\n",
    "\n",
    "form_4_dataframe['dollars_moved'] = np.select(conditions, values)\n",
    "\n",
    "form_4_dataframe[[\n",
    "    'title_of_security',\n",
    "    'security_acquired_or_disposed',\n",
    "    'transaction_code',\n",
    "    'amount_of_shares',\n",
    "    'price',\n",
    "    'exercise_price', \n",
    "    'dollars_moved'\n",
    "]]"
   ]
  },
  {
   "cell_type": "markdown",
   "id": "8ac91eac-032c-41e7-86ba-aa7a78db98d2",
   "metadata": {},
   "source": [
    "Additional fields to calculate:\n",
    "* cash_moved\n",
    "* exercise_cash_paid"
   ]
  },
  {
   "cell_type": "code",
   "execution_count": 32,
   "id": "c49e1458-772d-4a11-ab17-5b6c24f6238d",
   "metadata": {
    "tags": []
   },
   "outputs": [],
   "source": [
    "transaction_code_dict = {\n",
    "    # General transaction codes\n",
    "    'P': 'Open market or private purchase of securities',\n",
    "    'S': 'Open market or private sale of securities',\n",
    "    'V': 'Transaction voluntarily reported earlier than required',\n",
    "    # Rule 16b-3 transaction codes\n",
    "    'A': 'Grant, award, or other acquisition',\n",
    "    'D': 'Sale (or disposition) back to the issuer of the securities',\n",
    "    'F': 'Payment of exercise price or tax liability by delivering or withholding securities',\n",
    "    'I': 'Discretionary transaction, which is an order to the broker to execute the transaction at the best possible price',\n",
    "    'M': 'Exercise or conversion of derivative security',\n",
    "    # Derivative securities codes\n",
    "    'C': 'Conversion of derivative security (usually options)',\n",
    "    'E': 'Expiration of short derivative position (usually options)',\n",
    "    'H': 'Expiration (or cancellation) of long derivative position with value received (usually options)',\n",
    "    'O': 'Exercise of out-of-the-money derivative securities (usually options)',\n",
    "    'X': 'Exercise of in-the-money or at-the-money derivatives securities (usually options)',\n",
    "    # Other sections 16b exempt transactions and small acquisition codes\n",
    "    'G': 'Bona fide gift form of any clauses',\n",
    "    'L': 'Small acquisition',\n",
    "    'W': 'Acquisition or disposition by will or laws of descent and distribution',\n",
    "    'Z': 'Deposit into or withdrawal from voting trust',\n",
    "    # Other transaction codes\n",
    "    'J': 'Other acquisition or disposition (transaction described in footnotes)',\n",
    "    'K': 'Transaction in equity swap or similar instrument',\n",
    "    'U': 'Disposition due to a tender of shares in a change of control transaction'\n",
    "}"
   ]
  },
  {
   "cell_type": "code",
   "execution_count": 33,
   "id": "91633108-4526-4db8-86d1-c00e68304c80",
   "metadata": {
    "tags": []
   },
   "outputs": [
    {
     "data": {
      "image/png": "[encoded data removed]",
      "text/plain": [
       "<Figure size 640x480 with 1 Axes>"
      ]
     },
     "metadata": {},
     "output_type": "display_data"
    }
   ],
   "source": [
    "def show_acquired_disposed_common_stock_by_person_chart(form_4_dateframe):\n",
    "    people = form_4_dataframe.groupby(\"name_of_reporting_person\")['price'].sum()\n",
    "    \n",
    "    ax_codes = people.plot.barh()\n",
    "    plt.show()\n",
    "    \n",
    "\n",
    "show_acquired_disposed_common_stock_by_person_chart(form_4_dataframe)\n",
    "    "
   ]
  }
 ],
 "metadata": {
  "kernelspec": {
   "display_name": "Python 3 (ipykernel)",
   "language": "python",
   "name": "python3"
  },
  "language_info": {
   "codemirror_mode": {
    "name": "ipython",
    "version": 3
   },
   "file_extension": ".py",
   "mimetype": "text/x-python",
   "name": "python",
   "nbconvert_exporter": "python",
   "pygments_lexer": "ipython3",
   "version": "3.11.0"
  }
 },
 "nbformat": 4,
 "nbformat_minor": 5
}
