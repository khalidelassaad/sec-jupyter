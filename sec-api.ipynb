{
 "cells": [
  {
   "cell_type": "markdown",
   "id": "a92381cb-653c-41ef-a58c-32dc265a7fd9",
   "metadata": {},
   "source": [
    "First goal is to find an endpoint for Form 4's\n",
    "\n",
    "https://www.sec.gov/developer\n",
    "\n",
    "https://www.sec.gov/os/accessing-edgar-data"
   ]
  },
  {
   "cell_type": "code",
   "execution_count": 23,
   "id": "f62a6470-162a-4724-82a0-e60ec1476e8e",
   "metadata": {
    "tags": []
   },
   "outputs": [],
   "source": [
    "import requests\n",
    "import time\n",
    "import datetime\n",
    "import pandas as pd\n",
    "\n",
    "run_once_override = False"
   ]
  },
  {
   "cell_type": "code",
   "execution_count": 50,
   "id": "4d6aa047-4500-4910-bced-a792202cd928",
   "metadata": {
    "tags": []
   },
   "outputs": [],
   "source": [
    "HEADERS = {\n",
    "    'User-Agent': 'Personal User khalidelassaad@gmail.com',\n",
    "    'Accept-Encoding': 'gzip, deflate',\n",
    "    'Host': 'www.sec.gov'\n",
    "}\n",
    "\n",
    "def SEC_API_sleep():\n",
    "    # Be a good citizen! Limit requests to less than 10 per second\n",
    "    time.sleep(0.11)\n",
    "    "
   ]
  },
  {
   "cell_type": "markdown",
   "id": "1be2e222-caa4-4706-b26d-30276faef767",
   "metadata": {},
   "source": [
    "Fetch the list of CIKs from here https://www.sec.gov/Archives/edgar/cik-lookup-data.txt"
   ]
  },
  {
   "cell_type": "code",
   "execution_count": 53,
   "id": "b454f104-c59c-4ddc-b283-61410df8d220",
   "metadata": {
    "tags": []
   },
   "outputs": [],
   "source": [
    "def get_url_to_outfilename(url, outfilename, run_once_override=run_once_override):\n",
    "    if not run_once_override:\n",
    "        return -1\n",
    "    response = requests.get(url, headers=HEADERS)\n",
    "    print(\"Status Code:\", response.status_code)\n",
    "    with open(outfilename, \"w\", encoding=\"utf-8\") as outfile:\n",
    "        outfile.write(response.text)\n",
    "    SEC_API_sleep()\n",
    "    return response"
   ]
  },
  {
   "cell_type": "code",
   "execution_count": 4,
   "id": "b8ebdd93-d130-42c2-97a1-645ed367562c",
   "metadata": {
    "tags": []
   },
   "outputs": [
    {
     "data": {
      "text/plain": [
       "-1"
      ]
     },
     "execution_count": 4,
     "metadata": {},
     "output_type": "execute_result"
    }
   ],
   "source": [
    "get_url_to_outfilename(\n",
    "    \"https://www.sec.gov/Archives/edgar/cik-lookup-data.txt\",\n",
    "    \"cik_list.txt\"\n",
    ")"
   ]
  },
  {
   "cell_type": "code",
   "execution_count": 5,
   "id": "c42fec01-92f3-4d02-9e04-f70734204335",
   "metadata": {
    "tags": []
   },
   "outputs": [
    {
     "data": {
      "text/plain": [
       "-1"
      ]
     },
     "execution_count": 5,
     "metadata": {},
     "output_type": "execute_result"
    }
   ],
   "source": [
    "get_url_to_outfilename(\n",
    "    \"https://www.sec.gov/files/company_tickers.json\",\n",
    "    \"company_tickers.json\"\n",
    ")"
   ]
  },
  {
   "cell_type": "code",
   "execution_count": 6,
   "id": "6bc5eece-aca8-4bcb-821a-00b8a3af327c",
   "metadata": {
    "tags": []
   },
   "outputs": [],
   "source": [
    "def generate_interested_companies_dict():\n",
    "    interested_company_names = []\n",
    "    return_dict = dict()\n",
    "    with open(\"interested_company_names.txt\",\"r\") as infile:\n",
    "        for line in infile:\n",
    "            interested_company_names.append(line.strip())\n",
    "    with open(\"cik_list.txt\",\"r\") as infile:\n",
    "        for line in infile:\n",
    "            for name in interested_company_names:\n",
    "                if name in line:\n",
    "                    cik_number = int(line.split(\":\")[1])\n",
    "                    cik_name = line.split(\":\")[0]\n",
    "                    return_dict[cik_number] = {\"name\": cik_name}\n",
    "    return return_dict"
   ]
  },
  {
   "cell_type": "code",
   "execution_count": 7,
   "id": "2effa6c0-188a-49ca-b029-3460a28e68c7",
   "metadata": {
    "tags": []
   },
   "outputs": [],
   "source": [
    "interested_companies_dict = generate_interested_companies_dict()"
   ]
  },
  {
   "cell_type": "markdown",
   "id": "6e1096a0-e0dc-4f06-b100-4c720a0174a0",
   "metadata": {},
   "source": [
    "We can get information about a specific CIK's filings by querying this resource:\n",
    "\n",
    "https://data.sec.gov/submissions/CIK##########.json"
   ]
  },
  {
   "cell_type": "code",
   "execution_count": 52,
   "id": "49736a7a-3a29-4fa1-afe0-64b68aaa5bd9",
   "metadata": {
    "tags": []
   },
   "outputs": [],
   "source": [
    "def save_interested_companies_indices(interested_companies_dict, run_once_override=run_once_override):\n",
    "    if not run_once_override:\n",
    "        return -1\n",
    "    for cik in interested_companies_dict:\n",
    "        url = \"https://data.sec.gov/submissions/CIK{:010d}.json\".format(cik)\n",
    "        get_url_to_outfilename(\n",
    "            \"https://data.sec.gov/submissions/CIK{:010d}.json\".format(cik),\n",
    "            \"{}.html\".format(cik),\n",
    "            run_once_override=run_once_override\n",
    "        )\n",
    "    return 0"
   ]
  },
  {
   "cell_type": "markdown",
   "id": "df5ca1f3-b78a-4999-9041-e411c32d0adb",
   "metadata": {},
   "source": [
    "The above URL is not fetching. Let's try something else.\n",
    "\n",
    "https://www.sec.gov/os/accessing-edgar-data\n",
    "\n",
    "According to the above, use https://www.sec.gov/Archives/edgar/full-index/ to get an index per quarter of all filings from all companies. Let's write a function to grab the latest index and parse out relevant links for our `interested_companies_dict`\n",
    "\n",
    "We want the `master.idx` file which contains data in this format: `CIK|Company Name|Form Type|Date Filed|Filename`\n",
    "\n",
    "The full path to this file looks like:\n",
    "\n",
    "`https://www.sec.gov/Archives/edgar/full-index/{YYYY}/QTR{1-4}/master.idx`\n",
    "\n",
    "Data extends from 1993 QTR1 - 2023 QTR1"
   ]
  },
  {
   "cell_type": "code",
   "execution_count": 24,
   "id": "eb88f7cc-680a-4bad-b38c-801436fe26c6",
   "metadata": {
    "tags": []
   },
   "outputs": [],
   "source": [
    "def get_master_index_for_year_and_quarter(year, quarter, run_once_override=run_once_override):\n",
    "    if not run_once_override:\n",
    "        return -1\n",
    "    get_url_to_outfilename(\n",
    "        \"https://www.sec.gov/Archives/edgar/full-index/{}/QTR{}/master.idx\".format(year, quarter),\n",
    "        \"indices/{}Q{}_master.idx\".format(year, quarter),\n",
    "        run_once_override=run_once_override\n",
    "    )\n",
    "    return 0"
   ]
  },
  {
   "cell_type": "code",
   "execution_count": 35,
   "id": "efd4dfea-fdf6-4427-8f98-107527250d7e",
   "metadata": {
    "tags": []
   },
   "outputs": [
    {
     "data": {
      "text/plain": [
       "-1"
      ]
     },
     "execution_count": 35,
     "metadata": {},
     "output_type": "execute_result"
    }
   ],
   "source": [
    "get_master_index_for_year_and_quarter(2023, 1)"
   ]
  },
  {
   "cell_type": "markdown",
   "id": "7c6d4607-58ff-45ba-9cfe-099099ff3607",
   "metadata": {},
   "source": [
    "Let's grab all indices since 1993 QTR1, then we can aggregate them together for one unified master index that we can parse for companies we're interested in.\n",
    "\n",
    "First we'll grab all indices."
   ]
  },
  {
   "cell_type": "code",
   "execution_count": 54,
   "id": "c834e6c1-48df-4c49-b075-89c43ad36e0f",
   "metadata": {
    "tags": []
   },
   "outputs": [],
   "source": [
    "def get_all_master_indices(run_once_override=run_once_override):\n",
    "    if not run_once_override:\n",
    "        return -1\n",
    "    start_year = 1993\n",
    "    end_year = pd.Timestamp(datetime.datetime.now()).year\n",
    "    end_quarter = pd.Timestamp(datetime.datetime.now()).quarter\n",
    "    for year in range(start_year, end_year + 1):\n",
    "        end_quarter_range = 4 if year != end_year else end_quarter\n",
    "        for quarter in range(1, end_quarter_range + 1):\n",
    "            print(\"Fetchin index for {}Q{}\".format(year, quarter))\n",
    "            get_master_index_for_year_and_quarter(year, quarter, run_once_override)\n",
    "    return 0"
   ]
  },
  {
   "cell_type": "code",
   "execution_count": 55,
   "id": "78cca6c2-40b8-4947-855e-3fcc76e6fecd",
   "metadata": {
    "tags": []
   },
   "outputs": [
    {
     "name": "stdout",
     "output_type": "stream",
     "text": [
      "Fetchin index for 1993Q1\n",
      "Status Code: 200\n",
      "Fetchin index for 1993Q2\n",
      "Status Code: 200\n",
      "Fetchin index for 1993Q3\n",
      "Status Code: 200\n",
      "Fetchin index for 1993Q4\n",
      "Status Code: 200\n",
      "Fetchin index for 1994Q1\n",
      "Status Code: 200\n",
      "Fetchin index for 1994Q2\n",
      "Status Code: 200\n",
      "Fetchin index for 1994Q3\n",
      "Status Code: 200\n",
      "Fetchin index for 1994Q4\n",
      "Status Code: 200\n",
      "Fetchin index for 1995Q1\n",
      "Status Code: 200\n",
      "Fetchin index for 1995Q2\n",
      "Status Code: 200\n",
      "Fetchin index for 1995Q3\n",
      "Status Code: 200\n",
      "Fetchin index for 1995Q4\n",
      "Status Code: 200\n",
      "Fetchin index for 1996Q1\n",
      "Status Code: 200\n",
      "Fetchin index for 1996Q2\n",
      "Status Code: 200\n",
      "Fetchin index for 1996Q3\n",
      "Status Code: 200\n",
      "Fetchin index for 1996Q4\n",
      "Status Code: 200\n",
      "Fetchin index for 1997Q1\n",
      "Status Code: 200\n",
      "Fetchin index for 1997Q2\n",
      "Status Code: 200\n",
      "Fetchin index for 1997Q3\n",
      "Status Code: 200\n",
      "Fetchin index for 1997Q4\n",
      "Status Code: 200\n",
      "Fetchin index for 1998Q1\n",
      "Status Code: 200\n",
      "Fetchin index for 1998Q2\n",
      "Status Code: 200\n",
      "Fetchin index for 1998Q3\n",
      "Status Code: 200\n",
      "Fetchin index for 1998Q4\n",
      "Status Code: 200\n",
      "Fetchin index for 1999Q1\n",
      "Status Code: 200\n",
      "Fetchin index for 1999Q2\n",
      "Status Code: 200\n",
      "Fetchin index for 1999Q3\n",
      "Status Code: 200\n",
      "Fetchin index for 1999Q4\n",
      "Status Code: 200\n",
      "Fetchin index for 2000Q1\n",
      "Status Code: 200\n",
      "Fetchin index for 2000Q2\n",
      "Status Code: 200\n",
      "Fetchin index for 2000Q3\n",
      "Status Code: 200\n",
      "Fetchin index for 2000Q4\n",
      "Status Code: 200\n",
      "Fetchin index for 2001Q1\n",
      "Status Code: 200\n",
      "Fetchin index for 2001Q2\n",
      "Status Code: 200\n",
      "Fetchin index for 2001Q3\n",
      "Status Code: 200\n",
      "Fetchin index for 2001Q4\n",
      "Status Code: 200\n",
      "Fetchin index for 2002Q1\n",
      "Status Code: 200\n",
      "Fetchin index for 2002Q2\n",
      "Status Code: 200\n",
      "Fetchin index for 2002Q3\n",
      "Status Code: 200\n",
      "Fetchin index for 2002Q4\n",
      "Status Code: 200\n",
      "Fetchin index for 2003Q1\n",
      "Status Code: 200\n",
      "Fetchin index for 2003Q2\n",
      "Status Code: 200\n",
      "Fetchin index for 2003Q3\n",
      "Status Code: 200\n",
      "Fetchin index for 2003Q4\n",
      "Status Code: 200\n",
      "Fetchin index for 2004Q1\n",
      "Status Code: 200\n",
      "Fetchin index for 2004Q2\n",
      "Status Code: 200\n",
      "Fetchin index for 2004Q3\n",
      "Status Code: 200\n",
      "Fetchin index for 2004Q4\n",
      "Status Code: 200\n",
      "Fetchin index for 2005Q1\n",
      "Status Code: 200\n",
      "Fetchin index for 2005Q2\n",
      "Status Code: 200\n",
      "Fetchin index for 2005Q3\n",
      "Status Code: 200\n",
      "Fetchin index for 2005Q4\n",
      "Status Code: 200\n",
      "Fetchin index for 2006Q1\n",
      "Status Code: 200\n",
      "Fetchin index for 2006Q2\n",
      "Status Code: 200\n",
      "Fetchin index for 2006Q3\n",
      "Status Code: 200\n",
      "Fetchin index for 2006Q4\n",
      "Status Code: 200\n",
      "Fetchin index for 2007Q1\n",
      "Status Code: 200\n",
      "Fetchin index for 2007Q2\n",
      "Status Code: 200\n",
      "Fetchin index for 2007Q3\n",
      "Status Code: 200\n",
      "Fetchin index for 2007Q4\n",
      "Status Code: 200\n",
      "Fetchin index for 2008Q1\n",
      "Status Code: 200\n",
      "Fetchin index for 2008Q2\n",
      "Status Code: 200\n",
      "Fetchin index for 2008Q3\n",
      "Status Code: 200\n",
      "Fetchin index for 2008Q4\n",
      "Status Code: 200\n",
      "Fetchin index for 2009Q1\n",
      "Status Code: 200\n",
      "Fetchin index for 2009Q2\n",
      "Status Code: 200\n",
      "Fetchin index for 2009Q3\n",
      "Status Code: 200\n",
      "Fetchin index for 2009Q4\n",
      "Status Code: 200\n",
      "Fetchin index for 2010Q1\n",
      "Status Code: 200\n",
      "Fetchin index for 2010Q2\n",
      "Status Code: 200\n",
      "Fetchin index for 2010Q3\n",
      "Status Code: 200\n",
      "Fetchin index for 2010Q4\n",
      "Status Code: 200\n",
      "Fetchin index for 2011Q1\n",
      "Status Code: 200\n",
      "Fetchin index for 2011Q2\n",
      "Status Code: 200\n",
      "Fetchin index for 2011Q3\n",
      "Status Code: 200\n",
      "Fetchin index for 2011Q4\n",
      "Status Code: 200\n",
      "Fetchin index for 2012Q1\n",
      "Status Code: 200\n",
      "Fetchin index for 2012Q2\n",
      "Status Code: 200\n",
      "Fetchin index for 2012Q3\n",
      "Status Code: 200\n",
      "Fetchin index for 2012Q4\n",
      "Status Code: 200\n",
      "Fetchin index for 2013Q1\n",
      "Status Code: 200\n",
      "Fetchin index for 2013Q2\n",
      "Status Code: 200\n",
      "Fetchin index for 2013Q3\n",
      "Status Code: 200\n",
      "Fetchin index for 2013Q4\n",
      "Status Code: 200\n",
      "Fetchin index for 2014Q1\n",
      "Status Code: 200\n",
      "Fetchin index for 2014Q2\n",
      "Status Code: 200\n",
      "Fetchin index for 2014Q3\n",
      "Status Code: 200\n",
      "Fetchin index for 2014Q4\n",
      "Status Code: 200\n",
      "Fetchin index for 2015Q1\n",
      "Status Code: 200\n",
      "Fetchin index for 2015Q2\n",
      "Status Code: 200\n",
      "Fetchin index for 2015Q3\n",
      "Status Code: 200\n",
      "Fetchin index for 2015Q4\n",
      "Status Code: 200\n",
      "Fetchin index for 2016Q1\n",
      "Status Code: 200\n",
      "Fetchin index for 2016Q2\n",
      "Status Code: 200\n",
      "Fetchin index for 2016Q3\n",
      "Status Code: 200\n",
      "Fetchin index for 2016Q4\n",
      "Status Code: 200\n",
      "Fetchin index for 2017Q1\n",
      "Status Code: 200\n",
      "Fetchin index for 2017Q2\n",
      "Status Code: 200\n",
      "Fetchin index for 2017Q3\n",
      "Status Code: 200\n",
      "Fetchin index for 2017Q4\n",
      "Status Code: 200\n",
      "Fetchin index for 2018Q1\n",
      "Status Code: 200\n",
      "Fetchin index for 2018Q2\n",
      "Status Code: 200\n",
      "Fetchin index for 2018Q3\n",
      "Status Code: 200\n",
      "Fetchin index for 2018Q4\n",
      "Status Code: 200\n",
      "Fetchin index for 2019Q1\n",
      "Status Code: 200\n",
      "Fetchin index for 2019Q2\n",
      "Status Code: 200\n",
      "Fetchin index for 2019Q3\n",
      "Status Code: 200\n",
      "Fetchin index for 2019Q4\n",
      "Status Code: 200\n",
      "Fetchin index for 2020Q1\n",
      "Status Code: 200\n",
      "Fetchin index for 2020Q2\n",
      "Status Code: 200\n",
      "Fetchin index for 2020Q3\n",
      "Status Code: 200\n",
      "Fetchin index for 2020Q4\n",
      "Status Code: 200\n",
      "Fetchin index for 2021Q1\n",
      "Status Code: 200\n",
      "Fetchin index for 2021Q2\n",
      "Status Code: 200\n",
      "Fetchin index for 2021Q3\n",
      "Status Code: 200\n",
      "Fetchin index for 2021Q4\n",
      "Status Code: 200\n",
      "Fetchin index for 2022Q1\n",
      "Status Code: 200\n",
      "Fetchin index for 2022Q2\n",
      "Status Code: 200\n",
      "Fetchin index for 2022Q3\n",
      "Status Code: 200\n",
      "Fetchin index for 2022Q4\n",
      "Status Code: 200\n",
      "Fetchin index for 2023Q1\n",
      "Status Code: 200\n"
     ]
    },
    {
     "data": {
      "text/plain": [
       "0"
      ]
     },
     "execution_count": 55,
     "metadata": {},
     "output_type": "execute_result"
    }
   ],
   "source": [
    "get_all_master_indices(True)"
   ]
  }
 ],
 "metadata": {
  "kernelspec": {
   "display_name": "Python 3 (ipykernel)",
   "language": "python",
   "name": "python3"
  },
  "language_info": {
   "codemirror_mode": {
    "name": "ipython",
    "version": 3
   },
   "file_extension": ".py",
   "mimetype": "text/x-python",
   "name": "python",
   "nbconvert_exporter": "python",
   "pygments_lexer": "ipython3",
   "version": "3.11.0"
  }
 },
 "nbformat": 4,
 "nbformat_minor": 5
}
