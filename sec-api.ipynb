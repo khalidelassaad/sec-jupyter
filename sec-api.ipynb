{
 "cells": [
  {
   "cell_type": "markdown",
   "id": "a92381cb-653c-41ef-a58c-32dc265a7fd9",
   "metadata": {},
   "source": [
    "First goal is to find an endpoint for Form 4's\n",
    "\n",
    "https://www.sec.gov/developer\n",
    "\n",
    "https://www.sec.gov/os/accessing-edgar-data"
   ]
  },
  {
   "cell_type": "code",
   "execution_count": 60,
   "id": "f62a6470-162a-4724-82a0-e60ec1476e8e",
   "metadata": {
    "tags": []
   },
   "outputs": [],
   "source": [
    "import requests\n",
    "import time\n",
    "import datetime\n",
    "import pandas as pd\n",
    "import os\n",
    "\n",
    "run_once_override = False"
   ]
  },
  {
   "cell_type": "code",
   "execution_count": 50,
   "id": "4d6aa047-4500-4910-bced-a792202cd928",
   "metadata": {
    "tags": []
   },
   "outputs": [],
   "source": [
    "HEADERS = {\n",
    "    'User-Agent': 'Personal User khalidelassaad@gmail.com',\n",
    "    'Accept-Encoding': 'gzip, deflate',\n",
    "    'Host': 'www.sec.gov'\n",
    "}\n",
    "\n",
    "def SEC_API_sleep():\n",
    "    # Be a good citizen! Limit requests to less than 10 per second\n",
    "    time.sleep(0.11)\n",
    "    "
   ]
  },
  {
   "cell_type": "markdown",
   "id": "1be2e222-caa4-4706-b26d-30276faef767",
   "metadata": {},
   "source": [
    "Fetch the list of CIKs from here https://www.sec.gov/Archives/edgar/cik-lookup-data.txt"
   ]
  },
  {
   "cell_type": "code",
   "execution_count": 53,
   "id": "b454f104-c59c-4ddc-b283-61410df8d220",
   "metadata": {
    "tags": []
   },
   "outputs": [],
   "source": [
    "def get_url_to_outfilename(url, outfilename, run_once_override=run_once_override):\n",
    "    if not run_once_override:\n",
    "        return -1\n",
    "    response = requests.get(url, headers=HEADERS)\n",
    "    print(\"Status Code:\", response.status_code)\n",
    "    with open(outfilename, \"w\", encoding=\"utf-8\") as outfile:\n",
    "        outfile.write(response.text)\n",
    "    SEC_API_sleep()\n",
    "    return response"
   ]
  },
  {
   "cell_type": "code",
   "execution_count": 4,
   "id": "b8ebdd93-d130-42c2-97a1-645ed367562c",
   "metadata": {
    "tags": []
   },
   "outputs": [
    {
     "data": {
      "text/plain": [
       "-1"
      ]
     },
     "execution_count": 4,
     "metadata": {},
     "output_type": "execute_result"
    }
   ],
   "source": [
    "get_url_to_outfilename(\n",
    "    \"https://www.sec.gov/Archives/edgar/cik-lookup-data.txt\",\n",
    "    \"cik_list.txt\"\n",
    ")"
   ]
  },
  {
   "cell_type": "code",
   "execution_count": 5,
   "id": "c42fec01-92f3-4d02-9e04-f70734204335",
   "metadata": {
    "tags": []
   },
   "outputs": [
    {
     "data": {
      "text/plain": [
       "-1"
      ]
     },
     "execution_count": 5,
     "metadata": {},
     "output_type": "execute_result"
    }
   ],
   "source": [
    "get_url_to_outfilename(\n",
    "    \"https://www.sec.gov/files/company_tickers.json\",\n",
    "    \"company_tickers.json\"\n",
    ")"
   ]
  },
  {
   "cell_type": "code",
   "execution_count": 6,
   "id": "6bc5eece-aca8-4bcb-821a-00b8a3af327c",
   "metadata": {
    "tags": []
   },
   "outputs": [],
   "source": [
    "def generate_interested_companies_dict():\n",
    "    interested_company_names = []\n",
    "    return_dict = dict()\n",
    "    with open(\"interested_company_names.txt\",\"r\") as infile:\n",
    "        for line in infile:\n",
    "            interested_company_names.append(line.strip())\n",
    "    with open(\"cik_list.txt\",\"r\") as infile:\n",
    "        for line in infile:\n",
    "            for name in interested_company_names:\n",
    "                if name in line:\n",
    "                    cik_number = int(line.split(\":\")[1])\n",
    "                    cik_name = line.split(\":\")[0]\n",
    "                    return_dict[cik_number] = {\"name\": cik_name}\n",
    "    return return_dict"
   ]
  },
  {
   "cell_type": "code",
   "execution_count": 7,
   "id": "2effa6c0-188a-49ca-b029-3460a28e68c7",
   "metadata": {
    "tags": []
   },
   "outputs": [],
   "source": [
    "interested_companies_dict = generate_interested_companies_dict()"
   ]
  },
  {
   "cell_type": "markdown",
   "id": "6e1096a0-e0dc-4f06-b100-4c720a0174a0",
   "metadata": {},
   "source": [
    "We can get information about a specific CIK's filings by querying this resource:\n",
    "\n",
    "https://data.sec.gov/submissions/CIK##########.json"
   ]
  },
  {
   "cell_type": "code",
   "execution_count": 52,
   "id": "49736a7a-3a29-4fa1-afe0-64b68aaa5bd9",
   "metadata": {
    "tags": []
   },
   "outputs": [],
   "source": [
    "def save_interested_companies_indices(interested_companies_dict, run_once_override=run_once_override):\n",
    "    if not run_once_override:\n",
    "        return -1\n",
    "    for cik in interested_companies_dict:\n",
    "        url = \"https://data.sec.gov/submissions/CIK{:010d}.json\".format(cik)\n",
    "        get_url_to_outfilename(\n",
    "            \"https://data.sec.gov/submissions/CIK{:010d}.json\".format(cik),\n",
    "            \"{}.html\".format(cik),\n",
    "            run_once_override=run_once_override\n",
    "        )\n",
    "    return 0"
   ]
  },
  {
   "cell_type": "markdown",
   "id": "df5ca1f3-b78a-4999-9041-e411c32d0adb",
   "metadata": {},
   "source": [
    "The above URL is not fetching. Let's try something else.\n",
    "\n",
    "https://www.sec.gov/os/accessing-edgar-data\n",
    "\n",
    "According to the above, use https://www.sec.gov/Archives/edgar/full-index/ to get an index per quarter of all filings from all companies. Let's write a function to grab the latest index and parse out relevant links for our `interested_companies_dict`\n",
    "\n",
    "We want the `master.idx` file which contains data in this format: `CIK|Company Name|Form Type|Date Filed|Filename`\n",
    "\n",
    "The full path to this file looks like:\n",
    "\n",
    "`https://www.sec.gov/Archives/edgar/full-index/{YYYY}/QTR{1-4}/master.idx`\n",
    "\n",
    "Data extends from 1993 QTR1 - 2023 QTR1"
   ]
  },
  {
   "cell_type": "code",
   "execution_count": 24,
   "id": "eb88f7cc-680a-4bad-b38c-801436fe26c6",
   "metadata": {
    "tags": []
   },
   "outputs": [],
   "source": [
    "def get_master_index_for_year_and_quarter(year, quarter, run_once_override=run_once_override):\n",
    "    if not run_once_override:\n",
    "        return -1\n",
    "    get_url_to_outfilename(\n",
    "        \"https://www.sec.gov/Archives/edgar/full-index/{}/QTR{}/master.idx\".format(year, quarter),\n",
    "        \"indices/{}Q{}_master.idx\".format(year, quarter),\n",
    "        run_once_override=run_once_override\n",
    "    )\n",
    "    return 0"
   ]
  },
  {
   "cell_type": "code",
   "execution_count": 35,
   "id": "efd4dfea-fdf6-4427-8f98-107527250d7e",
   "metadata": {
    "tags": []
   },
   "outputs": [
    {
     "data": {
      "text/plain": [
       "-1"
      ]
     },
     "execution_count": 35,
     "metadata": {},
     "output_type": "execute_result"
    }
   ],
   "source": [
    "get_master_index_for_year_and_quarter(2023, 1)"
   ]
  },
  {
   "cell_type": "markdown",
   "id": "7c6d4607-58ff-45ba-9cfe-099099ff3607",
   "metadata": {},
   "source": [
    "Let's grab all indices since 1993 QTR1, then we can aggregate them together for one unified master index that we can parse for companies we're interested in.\n",
    "\n",
    "First we'll grab all indices."
   ]
  },
  {
   "cell_type": "code",
   "execution_count": 54,
   "id": "c834e6c1-48df-4c49-b075-89c43ad36e0f",
   "metadata": {
    "tags": []
   },
   "outputs": [],
   "source": [
    "def get_all_master_indices(run_once_override=run_once_override):\n",
    "    if not run_once_override:\n",
    "        return -1\n",
    "    start_year = 1993\n",
    "    end_year = pd.Timestamp(datetime.datetime.now()).year\n",
    "    end_quarter = pd.Timestamp(datetime.datetime.now()).quarter\n",
    "    for year in range(start_year, end_year + 1):\n",
    "        end_quarter_range = 4 if year != end_year else end_quarter\n",
    "        for quarter in range(1, end_quarter_range + 1):\n",
    "            print(\"Fetchin index for {}Q{}\".format(year, quarter))\n",
    "            get_master_index_for_year_and_quarter(year, quarter, run_once_override)\n",
    "    return 0"
   ]
  },
  {
   "cell_type": "code",
   "execution_count": 56,
   "id": "78cca6c2-40b8-4947-855e-3fcc76e6fecd",
   "metadata": {
    "tags": []
   },
   "outputs": [
    {
     "data": {
      "text/plain": [
       "-1"
      ]
     },
     "execution_count": 56,
     "metadata": {},
     "output_type": "execute_result"
    }
   ],
   "source": [
    "get_all_master_indices()"
   ]
  },
  {
   "cell_type": "markdown",
   "id": "6261e675-5d83-404e-9144-f18be1e6e417",
   "metadata": {},
   "source": [
    "Let's also write a function to fetch only the latest index (for updates while the current quarter is ongoing)."
   ]
  },
  {
   "cell_type": "code",
   "execution_count": 57,
   "id": "5c4bebe4-bf73-4c8d-a73b-c40f012b7bad",
   "metadata": {
    "tags": []
   },
   "outputs": [],
   "source": [
    "def get_latest_master_index(run_once_override=run_once_override):\n",
    "    if not run_once_override:\n",
    "        return -1\n",
    "    year = pd.Timestamp(datetime.datetime.now()).year\n",
    "    quarter = pd.Timestamp(datetime.datetime.now()).quarter\n",
    "    print(\"Fetchin index for {}Q{}\".format(year, quarter))\n",
    "    get_master_index_for_year_and_quarter(year, quarter, run_once_override)\n",
    "    return 0"
   ]
  },
  {
   "cell_type": "code",
   "execution_count": 59,
   "id": "f0efd1ce-c698-437b-9766-ebb98259df89",
   "metadata": {
    "tags": []
   },
   "outputs": [
    {
     "data": {
      "text/plain": [
       "-1"
      ]
     },
     "execution_count": 59,
     "metadata": {},
     "output_type": "execute_result"
    }
   ],
   "source": [
    "get_latest_master_index()"
   ]
  },
  {
   "cell_type": "markdown",
   "id": "f03132c5-2130-4efd-9df6-5328020d6b64",
   "metadata": {},
   "source": [
    "Nice, now to read data. Here's what I want to do:\n",
    "\n",
    "1. Read all index files.\n",
    "2. Grab rows for CIKs that I'm interested in, based on `interested_companies_dict`\n",
    "3. Output rows as a pandas dataframe"
   ]
  },
  {
   "cell_type": "code",
   "execution_count": 62,
   "id": "a1c6b762-eb4e-4bd0-9982-77d64771a012",
   "metadata": {
    "tags": []
   },
   "outputs": [
    {
     "data": {
      "text/plain": [
       "['1993Q1_master.idx',\n",
       " '1993Q2_master.idx',\n",
       " '1993Q3_master.idx',\n",
       " '1993Q4_master.idx',\n",
       " '1994Q1_master.idx',\n",
       " '1994Q2_master.idx',\n",
       " '1994Q3_master.idx',\n",
       " '1994Q4_master.idx',\n",
       " '1995Q1_master.idx',\n",
       " '1995Q2_master.idx',\n",
       " '1995Q3_master.idx',\n",
       " '1995Q4_master.idx',\n",
       " '1996Q1_master.idx',\n",
       " '1996Q2_master.idx',\n",
       " '1996Q3_master.idx',\n",
       " '1996Q4_master.idx',\n",
       " '1997Q1_master.idx',\n",
       " '1997Q2_master.idx',\n",
       " '1997Q3_master.idx',\n",
       " '1997Q4_master.idx',\n",
       " '1998Q1_master.idx',\n",
       " '1998Q2_master.idx',\n",
       " '1998Q3_master.idx',\n",
       " '1998Q4_master.idx',\n",
       " '1999Q1_master.idx',\n",
       " '1999Q2_master.idx',\n",
       " '1999Q3_master.idx',\n",
       " '1999Q4_master.idx',\n",
       " '2000Q1_master.idx',\n",
       " '2000Q2_master.idx',\n",
       " '2000Q3_master.idx',\n",
       " '2000Q4_master.idx',\n",
       " '2001Q1_master.idx',\n",
       " '2001Q2_master.idx',\n",
       " '2001Q3_master.idx',\n",
       " '2001Q4_master.idx',\n",
       " '2002Q1_master.idx',\n",
       " '2002Q2_master.idx',\n",
       " '2002Q3_master.idx',\n",
       " '2002Q4_master.idx',\n",
       " '2003Q1_master.idx',\n",
       " '2003Q2_master.idx',\n",
       " '2003Q3_master.idx',\n",
       " '2003Q4_master.idx',\n",
       " '2004Q1_master.idx',\n",
       " '2004Q2_master.idx',\n",
       " '2004Q3_master.idx',\n",
       " '2004Q4_master.idx',\n",
       " '2005Q1_master.idx',\n",
       " '2005Q2_master.idx',\n",
       " '2005Q3_master.idx',\n",
       " '2005Q4_master.idx',\n",
       " '2006Q1_master.idx',\n",
       " '2006Q2_master.idx',\n",
       " '2006Q3_master.idx',\n",
       " '2006Q4_master.idx',\n",
       " '2007Q1_master.idx',\n",
       " '2007Q2_master.idx',\n",
       " '2007Q3_master.idx',\n",
       " '2007Q4_master.idx',\n",
       " '2008Q1_master.idx',\n",
       " '2008Q2_master.idx',\n",
       " '2008Q3_master.idx',\n",
       " '2008Q4_master.idx',\n",
       " '2009Q1_master.idx',\n",
       " '2009Q2_master.idx',\n",
       " '2009Q3_master.idx',\n",
       " '2009Q4_master.idx',\n",
       " '2010Q1_master.idx',\n",
       " '2010Q2_master.idx',\n",
       " '2010Q3_master.idx',\n",
       " '2010Q4_master.idx',\n",
       " '2011Q1_master.idx',\n",
       " '2011Q2_master.idx',\n",
       " '2011Q3_master.idx',\n",
       " '2011Q4_master.idx',\n",
       " '2012Q1_master.idx',\n",
       " '2012Q2_master.idx',\n",
       " '2012Q3_master.idx',\n",
       " '2012Q4_master.idx',\n",
       " '2013Q1_master.idx',\n",
       " '2013Q2_master.idx',\n",
       " '2013Q3_master.idx',\n",
       " '2013Q4_master.idx',\n",
       " '2014Q1_master.idx',\n",
       " '2014Q2_master.idx',\n",
       " '2014Q3_master.idx',\n",
       " '2014Q4_master.idx',\n",
       " '2015Q1_master.idx',\n",
       " '2015Q2_master.idx',\n",
       " '2015Q3_master.idx',\n",
       " '2015Q4_master.idx',\n",
       " '2016Q1_master.idx',\n",
       " '2016Q2_master.idx',\n",
       " '2016Q3_master.idx',\n",
       " '2016Q4_master.idx',\n",
       " '2017Q1_master.idx',\n",
       " '2017Q2_master.idx',\n",
       " '2017Q3_master.idx',\n",
       " '2017Q4_master.idx',\n",
       " '2018Q1_master.idx',\n",
       " '2018Q2_master.idx',\n",
       " '2018Q3_master.idx',\n",
       " '2018Q4_master.idx',\n",
       " '2019Q1_master.idx',\n",
       " '2019Q2_master.idx',\n",
       " '2019Q3_master.idx',\n",
       " '2019Q4_master.idx',\n",
       " '2020Q1_master.idx',\n",
       " '2020Q2_master.idx',\n",
       " '2020Q3_master.idx',\n",
       " '2020Q4_master.idx',\n",
       " '2021Q1_master.idx',\n",
       " '2021Q2_master.idx',\n",
       " '2021Q3_master.idx',\n",
       " '2021Q4_master.idx',\n",
       " '2022Q1_master.idx',\n",
       " '2022Q2_master.idx',\n",
       " '2022Q3_master.idx',\n",
       " '2022Q4_master.idx',\n",
       " '2023Q1_master.idx']"
      ]
     },
     "execution_count": 62,
     "metadata": {},
     "output_type": "execute_result"
    }
   ],
   "source": [
    "index_files = os.listdir(\"indices\")\n",
    "index_files"
   ]
  }
 ],
 "metadata": {
  "kernelspec": {
   "display_name": "Python 3 (ipykernel)",
   "language": "python",
   "name": "python3"
  },
  "language_info": {
   "codemirror_mode": {
    "name": "ipython",
    "version": 3
   },
   "file_extension": ".py",
   "mimetype": "text/x-python",
   "name": "python",
   "nbconvert_exporter": "python",
   "pygments_lexer": "ipython3",
   "version": "3.11.0"
  }
 },
 "nbformat": 4,
 "nbformat_minor": 5
}
