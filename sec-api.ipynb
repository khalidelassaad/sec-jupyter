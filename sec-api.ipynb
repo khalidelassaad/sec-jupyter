{
 "cells": [
  {
   "cell_type": "markdown",
   "id": "a92381cb-653c-41ef-a58c-32dc265a7fd9",
   "metadata": {},
   "source": [
    "First goal is to find an endpoint for Form 4's\n",
    "\n",
    "https://www.sec.gov/developer\n",
    "\n",
    "https://www.sec.gov/os/accessing-edgar-data"
   ]
  },
  {
   "cell_type": "code",
   "execution_count": 1,
   "id": "f62a6470-162a-4724-82a0-e60ec1476e8e",
   "metadata": {
    "tags": []
   },
   "outputs": [],
   "source": [
    "import requests\n",
    "import time\n",
    "import datetime\n",
    "import pandas as pd\n",
    "import os\n",
    "import dotenv\n",
    "import xml.etree.ElementTree as ET\n",
    "import matplotlib\n",
    "import matplotlib.pyplot as plt\n",
    "import matplotlib.dates as mdates\n",
    "import numpy as np"
   ]
  },
  {
   "cell_type": "code",
   "execution_count": 2,
   "id": "4d6aa047-4500-4910-bced-a792202cd928",
   "metadata": {
    "tags": []
   },
   "outputs": [],
   "source": [
    "dotenv.load_dotenv()\n",
    "run_once_override = False\n",
    "\n",
    "HEADERS = {\n",
    "    'User-Agent': 'Personal User {}'.format(os.getenv(\"EMAIL\")),\n",
    "    'Accept-Encoding': 'gzip, deflate',\n",
    "    'Host': 'www.sec.gov'\n",
    "}\n",
    "\n",
    "def SEC_API_sleep():\n",
    "    # Be a good citizen! Limit requests to less than 10 per second\n",
    "    time.sleep(0.11)\n",
    "    "
   ]
  },
  {
   "cell_type": "markdown",
   "id": "1be2e222-caa4-4706-b26d-30276faef767",
   "metadata": {},
   "source": [
    "Fetch the list of CIKs from here https://www.sec.gov/Archives/edgar/cik-lookup-data.txt"
   ]
  },
  {
   "cell_type": "code",
   "execution_count": 3,
   "id": "b454f104-c59c-4ddc-b283-61410df8d220",
   "metadata": {
    "tags": []
   },
   "outputs": [],
   "source": [
    "def get_url_to_outfilename(url, outfilename, run_once_override=run_once_override):\n",
    "    if not run_once_override:\n",
    "        return -1\n",
    "    response = requests.get(url, headers=HEADERS)\n",
    "    if response.status_code != 200:\n",
    "        print(\"Status Code:\", response.status_code)\n",
    "    with open(outfilename, \"w\", encoding=\"utf-8\") as outfile:\n",
    "        outfile.write(response.text)\n",
    "    SEC_API_sleep()\n",
    "    return response"
   ]
  },
  {
   "cell_type": "code",
   "execution_count": 4,
   "id": "b8ebdd93-d130-42c2-97a1-645ed367562c",
   "metadata": {
    "tags": []
   },
   "outputs": [
    {
     "data": {
      "text/plain": [
       "-1"
      ]
     },
     "execution_count": 4,
     "metadata": {},
     "output_type": "execute_result"
    }
   ],
   "source": [
    "get_url_to_outfilename(\n",
    "    \"https://www.sec.gov/Archives/edgar/cik-lookup-data.txt\",\n",
    "    \"cik_list.txt\"\n",
    ")"
   ]
  },
  {
   "cell_type": "code",
   "execution_count": 5,
   "id": "c42fec01-92f3-4d02-9e04-f70734204335",
   "metadata": {
    "tags": []
   },
   "outputs": [
    {
     "data": {
      "text/plain": [
       "-1"
      ]
     },
     "execution_count": 5,
     "metadata": {},
     "output_type": "execute_result"
    }
   ],
   "source": [
    "get_url_to_outfilename(\n",
    "    \"https://www.sec.gov/files/company_tickers.json\",\n",
    "    \"company_tickers.json\"\n",
    ")"
   ]
  },
  {
   "cell_type": "code",
   "execution_count": 6,
   "id": "6bc5eece-aca8-4bcb-821a-00b8a3af327c",
   "metadata": {
    "tags": []
   },
   "outputs": [],
   "source": [
    "def generate_interested_companies_dict():\n",
    "    interested_company_names = []\n",
    "    return_dict = dict()\n",
    "    with open(\"interested_company_names.txt\",\"r\") as infile:\n",
    "        for line in infile:\n",
    "            interested_company_names.append(line.strip())\n",
    "    with open(\"cik_list.txt\",\"r\") as infile:\n",
    "        for line in infile:\n",
    "            for name in interested_company_names:\n",
    "                if name in line:\n",
    "                    cik_number = int(line.split(\":\")[1])\n",
    "                    cik_name = line.split(\":\")[0]\n",
    "                    return_dict[cik_number] = {\"name\": cik_name}\n",
    "    return return_dict"
   ]
  },
  {
   "cell_type": "code",
   "execution_count": 7,
   "id": "2effa6c0-188a-49ca-b029-3460a28e68c7",
   "metadata": {
    "tags": []
   },
   "outputs": [],
   "source": [
    "interested_companies_dict = generate_interested_companies_dict()"
   ]
  },
  {
   "cell_type": "markdown",
   "id": "6e1096a0-e0dc-4f06-b100-4c720a0174a0",
   "metadata": {},
   "source": [
    "We can get information about a specific CIK's filings by querying this resource:\n",
    "\n",
    "https://data.sec.gov/submissions/CIK##########.json"
   ]
  },
  {
   "cell_type": "code",
   "execution_count": 8,
   "id": "49736a7a-3a29-4fa1-afe0-64b68aaa5bd9",
   "metadata": {
    "tags": []
   },
   "outputs": [],
   "source": [
    "def save_interested_companies_indices(interested_companies_dict, run_once_override=run_once_override):\n",
    "    if not run_once_override:\n",
    "        return -1\n",
    "    for cik in interested_companies_dict:\n",
    "        url = \"https://data.sec.gov/submissions/CIK{:010d}.json\".format(cik)\n",
    "        get_url_to_outfilename(\n",
    "            \"https://data.sec.gov/submissions/CIK{:010d}.json\".format(cik),\n",
    "            \"{}.html\".format(cik),\n",
    "            run_once_override=run_once_override\n",
    "        )\n",
    "    return 0"
   ]
  },
  {
   "cell_type": "markdown",
   "id": "df5ca1f3-b78a-4999-9041-e411c32d0adb",
   "metadata": {},
   "source": [
    "The above URL is not fetching. Let's try something else.\n",
    "\n",
    "https://www.sec.gov/os/accessing-edgar-data\n",
    "\n",
    "According to the above, use https://www.sec.gov/Archives/edgar/full-index/ to get an index per quarter of all filings from all companies. Let's write a function to grab the latest index and parse out relevant links for our `interested_companies_dict`\n",
    "\n",
    "We want the `master.idx` file which contains data in this format: `CIK|Company Name|Form Type|Date Filed|Filename`\n",
    "\n",
    "The full path to this file looks like:\n",
    "\n",
    "`https://www.sec.gov/Archives/edgar/full-index/{YYYY}/QTR{1-4}/master.idx`\n",
    "\n",
    "Data extends from 1993 QTR1 - 2023 QTR1"
   ]
  },
  {
   "cell_type": "code",
   "execution_count": 9,
   "id": "eb88f7cc-680a-4bad-b38c-801436fe26c6",
   "metadata": {
    "tags": []
   },
   "outputs": [],
   "source": [
    "def get_master_index_for_year_and_quarter(year, quarter, run_once_override=run_once_override):\n",
    "    if not run_once_override:\n",
    "        return -1\n",
    "    get_url_to_outfilename(\n",
    "        \"https://www.sec.gov/Archives/edgar/full-index/{}/QTR{}/master.idx\".format(year, quarter),\n",
    "        \"indices/{}Q{}_master.idx\".format(year, quarter),\n",
    "        run_once_override=run_once_override\n",
    "    )\n",
    "    return 0"
   ]
  },
  {
   "cell_type": "code",
   "execution_count": 10,
   "id": "efd4dfea-fdf6-4427-8f98-107527250d7e",
   "metadata": {
    "tags": []
   },
   "outputs": [
    {
     "data": {
      "text/plain": [
       "-1"
      ]
     },
     "execution_count": 10,
     "metadata": {},
     "output_type": "execute_result"
    }
   ],
   "source": [
    "get_master_index_for_year_and_quarter(2023, 1)"
   ]
  },
  {
   "cell_type": "markdown",
   "id": "7c6d4607-58ff-45ba-9cfe-099099ff3607",
   "metadata": {},
   "source": [
    "Let's grab all indices since 1993 QTR1, then we can aggregate them together for one unified master index that we can parse for companies we're interested in.\n",
    "\n",
    "First we'll grab all indices."
   ]
  },
  {
   "cell_type": "code",
   "execution_count": 11,
   "id": "c834e6c1-48df-4c49-b075-89c43ad36e0f",
   "metadata": {
    "tags": []
   },
   "outputs": [],
   "source": [
    "def get_all_master_indices(run_once_override=run_once_override, start_year=1993):\n",
    "    if not run_once_override:\n",
    "        return -1\n",
    "    end_year = pd.Timestamp(datetime.datetime.now()).year\n",
    "    end_quarter = pd.Timestamp(datetime.datetime.now()).quarter\n",
    "    for year in range(start_year, end_year + 1):\n",
    "        end_quarter_range = 4 if year != end_year else end_quarter\n",
    "        for quarter in range(1, end_quarter_range + 1):\n",
    "            print(\"Fetchin index for {}Q{}\".format(year, quarter))\n",
    "            get_master_index_for_year_and_quarter(year, quarter, run_once_override)\n",
    "    return 0"
   ]
  },
  {
   "cell_type": "code",
   "execution_count": 12,
   "id": "78cca6c2-40b8-4947-855e-3fcc76e6fecd",
   "metadata": {
    "tags": []
   },
   "outputs": [
    {
     "data": {
      "text/plain": [
       "-1"
      ]
     },
     "execution_count": 12,
     "metadata": {},
     "output_type": "execute_result"
    }
   ],
   "source": [
    "get_all_master_indices()"
   ]
  },
  {
   "cell_type": "markdown",
   "id": "6261e675-5d83-404e-9144-f18be1e6e417",
   "metadata": {},
   "source": [
    "Let's also write a function to fetch only the latest index (for updates while the current quarter is ongoing)."
   ]
  },
  {
   "cell_type": "code",
   "execution_count": 13,
   "id": "5c4bebe4-bf73-4c8d-a73b-c40f012b7bad",
   "metadata": {
    "tags": []
   },
   "outputs": [],
   "source": [
    "def get_latest_master_index(run_once_override=run_once_override):\n",
    "    if not run_once_override:\n",
    "        return -1\n",
    "    year = pd.Timestamp(datetime.datetime.now()).year\n",
    "    quarter = pd.Timestamp(datetime.datetime.now()).quarter\n",
    "    print(\"Fetchin index for {}Q{}\".format(year, quarter))\n",
    "    get_master_index_for_year_and_quarter(year, quarter, run_once_override)\n",
    "    return 0"
   ]
  },
  {
   "cell_type": "code",
   "execution_count": 14,
   "id": "f0efd1ce-c698-437b-9766-ebb98259df89",
   "metadata": {
    "tags": []
   },
   "outputs": [
    {
     "data": {
      "text/plain": [
       "-1"
      ]
     },
     "execution_count": 14,
     "metadata": {},
     "output_type": "execute_result"
    }
   ],
   "source": [
    "get_latest_master_index()"
   ]
  },
  {
   "cell_type": "markdown",
   "id": "f03132c5-2130-4efd-9df6-5328020d6b64",
   "metadata": {},
   "source": [
    "Nice, now to read data. Here's what I want to do:\n",
    "\n",
    "1. Read all index files.\n",
    "2. Grab rows for CIKs that I'm interested in, based on `interested_companies_dict`\n",
    "3. Output rows as a pandas dataframe"
   ]
  },
  {
   "cell_type": "code",
   "execution_count": 15,
   "id": "a1c6b762-eb4e-4bd0-9982-77d64771a012",
   "metadata": {
    "tags": []
   },
   "outputs": [
    {
     "data": {
      "text/plain": [
       "'indices/2023Q1_master.idx'"
      ]
     },
     "execution_count": 15,
     "metadata": {},
     "output_type": "execute_result"
    }
   ],
   "source": [
    "index_files = [\"indices/\" + filepath for filepath in os.listdir(\"indices\")]\n",
    "index_files[-1]"
   ]
  },
  {
   "cell_type": "code",
   "execution_count": 16,
   "id": "5ffbc072-cfe7-4abb-9341-00d694511469",
   "metadata": {
    "tags": []
   },
   "outputs": [
    {
     "data": {
      "text/html": [
       "<div>\n",
       "<style scoped>\n",
       "    .dataframe tbody tr th:only-of-type {\n",
       "        vertical-align: middle;\n",
       "    }\n",
       "\n",
       "    .dataframe tbody tr th {\n",
       "        vertical-align: top;\n",
       "    }\n",
       "\n",
       "    .dataframe thead th {\n",
       "        text-align: right;\n",
       "    }\n",
       "</style>\n",
       "<table border=\"1\" class=\"dataframe\">\n",
       "  <thead>\n",
       "    <tr style=\"text-align: right;\">\n",
       "      <th></th>\n",
       "      <th>CIK</th>\n",
       "      <th>Company Name</th>\n",
       "      <th>Form Type</th>\n",
       "      <th>Date Filed</th>\n",
       "      <th>Filename</th>\n",
       "    </tr>\n",
       "  </thead>\n",
       "  <tbody>\n",
       "    <tr>\n",
       "      <th>23906</th>\n",
       "      <td>1108524</td>\n",
       "      <td>Salesforce, Inc.</td>\n",
       "      <td>10-K</td>\n",
       "      <td>2023-03-08</td>\n",
       "      <td>edgar/data/1108524/0001108524-23-000011.txt</td>\n",
       "    </tr>\n",
       "    <tr>\n",
       "      <th>23907</th>\n",
       "      <td>1108524</td>\n",
       "      <td>Salesforce, Inc.</td>\n",
       "      <td>13F-HR</td>\n",
       "      <td>2023-02-10</td>\n",
       "      <td>edgar/data/1108524/0001108524-23-000005.txt</td>\n",
       "    </tr>\n",
       "    <tr>\n",
       "      <th>23908</th>\n",
       "      <td>1108524</td>\n",
       "      <td>Salesforce, Inc.</td>\n",
       "      <td>3</td>\n",
       "      <td>2023-03-03</td>\n",
       "      <td>edgar/data/1108524/0001127602-23-008948.txt</td>\n",
       "    </tr>\n",
       "    <tr>\n",
       "      <th>23909</th>\n",
       "      <td>1108524</td>\n",
       "      <td>Salesforce, Inc.</td>\n",
       "      <td>3</td>\n",
       "      <td>2023-03-03</td>\n",
       "      <td>edgar/data/1108524/0001127602-23-008950.txt</td>\n",
       "    </tr>\n",
       "    <tr>\n",
       "      <th>23910</th>\n",
       "      <td>1108524</td>\n",
       "      <td>Salesforce, Inc.</td>\n",
       "      <td>3</td>\n",
       "      <td>2023-03-03</td>\n",
       "      <td>edgar/data/1108524/0001418812-23-000017.txt</td>\n",
       "    </tr>\n",
       "    <tr>\n",
       "      <th>...</th>\n",
       "      <td>...</td>\n",
       "      <td>...</td>\n",
       "      <td>...</td>\n",
       "      <td>...</td>\n",
       "      <td>...</td>\n",
       "    </tr>\n",
       "    <tr>\n",
       "      <th>23995</th>\n",
       "      <td>1108524</td>\n",
       "      <td>Salesforce, Inc.</td>\n",
       "      <td>8-K</td>\n",
       "      <td>2023-01-27</td>\n",
       "      <td>edgar/data/1108524/0001193125-23-017661.txt</td>\n",
       "    </tr>\n",
       "    <tr>\n",
       "      <th>23996</th>\n",
       "      <td>1108524</td>\n",
       "      <td>Salesforce, Inc.</td>\n",
       "      <td>8-K</td>\n",
       "      <td>2023-03-01</td>\n",
       "      <td>edgar/data/1108524/0001108524-23-000007.txt</td>\n",
       "    </tr>\n",
       "    <tr>\n",
       "      <th>23997</th>\n",
       "      <td>1108524</td>\n",
       "      <td>Salesforce, Inc.</td>\n",
       "      <td>SC 13G/A</td>\n",
       "      <td>2023-02-07</td>\n",
       "      <td>edgar/data/1108524/0001306550-23-008329.txt</td>\n",
       "    </tr>\n",
       "    <tr>\n",
       "      <th>23998</th>\n",
       "      <td>1108524</td>\n",
       "      <td>Salesforce, Inc.</td>\n",
       "      <td>SC 13G/A</td>\n",
       "      <td>2023-02-09</td>\n",
       "      <td>edgar/data/1108524/0000315066-23-002031.txt</td>\n",
       "    </tr>\n",
       "    <tr>\n",
       "      <th>23999</th>\n",
       "      <td>1108524</td>\n",
       "      <td>Salesforce, Inc.</td>\n",
       "      <td>SC 13G/A</td>\n",
       "      <td>2023-02-09</td>\n",
       "      <td>edgar/data/1108524/0001104659-23-016896.txt</td>\n",
       "    </tr>\n",
       "  </tbody>\n",
       "</table>\n",
       "<p>94 rows × 5 columns</p>\n",
       "</div>"
      ],
      "text/plain": [
       "           CIK      Company Name Form Type  Date Filed  \\\n",
       "23906  1108524  Salesforce, Inc.      10-K  2023-03-08   \n",
       "23907  1108524  Salesforce, Inc.    13F-HR  2023-02-10   \n",
       "23908  1108524  Salesforce, Inc.         3  2023-03-03   \n",
       "23909  1108524  Salesforce, Inc.         3  2023-03-03   \n",
       "23910  1108524  Salesforce, Inc.         3  2023-03-03   \n",
       "...        ...               ...       ...         ...   \n",
       "23995  1108524  Salesforce, Inc.       8-K  2023-01-27   \n",
       "23996  1108524  Salesforce, Inc.       8-K  2023-03-01   \n",
       "23997  1108524  Salesforce, Inc.  SC 13G/A  2023-02-07   \n",
       "23998  1108524  Salesforce, Inc.  SC 13G/A  2023-02-09   \n",
       "23999  1108524  Salesforce, Inc.  SC 13G/A  2023-02-09   \n",
       "\n",
       "                                          Filename  \n",
       "23906  edgar/data/1108524/0001108524-23-000011.txt  \n",
       "23907  edgar/data/1108524/0001108524-23-000005.txt  \n",
       "23908  edgar/data/1108524/0001127602-23-008948.txt  \n",
       "23909  edgar/data/1108524/0001127602-23-008950.txt  \n",
       "23910  edgar/data/1108524/0001418812-23-000017.txt  \n",
       "...                                            ...  \n",
       "23995  edgar/data/1108524/0001193125-23-017661.txt  \n",
       "23996  edgar/data/1108524/0001108524-23-000007.txt  \n",
       "23997  edgar/data/1108524/0001306550-23-008329.txt  \n",
       "23998  edgar/data/1108524/0000315066-23-002031.txt  \n",
       "23999  edgar/data/1108524/0001104659-23-016896.txt  \n",
       "\n",
       "[94 rows x 5 columns]"
      ]
     },
     "execution_count": 16,
     "metadata": {},
     "output_type": "execute_result"
    }
   ],
   "source": [
    "index_column_names = [\"CIK\",\"Company Name\",\"Form Type\",\"Date Filed\",\"Filename\"]\n",
    "index_dataframe = pd.read_csv(index_files[-1], sep = \"|\", skiprows=11, names=index_column_names)\n",
    "index_dataframe[index_dataframe[\"CIK\"].isin(interested_companies_dict)]"
   ]
  },
  {
   "cell_type": "markdown",
   "id": "8a24b7e1-1a33-48ba-901f-3ea008e63b48",
   "metadata": {},
   "source": [
    "Okay, I have the pieces to read the data correctly from the files and to focus on only the companies I care about. The last step is figure out how to concatenate two dataframes together.\n",
    "\n",
    "Looks like `pd.concat([list of dataframes])` will do the job. Time to stitch it all together."
   ]
  },
  {
   "cell_type": "code",
   "execution_count": 17,
   "id": "98739f49-703c-4431-b23a-ae3057bf8dbd",
   "metadata": {
    "tags": []
   },
   "outputs": [],
   "source": [
    "def print_percent_complete(step, total, url = None):\n",
    "    url_string = \"\" if not url else \"parsed {}\".format(url)\n",
    "    print(\"{:.2f}% complete\\t{}\".format( (step / total) * 100, url_string), end = \"\\r\")"
   ]
  },
  {
   "cell_type": "code",
   "execution_count": 18,
   "id": "cbc13b84-dc67-44df-8602-2d251044000d",
   "metadata": {
    "tags": []
   },
   "outputs": [],
   "source": [
    "def get_index_dataframe_for_interested_companies(interested_companies_dict, interested_forms=None, tail=None):\n",
    "    index_files = [\"indices/\" + filepath for filepath in os.listdir(\"indices\")]\n",
    "    if tail:\n",
    "        index_files = index_files[-tail:]\n",
    "    index_column_names = [\"CIK\",\"Company Name\",\"Form Type\",\"Date Filed\",\"Filename\"]\n",
    "    return_dataframe = pd.DataFrame()\n",
    "    for i in range(len(index_files)):\n",
    "        index_file = index_files[i]\n",
    "        index_dataframe = pd.read_csv(index_file, sep = \"|\", skiprows=11, names=index_column_names)\n",
    "        index_dataframe = index_dataframe[\n",
    "            index_dataframe[\"CIK\"].isin(interested_companies_dict)\n",
    "        ]\n",
    "        if interested_forms is not None:\n",
    "            index_dataframe = index_dataframe[\n",
    "                index_dataframe[\"Form Type\"].isin(interested_forms)\n",
    "            ]\n",
    "        return_dataframe = pd.concat([return_dataframe, index_dataframe])\n",
    "        print_percent_complete(i + 1, len(index_files))\n",
    "    print()\n",
    "    return_dataframe['Filename'] = \"https://www.sec.gov/Archives/\" + return_dataframe['Filename']\n",
    "    return return_dataframe.reset_index(drop=True)"
   ]
  },
  {
   "cell_type": "code",
   "execution_count": 19,
   "id": "9b5947cf-c9ab-4dbd-950e-13e6087ab01c",
   "metadata": {
    "tags": []
   },
   "outputs": [
    {
     "name": "stdout",
     "output_type": "stream",
     "text": [
      "100.00% complete\t\n"
     ]
    },
    {
     "data": {
      "text/html": [
       "<div>\n",
       "<style scoped>\n",
       "    .dataframe tbody tr th:only-of-type {\n",
       "        vertical-align: middle;\n",
       "    }\n",
       "\n",
       "    .dataframe tbody tr th {\n",
       "        vertical-align: top;\n",
       "    }\n",
       "\n",
       "    .dataframe thead th {\n",
       "        text-align: right;\n",
       "    }\n",
       "</style>\n",
       "<table border=\"1\" class=\"dataframe\">\n",
       "  <thead>\n",
       "    <tr style=\"text-align: right;\">\n",
       "      <th></th>\n",
       "      <th>CIK</th>\n",
       "      <th>Company Name</th>\n",
       "      <th>Form Type</th>\n",
       "      <th>Date Filed</th>\n",
       "      <th>Filename</th>\n",
       "    </tr>\n",
       "  </thead>\n",
       "  <tbody>\n",
       "    <tr>\n",
       "      <th>0</th>\n",
       "      <td>1108524</td>\n",
       "      <td>SALESFORCE COM INC</td>\n",
       "      <td>4</td>\n",
       "      <td>2004-06-30</td>\n",
       "      <td>https://www.sec.gov/Archives/edgar/data/110852...</td>\n",
       "    </tr>\n",
       "    <tr>\n",
       "      <th>1</th>\n",
       "      <td>1108524</td>\n",
       "      <td>SALESFORCE COM INC</td>\n",
       "      <td>4</td>\n",
       "      <td>2004-06-30</td>\n",
       "      <td>https://www.sec.gov/Archives/edgar/data/110852...</td>\n",
       "    </tr>\n",
       "    <tr>\n",
       "      <th>2</th>\n",
       "      <td>1108524</td>\n",
       "      <td>SALESFORCE COM INC</td>\n",
       "      <td>4</td>\n",
       "      <td>2004-06-30</td>\n",
       "      <td>https://www.sec.gov/Archives/edgar/data/110852...</td>\n",
       "    </tr>\n",
       "    <tr>\n",
       "      <th>3</th>\n",
       "      <td>1108524</td>\n",
       "      <td>SALESFORCE COM INC</td>\n",
       "      <td>4</td>\n",
       "      <td>2004-06-30</td>\n",
       "      <td>https://www.sec.gov/Archives/edgar/data/110852...</td>\n",
       "    </tr>\n",
       "    <tr>\n",
       "      <th>4</th>\n",
       "      <td>1108524</td>\n",
       "      <td>SALESFORCE COM INC</td>\n",
       "      <td>4</td>\n",
       "      <td>2004-06-30</td>\n",
       "      <td>https://www.sec.gov/Archives/edgar/data/110852...</td>\n",
       "    </tr>\n",
       "    <tr>\n",
       "      <th>...</th>\n",
       "      <td>...</td>\n",
       "      <td>...</td>\n",
       "      <td>...</td>\n",
       "      <td>...</td>\n",
       "      <td>...</td>\n",
       "    </tr>\n",
       "    <tr>\n",
       "      <th>7684</th>\n",
       "      <td>1108524</td>\n",
       "      <td>Salesforce, Inc.</td>\n",
       "      <td>4</td>\n",
       "      <td>2023-03-15</td>\n",
       "      <td>https://www.sec.gov/Archives/edgar/data/110852...</td>\n",
       "    </tr>\n",
       "    <tr>\n",
       "      <th>7685</th>\n",
       "      <td>1108524</td>\n",
       "      <td>Salesforce, Inc.</td>\n",
       "      <td>4</td>\n",
       "      <td>2023-03-15</td>\n",
       "      <td>https://www.sec.gov/Archives/edgar/data/110852...</td>\n",
       "    </tr>\n",
       "    <tr>\n",
       "      <th>7686</th>\n",
       "      <td>1108524</td>\n",
       "      <td>Salesforce, Inc.</td>\n",
       "      <td>4</td>\n",
       "      <td>2023-03-16</td>\n",
       "      <td>https://www.sec.gov/Archives/edgar/data/110852...</td>\n",
       "    </tr>\n",
       "    <tr>\n",
       "      <th>7687</th>\n",
       "      <td>1108524</td>\n",
       "      <td>Salesforce, Inc.</td>\n",
       "      <td>4</td>\n",
       "      <td>2023-03-17</td>\n",
       "      <td>https://www.sec.gov/Archives/edgar/data/110852...</td>\n",
       "    </tr>\n",
       "    <tr>\n",
       "      <th>7688</th>\n",
       "      <td>1108524</td>\n",
       "      <td>Salesforce, Inc.</td>\n",
       "      <td>4</td>\n",
       "      <td>2023-03-20</td>\n",
       "      <td>https://www.sec.gov/Archives/edgar/data/110852...</td>\n",
       "    </tr>\n",
       "  </tbody>\n",
       "</table>\n",
       "<p>7689 rows × 5 columns</p>\n",
       "</div>"
      ],
      "text/plain": [
       "          CIK        Company Name Form Type  Date Filed  \\\n",
       "0     1108524  SALESFORCE COM INC         4  2004-06-30   \n",
       "1     1108524  SALESFORCE COM INC         4  2004-06-30   \n",
       "2     1108524  SALESFORCE COM INC         4  2004-06-30   \n",
       "3     1108524  SALESFORCE COM INC         4  2004-06-30   \n",
       "4     1108524  SALESFORCE COM INC         4  2004-06-30   \n",
       "...       ...                 ...       ...         ...   \n",
       "7684  1108524    Salesforce, Inc.         4  2023-03-15   \n",
       "7685  1108524    Salesforce, Inc.         4  2023-03-15   \n",
       "7686  1108524    Salesforce, Inc.         4  2023-03-16   \n",
       "7687  1108524    Salesforce, Inc.         4  2023-03-17   \n",
       "7688  1108524    Salesforce, Inc.         4  2023-03-20   \n",
       "\n",
       "                                               Filename  \n",
       "0     https://www.sec.gov/Archives/edgar/data/110852...  \n",
       "1     https://www.sec.gov/Archives/edgar/data/110852...  \n",
       "2     https://www.sec.gov/Archives/edgar/data/110852...  \n",
       "3     https://www.sec.gov/Archives/edgar/data/110852...  \n",
       "4     https://www.sec.gov/Archives/edgar/data/110852...  \n",
       "...                                                 ...  \n",
       "7684  https://www.sec.gov/Archives/edgar/data/110852...  \n",
       "7685  https://www.sec.gov/Archives/edgar/data/110852...  \n",
       "7686  https://www.sec.gov/Archives/edgar/data/110852...  \n",
       "7687  https://www.sec.gov/Archives/edgar/data/110852...  \n",
       "7688  https://www.sec.gov/Archives/edgar/data/110852...  \n",
       "\n",
       "[7689 rows x 5 columns]"
      ]
     },
     "execution_count": 19,
     "metadata": {},
     "output_type": "execute_result"
    }
   ],
   "source": [
    "interested_company_form_4_index = get_index_dataframe_for_interested_companies(\n",
    "    interested_companies_dict, \n",
    "    [\"4\"]\n",
    ")\n",
    "interested_company_form_4_index"
   ]
  },
  {
   "cell_type": "markdown",
   "id": "d232a752-689f-426c-9d2d-504d9db6cf89",
   "metadata": {},
   "source": [
    "Great! I can grab the locations of the forms I want. Now to pull the data for those actual forms..."
   ]
  },
  {
   "cell_type": "code",
   "execution_count": 20,
   "id": "f329485d-bffb-4f01-88da-c757aa013744",
   "metadata": {
    "tags": []
   },
   "outputs": [],
   "source": [
    "edgar_archive_url_root = \"https://www.sec.gov/Archives/\""
   ]
  },
  {
   "cell_type": "code",
   "execution_count": 21,
   "id": "8bb7928b-2dc7-4167-90e9-4a94ca41907a",
   "metadata": {
    "tags": []
   },
   "outputs": [],
   "source": [
    "form_4_urls_to_collect = [edgar_archive_url_root + i for i in interested_company_form_4_index[\"Filename\"]]"
   ]
  },
  {
   "cell_type": "code",
   "execution_count": 22,
   "id": "c340a7ac-fcd7-4464-b3cc-8984058b3cab",
   "metadata": {
    "tags": []
   },
   "outputs": [],
   "source": [
    "def get_forms_from_url_list(form_urls_to_collect, run_once_override=run_once_override):\n",
    "    if not run_once_override:\n",
    "        return -1\n",
    "    for i in range(len(form_urls_to_collect)):\n",
    "        form_url = form_urls_to_collect[i]\n",
    "        get_url_to_outfilename(\n",
    "            form_url,\n",
    "            \"forms/\" + form_url.split(\"/\")[-1],\n",
    "            run_once_override\n",
    "        )\n",
    "        print_percent_complete(i + 1, len(form_urls_to_collect))\n",
    "    print()\n",
    "    return 0"
   ]
  },
  {
   "cell_type": "code",
   "execution_count": 23,
   "id": "a9d08bf7-212a-4346-ac8a-13a1663b70ce",
   "metadata": {
    "tags": []
   },
   "outputs": [
    {
     "data": {
      "text/plain": [
       "-1"
      ]
     },
     "execution_count": 23,
     "metadata": {},
     "output_type": "execute_result"
    }
   ],
   "source": [
    "get_forms_from_url_list(form_4_urls_to_collect) "
   ]
  },
  {
   "cell_type": "code",
   "execution_count": 24,
   "id": "d9a3076c-04cb-4eca-ae3f-9f562160a6e5",
   "metadata": {
    "tags": []
   },
   "outputs": [
    {
     "data": {
      "text/plain": [
       "[]"
      ]
     },
     "execution_count": 24,
     "metadata": {},
     "output_type": "execute_result"
    }
   ],
   "source": [
    "form_4_paths = [\"forms/\" + filepath for filepath in os.listdir(\"forms\")]\n",
    "form_4_paths"
   ]
  },
  {
   "cell_type": "markdown",
   "id": "872a697c-8073-4870-82d4-2a8bc48bec7a",
   "metadata": {},
   "source": [
    "Time to parse the XML and extract key form 4 data..."
   ]
  },
  {
   "cell_type": "code",
   "execution_count": 25,
   "id": "4bcd49fb-d299-48b5-8c05-39a99c80e8ff",
   "metadata": {
    "tags": []
   },
   "outputs": [],
   "source": [
    "def get_XML_tree_from_file_path(file_path):\n",
    "    file_lines = []\n",
    "    with open(file_path, \"r\") as infile:\n",
    "        file_lines = infile.readlines()\n",
    "    XML_string = \"\".join(file_lines[file_lines.index('<XML>\\n')+1:file_lines.index('</XML>\\n')])\n",
    "    return ET.fromstring(XML_string)"
   ]
  },
  {
   "cell_type": "markdown",
   "id": "bdd9ab3a-67ef-40a9-83bb-21d98068fadd",
   "metadata": {
    "tags": []
   },
   "source": [
    "Okay we've sort of figured out how to walk through the XML tree, let's define the data we're trying to extract:\n",
    "\n",
    "1. Name of Reporting Person\n",
    "2. Title of Reporting Person\n",
    "3. Issuer Name\n",
    "4. Issuer Ticker\n",
    "5. Non-Derivative Securities\n",
    "    * Title of Security\n",
    "    * Date\n",
    "    * Code\n",
    "    * Amount\n",
    "    * Security Acquired or Disposed A / D\n",
    "    * Price\n",
    "    * Amount Total Following Reported Transaction\n",
    "    * Ownership Direct or Indirect D / I\n",
    "    * Nature of Indirect Beneficial Ownership\n",
    "6. Derivative Securities\n",
    "    * Title of Security\n",
    "    * Exercise Price\n",
    "    * Date\n",
    "    * Code\n",
    "    * Amount\n",
    "    * Security Acquired or Disposed A / D\n",
    "    * Date Exercisable\n",
    "    * Date of Expiry\n",
    "    * Title of Security Underlying\n",
    "    * Amount of Security Underlying\n",
    "    * Price of Derivative Security\n",
    "    * Amount of Derivative Security Total Following Reported Transaction\n",
    "    * Ownership Form Direct or Indirect D / A\n",
    "    * Nature of Indirect Beneficial Ownership"
   ]
  },
  {
   "cell_type": "code",
   "execution_count": 26,
   "id": "ad2c68d6-d11c-4829-9019-c9f73e4ce545",
   "metadata": {
    "tags": []
   },
   "outputs": [],
   "source": [
    "def get_text_from_XML_tree_and_xpath_string(XML_tree, xpath):\n",
    "    result = XML_tree.find(xpath)\n",
    "    return result.text if result is not None else result"
   ]
  },
  {
   "cell_type": "code",
   "execution_count": 27,
   "id": "0a0aeacb-adf9-4a30-a004-3ad115990eb3",
   "metadata": {
    "tags": []
   },
   "outputs": [],
   "source": [
    "def get_form_4_dict_from_XML_tree(XML_tree): # BUG: if there is not a derivative_table, handle the case\n",
    "    form_4_dict = {\n",
    "        \"name_of_reporting_person\": \n",
    "        get_text_from_XML_tree_and_xpath_string(XML_tree, './reportingOwner/reportingOwnerId/rptOwnerName'),\n",
    "        \"title_of_reporting_person\": \n",
    "        get_text_from_XML_tree_and_xpath_string(XML_tree, './reportingOwner/reportingOwnerRelationship/officerTitle'),\n",
    "        \"issuer_name\":\n",
    "        get_text_from_XML_tree_and_xpath_string(XML_tree, './issuer/issuerName'),\n",
    "        \"issuer_ticker\":\n",
    "        get_text_from_XML_tree_and_xpath_string(XML_tree, './issuer/issuerTradingSymbol'),\n",
    "    }\n",
    "    form_4_dict[\"non_derivative_table\"] = [] if not XML_tree.find('./nonDerivativeTable') else \\\n",
    "    [\n",
    "        {\n",
    "            \"title_of_security\":\n",
    "            get_text_from_XML_tree_and_xpath_string(non_derivative_transaction, './securityTitle/value'),\n",
    "            \"transaction_date\":\n",
    "            get_text_from_XML_tree_and_xpath_string(non_derivative_transaction, './transactionDate/value'),\n",
    "            \"transaction_code\":\n",
    "            get_text_from_XML_tree_and_xpath_string(non_derivative_transaction, './transactionCoding/transactionCode'),\n",
    "            \"amount_of_shares\":\n",
    "            get_text_from_XML_tree_and_xpath_string(non_derivative_transaction, './transactionAmounts/transactionShares/value'),\n",
    "            \"security_acquired_or_disposed\":\n",
    "            get_text_from_XML_tree_and_xpath_string(non_derivative_transaction, './transactionAmounts/transactionAcquiredDisposedCode/value'),\n",
    "            \"price\":\n",
    "            get_text_from_XML_tree_and_xpath_string(non_derivative_transaction, './transactionAmounts/transactionPricePerShare/value'),\n",
    "            \"amount_owned_following_transaction\":\n",
    "            get_text_from_XML_tree_and_xpath_string(non_derivative_transaction, './postTransactionAmounts/sharesOwnedFollowingTransaction/value'),\n",
    "            \"ownership_direct_or_indirect\":\n",
    "            get_text_from_XML_tree_and_xpath_string(non_derivative_transaction, './ownershipNature/directOrIndirectOwnership/value'),\n",
    "            \"nature_of_indirect_ownership\":\n",
    "            get_text_from_XML_tree_and_xpath_string(non_derivative_transaction, './ownershipNature/natureOfOwnership/value'),\n",
    "        } for non_derivative_transaction in XML_tree.find('./nonDerivativeTable').findall('nonDerivativeTransaction')\n",
    "    ]\n",
    "    form_4_dict[\"derivative_table\"] = [] if not XML_tree.find('./derivativeTable') else \\\n",
    "    [\n",
    "        {\n",
    "            \"title_of_security\":\n",
    "            get_text_from_XML_tree_and_xpath_string(derivative_transaction, './securityTitle/value'),\n",
    "            \"transaction_date\":\n",
    "            get_text_from_XML_tree_and_xpath_string(derivative_transaction, './transactionDate/value'),\n",
    "            \"transaction_code\":\n",
    "            get_text_from_XML_tree_and_xpath_string(derivative_transaction, './transactionCoding/transactionCode'),\n",
    "            \"amount_of_shares\":\n",
    "            get_text_from_XML_tree_and_xpath_string(derivative_transaction, './transactionAmounts/transactionShares/value'),\n",
    "            \"security_acquired_or_disposed\":\n",
    "            get_text_from_XML_tree_and_xpath_string(derivative_transaction, './transactionAmounts/transactionAcquiredDisposedCode/value'),\n",
    "            \"price\":\n",
    "            get_text_from_XML_tree_and_xpath_string(derivative_transaction, './transactionAmounts/transactionPricePerShare/value'),\n",
    "            \"amount_owned_following_transaction\":\n",
    "            get_text_from_XML_tree_and_xpath_string(derivative_transaction, './postTransactionAmounts/sharesOwnedFollowingTransaction/value'),\n",
    "            \"ownership_direct_or_indirect\":\n",
    "            get_text_from_XML_tree_and_xpath_string(derivative_transaction, './ownershipNature/directOrIndirectOwnership/value'),\n",
    "            \"nature_of_indirect_ownership\":\n",
    "            get_text_from_XML_tree_and_xpath_string(derivative_transaction, './ownershipNature/natureOfOwnership/value'),\n",
    "            \"date_exercisable\":\n",
    "            get_text_from_XML_tree_and_xpath_string(derivative_transaction, './exerciseDate/value'),\n",
    "            \"date_of_expiry\":\n",
    "            get_text_from_XML_tree_and_xpath_string(derivative_transaction, './expirationDate/value'),\n",
    "            \"title_of_security_underlying\":\n",
    "            get_text_from_XML_tree_and_xpath_string(derivative_transaction, './underlyingSecurity/underlyingSecurityTitle/value'),\n",
    "            \"amount_of_security_underlying\":\n",
    "            get_text_from_XML_tree_and_xpath_string(derivative_transaction, './underlyingSecurity/underlyingSecurityShares/value'),\n",
    "            \"exercise_price\":\n",
    "            get_text_from_XML_tree_and_xpath_string(derivative_transaction, './conversionOrExercisePrice/value'),\n",
    "        } for derivative_transaction in XML_tree.find('./derivativeTable').findall('derivativeTransaction')\n",
    "    ]\n",
    "    return form_4_dict"
   ]
  },
  {
   "cell_type": "code",
   "execution_count": 57,
   "id": "d0ad5775-a2a1-4896-a59e-aed8162e314f",
   "metadata": {
    "tags": []
   },
   "outputs": [],
   "source": [
    "def set_form_4_dataframe_dtypes(form_4_dataframe):\n",
    "    form_4_dataframe['transaction_date'] = pd.to_datetime(form_4_dataframe['transaction_date'])\n",
    "    form_4_dataframe['amount_of_shares'] = form_4_dataframe['amount_of_shares'].astype(pd.Int64Dtype())\n",
    "    form_4_dataframe['price'] = form_4_dataframe['price'].astype(np.float64)\n",
    "    form_4_dataframe['amount_owned_following_transaction'] = form_4_dataframe['amount_owned_following_transaction'].astype(pd.Int64Dtype())\n",
    "    form_4_dataframe['date_exercisable'] = pd.to_datetime(form_4_dataframe['date_exercisable'])\n",
    "    form_4_dataframe['date_of_expiry'] = pd.to_datetime(form_4_dataframe['date_of_expiry'])\n",
    "    form_4_dataframe['amount_of_security_underlying'] = form_4_dataframe['amount_of_security_underlying'].astype(pd.Int64Dtype())\n",
    "    form_4_dataframe['exercise_price'] = form_4_dataframe['exercise_price'].astype(np.float64)\n",
    "    return form_4_dataframe\n",
    "\n",
    "def get_form_4_transaction_dataframe_from_form_4_dict(form_4_dict):\n",
    "    column_order = [\n",
    "        'issuer_name',\n",
    "        'issuer_ticker',\n",
    "        'name_of_reporting_person',\n",
    "        'title_of_reporting_person',    \n",
    "        'title_of_security',\n",
    "        'transaction_date',\n",
    "        'transaction_code',\n",
    "        'amount_of_shares',\n",
    "        'security_acquired_or_disposed',\n",
    "        'price',\n",
    "        'amount_owned_following_transaction',\n",
    "        'ownership_direct_or_indirect',\n",
    "        'nature_of_indirect_ownership',\n",
    "        'date_exercisable',\n",
    "        'date_of_expiry',\n",
    "        'title_of_security_underlying',\n",
    "        'amount_of_security_underlying',\n",
    "        'exercise_price',\n",
    "    ]\n",
    "    non_derivative_dataframe = pd.DataFrame(form_4_dict['non_derivative_table'], columns = column_order)\n",
    "    derivative_dataframe = pd.DataFrame(form_4_dict['derivative_table'], columns = column_order)\n",
    "    return_dataframe = pd.concat([non_derivative_dataframe, derivative_dataframe])\n",
    "    keys_to_add_to_all_rows = [\n",
    "        'name_of_reporting_person', \n",
    "        'title_of_reporting_person',\n",
    "        'issuer_name',\n",
    "        'issuer_ticker'\n",
    "    ]\n",
    "    for key in keys_to_add_to_all_rows:\n",
    "        return_dataframe[key] = form_4_dict[key]\n",
    "    return_dataframe = return_dataframe[column_order]\n",
    "    return_dataframe = set_form_4_dataframe_dtypes(return_dataframe)\n",
    "    return return_dataframe.reset_index(drop=True)"
   ]
  },
  {
   "cell_type": "code",
   "execution_count": 31,
   "id": "6fdabe24-21b6-4294-a9d7-e2bf417e633c",
   "metadata": {
    "tags": []
   },
   "outputs": [
    {
     "data": {
      "text/html": [
       "<div>\n",
       "<style scoped>\n",
       "    .dataframe tbody tr th:only-of-type {\n",
       "        vertical-align: middle;\n",
       "    }\n",
       "\n",
       "    .dataframe tbody tr th {\n",
       "        vertical-align: top;\n",
       "    }\n",
       "\n",
       "    .dataframe thead th {\n",
       "        text-align: right;\n",
       "    }\n",
       "</style>\n",
       "<table border=\"1\" class=\"dataframe\">\n",
       "  <thead>\n",
       "    <tr style=\"text-align: right;\">\n",
       "      <th></th>\n",
       "      <th>CIK</th>\n",
       "      <th>Company Name</th>\n",
       "      <th>Form Type</th>\n",
       "      <th>Date Filed</th>\n",
       "      <th>Filename</th>\n",
       "    </tr>\n",
       "  </thead>\n",
       "  <tbody>\n",
       "    <tr>\n",
       "      <th>0</th>\n",
       "      <td>1108524</td>\n",
       "      <td>SALESFORCE COM INC</td>\n",
       "      <td>4</td>\n",
       "      <td>2004-06-30</td>\n",
       "      <td>https://www.sec.gov/Archives/edgar/data/110852...</td>\n",
       "    </tr>\n",
       "    <tr>\n",
       "      <th>1</th>\n",
       "      <td>1108524</td>\n",
       "      <td>SALESFORCE COM INC</td>\n",
       "      <td>4</td>\n",
       "      <td>2004-06-30</td>\n",
       "      <td>https://www.sec.gov/Archives/edgar/data/110852...</td>\n",
       "    </tr>\n",
       "    <tr>\n",
       "      <th>2</th>\n",
       "      <td>1108524</td>\n",
       "      <td>SALESFORCE COM INC</td>\n",
       "      <td>4</td>\n",
       "      <td>2004-06-30</td>\n",
       "      <td>https://www.sec.gov/Archives/edgar/data/110852...</td>\n",
       "    </tr>\n",
       "    <tr>\n",
       "      <th>3</th>\n",
       "      <td>1108524</td>\n",
       "      <td>SALESFORCE COM INC</td>\n",
       "      <td>4</td>\n",
       "      <td>2004-06-30</td>\n",
       "      <td>https://www.sec.gov/Archives/edgar/data/110852...</td>\n",
       "    </tr>\n",
       "    <tr>\n",
       "      <th>4</th>\n",
       "      <td>1108524</td>\n",
       "      <td>SALESFORCE COM INC</td>\n",
       "      <td>4</td>\n",
       "      <td>2004-06-30</td>\n",
       "      <td>https://www.sec.gov/Archives/edgar/data/110852...</td>\n",
       "    </tr>\n",
       "    <tr>\n",
       "      <th>...</th>\n",
       "      <td>...</td>\n",
       "      <td>...</td>\n",
       "      <td>...</td>\n",
       "      <td>...</td>\n",
       "      <td>...</td>\n",
       "    </tr>\n",
       "    <tr>\n",
       "      <th>7684</th>\n",
       "      <td>1108524</td>\n",
       "      <td>Salesforce, Inc.</td>\n",
       "      <td>4</td>\n",
       "      <td>2023-03-15</td>\n",
       "      <td>https://www.sec.gov/Archives/edgar/data/110852...</td>\n",
       "    </tr>\n",
       "    <tr>\n",
       "      <th>7685</th>\n",
       "      <td>1108524</td>\n",
       "      <td>Salesforce, Inc.</td>\n",
       "      <td>4</td>\n",
       "      <td>2023-03-15</td>\n",
       "      <td>https://www.sec.gov/Archives/edgar/data/110852...</td>\n",
       "    </tr>\n",
       "    <tr>\n",
       "      <th>7686</th>\n",
       "      <td>1108524</td>\n",
       "      <td>Salesforce, Inc.</td>\n",
       "      <td>4</td>\n",
       "      <td>2023-03-16</td>\n",
       "      <td>https://www.sec.gov/Archives/edgar/data/110852...</td>\n",
       "    </tr>\n",
       "    <tr>\n",
       "      <th>7687</th>\n",
       "      <td>1108524</td>\n",
       "      <td>Salesforce, Inc.</td>\n",
       "      <td>4</td>\n",
       "      <td>2023-03-17</td>\n",
       "      <td>https://www.sec.gov/Archives/edgar/data/110852...</td>\n",
       "    </tr>\n",
       "    <tr>\n",
       "      <th>7688</th>\n",
       "      <td>1108524</td>\n",
       "      <td>Salesforce, Inc.</td>\n",
       "      <td>4</td>\n",
       "      <td>2023-03-20</td>\n",
       "      <td>https://www.sec.gov/Archives/edgar/data/110852...</td>\n",
       "    </tr>\n",
       "  </tbody>\n",
       "</table>\n",
       "<p>7689 rows × 5 columns</p>\n",
       "</div>"
      ],
      "text/plain": [
       "          CIK        Company Name Form Type  Date Filed  \\\n",
       "0     1108524  SALESFORCE COM INC         4  2004-06-30   \n",
       "1     1108524  SALESFORCE COM INC         4  2004-06-30   \n",
       "2     1108524  SALESFORCE COM INC         4  2004-06-30   \n",
       "3     1108524  SALESFORCE COM INC         4  2004-06-30   \n",
       "4     1108524  SALESFORCE COM INC         4  2004-06-30   \n",
       "...       ...                 ...       ...         ...   \n",
       "7684  1108524    Salesforce, Inc.         4  2023-03-15   \n",
       "7685  1108524    Salesforce, Inc.         4  2023-03-15   \n",
       "7686  1108524    Salesforce, Inc.         4  2023-03-16   \n",
       "7687  1108524    Salesforce, Inc.         4  2023-03-17   \n",
       "7688  1108524    Salesforce, Inc.         4  2023-03-20   \n",
       "\n",
       "                                               Filename  \n",
       "0     https://www.sec.gov/Archives/edgar/data/110852...  \n",
       "1     https://www.sec.gov/Archives/edgar/data/110852...  \n",
       "2     https://www.sec.gov/Archives/edgar/data/110852...  \n",
       "3     https://www.sec.gov/Archives/edgar/data/110852...  \n",
       "4     https://www.sec.gov/Archives/edgar/data/110852...  \n",
       "...                                                 ...  \n",
       "7684  https://www.sec.gov/Archives/edgar/data/110852...  \n",
       "7685  https://www.sec.gov/Archives/edgar/data/110852...  \n",
       "7686  https://www.sec.gov/Archives/edgar/data/110852...  \n",
       "7687  https://www.sec.gov/Archives/edgar/data/110852...  \n",
       "7688  https://www.sec.gov/Archives/edgar/data/110852...  \n",
       "\n",
       "[7689 rows x 5 columns]"
      ]
     },
     "execution_count": 31,
     "metadata": {},
     "output_type": "execute_result"
    }
   ],
   "source": [
    "interested_company_form_4_index"
   ]
  },
  {
   "cell_type": "code",
   "execution_count": 32,
   "id": "3b1f6c52-d30c-46b3-8a99-f8feb9048ac3",
   "metadata": {
    "tags": []
   },
   "outputs": [],
   "source": [
    "def get_url_to_outstring(url, run_once_override=run_once_override):\n",
    "    if not run_once_override:\n",
    "        return -1\n",
    "    response = requests.get(url, headers=HEADERS)\n",
    "    if response.status_code != 200:\n",
    "        print(\"Status Code:\", response.status_code)\n",
    "    SEC_API_sleep()\n",
    "    return response.text"
   ]
  },
  {
   "cell_type": "code",
   "execution_count": 33,
   "id": "d3f00459-871c-4f67-8d30-39c042eb4f84",
   "metadata": {
    "tags": []
   },
   "outputs": [],
   "source": [
    "def get_XML_tree_from_form_string(form_string):\n",
    "    form_lines = form_string.split('\\n')\n",
    "    XML_string = \"\".join(form_lines[form_lines.index('<XML>')+1:form_lines.index('</XML>')])\n",
    "    return ET.fromstring(XML_string)"
   ]
  },
  {
   "cell_type": "code",
   "execution_count": 34,
   "id": "641c6749-7964-4a5e-b16b-d357a78c1301",
   "metadata": {
    "tags": []
   },
   "outputs": [],
   "source": [
    "def get_form_4_dataframe_from_index_dataframe(index_dataframe, run_once_override=run_once_override):\n",
    "    if not run_once_override:\n",
    "        return -1\n",
    "    # set up form 4 return_dataframe\n",
    "    return_dataframe = pd.DataFrame()\n",
    "    # for form 4 URL\n",
    "    for i, url in enumerate(index_dataframe[\"Filename\"]):\n",
    "        # get form 4 contents from URL\n",
    "        file_contents = get_url_to_outstring(url, run_once_override)\n",
    "        # parse XML_tree from form 4 contents\n",
    "        XML_tree = get_XML_tree_from_form_string(file_contents)\n",
    "        # construct form_4_dict from XML_tree\n",
    "        form_4_dict = get_form_4_dict_from_XML_tree(XML_tree)\n",
    "        # construct form_4_dataframe from form_4_dict\n",
    "        form_4_dataframe = get_form_4_transaction_dataframe_from_form_4_dict(form_4_dict)\n",
    "        # merge form_4_dataframe into return_dataframe\n",
    "        return_dataframe = pd.concat([return_dataframe, form_4_dataframe])\n",
    "        # print progress bar\n",
    "        print_percent_complete(i + 1, len(index_dataframe[\"Filename\"]), url=url)\n",
    "    print()\n",
    "    return return_dataframe.reset_index(drop=True)"
   ]
  },
  {
   "cell_type": "code",
   "execution_count": 35,
   "id": "9e66e4dc-d86e-4a16-a355-ea5d5262af70",
   "metadata": {
    "tags": []
   },
   "outputs": [],
   "source": [
    "def get_form_4_dataframe_from_form_4_filepath_list(form_4_filepath_list):\n",
    "    return_dataframe = pd.DataFrame()\n",
    "    for filepath in form_4_filepath_list:\n",
    "        XML_tree = get_XML_tree_from_file_path(filepath)\n",
    "        form_4_dict = get_form_4_dict_from_XML_tree(XML_tree)\n",
    "        dataframe = get_form_4_transaction_dataframe_from_form_4_dict(form_4_dict)\n",
    "        return_dataframe = pd.concat([return_dataframe, dataframe])\n",
    "    return return_dataframe.reset_index(drop=True)"
   ]
  },
  {
   "cell_type": "code",
   "execution_count": 36,
   "id": "d0713d63-b86a-45d4-a81d-c17440da1d65",
   "metadata": {
    "tags": []
   },
   "outputs": [],
   "source": [
    "def add_dollars_moved_filtered_to_common_stock_from_form_4_dataframe(form_4_dataframe):\n",
    "    common_stock_dataframe = pd.DataFrame(form_4_dataframe[form_4_dataframe[\"title_of_security\"] == \"Common Stock\"])\n",
    "    conditions = [\n",
    "        (common_stock_dataframe['transaction_code']=='S'),\n",
    "        (common_stock_dataframe['transaction_code']=='M') & (common_stock_dataframe['title_of_security']=='Common Stock'),\n",
    "    ]\n",
    "    values = [\n",
    "        common_stock_dataframe['amount_of_shares'] * common_stock_dataframe['price'],\n",
    "        common_stock_dataframe['amount_of_shares'] * common_stock_dataframe['price'],\n",
    "    ]\n",
    "    common_stock_dataframe['dollars_moved'] = np.select(conditions, values)\n",
    "    common_stock_dataframe[[\n",
    "        'title_of_security',\n",
    "        'security_acquired_or_disposed',\n",
    "        'transaction_code',\n",
    "        'amount_of_shares',\n",
    "        'price',\n",
    "        'exercise_price', \n",
    "        'dollars_moved'\n",
    "    ]]\n",
    "    common_stock_dataframe['dollars_moved'] = common_stock_dataframe['dollars_moved'].astype(np.float64)\n",
    "    return common_stock_dataframe"
   ]
  },
  {
   "cell_type": "markdown",
   "id": "8ac91eac-032c-41e7-86ba-aa7a78db98d2",
   "metadata": {},
   "source": [
    "Additional fields to calculate:\n",
    "* cash_moved\n",
    "* exercise_cash_paid"
   ]
  },
  {
   "cell_type": "markdown",
   "id": "fddc237f-6873-42a3-9c4e-29ad26ab52a8",
   "metadata": {
    "tags": []
   },
   "source": [
    "Now, let's pull together a few form 4's into one dataframe so we can start plotting time series data."
   ]
  },
  {
   "cell_type": "code",
   "execution_count": 37,
   "id": "c49e1458-772d-4a11-ab17-5b6c24f6238d",
   "metadata": {
    "tags": []
   },
   "outputs": [],
   "source": [
    "transaction_code_dict = {\n",
    "    # General transaction codes\n",
    "    'P': 'Open market or private purchase of securities',\n",
    "    'S': 'Open market or private sale of securities',\n",
    "    'V': 'Transaction voluntarily reported earlier than required',\n",
    "    # Rule 16b-3 transaction codes\n",
    "    'A': 'Grant, award, or other acquisition',\n",
    "    'D': 'Sale (or disposition) back to the issuer of the securities',\n",
    "    'F': 'Payment of exercise price or tax liability by delivering or withholding securities',\n",
    "    'I': 'Discretionary transaction, which is an order to the broker to execute the transaction at the best possible price',\n",
    "    'M': 'Exercise or conversion of derivative security',\n",
    "    # Derivative securities codes\n",
    "    'C': 'Conversion of derivative security (usually options)',\n",
    "    'E': 'Expiration of short derivative position (usually options)',\n",
    "    'H': 'Expiration (or cancellation) of long derivative position with value received (usually options)',\n",
    "    'O': 'Exercise of out-of-the-money derivative securities (usually options)',\n",
    "    'X': 'Exercise of in-the-money or at-the-money derivatives securities (usually options)',\n",
    "    # Other sections 16b exempt transactions and small acquisition codes\n",
    "    'G': 'Bona fide gift form of any clauses',\n",
    "    'L': 'Small acquisition',\n",
    "    'W': 'Acquisition or disposition by will or laws of descent and distribution',\n",
    "    'Z': 'Deposit into or withdrawal from voting trust',\n",
    "    # Other transaction codes\n",
    "    'J': 'Other acquisition or disposition (transaction described in footnotes)',\n",
    "    'K': 'Transaction in equity swap or similar instrument',\n",
    "    'U': 'Disposition due to a tender of shares in a change of control transaction'\n",
    "}"
   ]
  },
  {
   "cell_type": "code",
   "execution_count": 38,
   "id": "85897308-d17b-4209-91ba-48319a6042ed",
   "metadata": {
    "tags": []
   },
   "outputs": [],
   "source": [
    "form_4_dataframe = get_form_4_dataframe_from_index_dataframe(\n",
    "    interested_company_form_4_index\n",
    ")"
   ]
  },
  {
   "cell_type": "code",
   "execution_count": 103,
   "id": "13f1a423-05da-4d5d-b9a1-7ca4414dcc26",
   "metadata": {
    "tags": []
   },
   "outputs": [],
   "source": [
    "# form_4_dataframe.to_csv('form_4_csvs/all_salesforce_form_4s.csv', index=False)"
   ]
  },
  {
   "cell_type": "code",
   "execution_count": 109,
   "id": "64d3b5f0-a9ea-405c-bf2d-a47d63bc6d0a",
   "metadata": {
    "tags": []
   },
   "outputs": [],
   "source": [
    "def load_form_4_dataframe_from_filepath(filepath):\n",
    "    form_4_dataframe = pd.read_csv(filepath)\n",
    "    form_4_dataframe = set_form_4_dataframe_dtypes(form_4_dataframe)\n",
    "    return form_4_dataframe\n",
    "    \n",
    "form_4_dataframe = load_form_4_dataframe_from_filepath('form_4_csvs/all_salesforce_form_4s.csv')"
   ]
  },
  {
   "cell_type": "code",
   "execution_count": 110,
   "id": "e9e905da-3f51-4ec7-a43d-58406492d33a",
   "metadata": {
    "tags": []
   },
   "outputs": [],
   "source": [
    "common_stock_dataframe = add_dollars_moved_filtered_to_common_stock_from_form_4_dataframe(form_4_dataframe)"
   ]
  },
  {
   "cell_type": "code",
   "execution_count": 111,
   "id": "4d14ec66-40f8-4a40-840c-05746969fa46",
   "metadata": {
    "tags": []
   },
   "outputs": [
    {
     "data": {
      "text/plain": [
       "name_of_reporting_person\n",
       "Benioff Marc             1.054196e+10\n",
       "Harris Parker            4.562139e+08\n",
       "BLOCK KEITH              2.897282e+08\n",
       "Dayon Alexandre          2.523295e+08\n",
       "Hawkins Mark J           2.087425e+08\n",
       "Weaver Amy E             1.508423e+08\n",
       "Norton Burke F           1.331947e+08\n",
       "Tallapragada Srinivas    1.221689e+08\n",
       "SALESFORCE.COM, INC.     1.048335e+08\n",
       "Ramsey Craig             8.642975e+07\n",
       "van Veenendaal Frank     8.576429e+07\n",
       "SMITH GRAHAM             8.317402e+07\n",
       "Koplow Hilarie A.        6.234129e+07\n",
       "Hu George                5.666508e+07\n",
       "Steele Jim               5.070069e+07\n",
       "Martinez Maria           4.948359e+07\n",
       "ROBERTSON SANFORD        4.783432e+07\n",
       "Allanson Joe             3.929804e+07\n",
       "Juster Kenneth           3.608441e+07\n",
       "Taylor Bret Steven       3.556183e+07\n",
       "HASSENFELD ALAN G        2.939963e+07\n",
       "Hyder Brent              2.875507e+07\n",
       "Patterson Gavin          2.871335e+07\n",
       "Moellenhoff David        2.714039e+07\n",
       "Crump Daniel Blair       2.249226e+07\n",
       "TOMLINSON LAWRENCE       1.916664e+07\n",
       "CAKEBREAD STEVEN         1.884574e+07\n",
       "SCLAVOS STRATTON D       1.757859e+07\n",
       "Cavalieri Jim            1.752824e+07\n",
       "WEBB MAYNARD G JR        1.725591e+07\n",
       "Schellhase David         1.706310e+07\n",
       "Conway Craig             1.183092e+07\n",
       "YOUNG SHIRLEY            8.350087e+06\n",
       "Robbins Cynthia G.       6.204900e+06\n",
       "SUELTZ PATRICIA C        4.013559e+06\n",
       "Roos John Victor         3.083641e+06\n",
       "KROES NEELIE             1.313647e+06\n",
       "Washington Robin L       1.262084e+06\n",
       "FISHER STEPHEN           7.547641e+05\n",
       "Millham Brian            3.651049e+05\n",
       "Sumner Polly Ann         2.120980e+05\n",
       "Reddy Sundeep G.         1.335833e+05\n",
       "YESIL MAGDALENA          0.000000e+00\n",
       "Wojcicki Susan           0.000000e+00\n",
       "ALBER LAURA              0.000000e+00\n",
       "Tyson Bernard            0.000000e+00\n",
       "SALESFORCE COM INC       0.000000e+00\n",
       "MUNOZ OSCAR              0.000000e+00\n",
       "Powell Colin             0.000000e+00\n",
       "Name: dollars_moved, dtype: float64"
      ]
     },
     "execution_count": 111,
     "metadata": {},
     "output_type": "execute_result"
    }
   ],
   "source": [
    "common_stock_dataframe.groupby(\"name_of_reporting_person\")['dollars_moved'].sum().sort_values(ascending=False)"
   ]
  },
  {
   "cell_type": "code",
   "execution_count": 112,
   "id": "2dc2d917-2154-4f9b-8dff-898ec7278f78",
   "metadata": {
    "tags": []
   },
   "outputs": [
    {
     "data": {
      "text/plain": [
       "issuer_name                                   object\n",
       "issuer_ticker                                 object\n",
       "name_of_reporting_person                      object\n",
       "title_of_reporting_person                     object\n",
       "title_of_security                             object\n",
       "transaction_date                      datetime64[ns]\n",
       "transaction_code                              object\n",
       "amount_of_shares                               Int64\n",
       "security_acquired_or_disposed                 object\n",
       "price                                        float64\n",
       "amount_owned_following_transaction             Int64\n",
       "ownership_direct_or_indirect                  object\n",
       "nature_of_indirect_ownership                  object\n",
       "date_exercisable                      datetime64[ns]\n",
       "date_of_expiry                        datetime64[ns]\n",
       "title_of_security_underlying                  object\n",
       "amount_of_security_underlying                  Int64\n",
       "exercise_price                               float64\n",
       "dollars_moved                                float64\n",
       "dtype: object"
      ]
     },
     "execution_count": 112,
     "metadata": {},
     "output_type": "execute_result"
    }
   ],
   "source": [
    "common_stock_dataframe[common_stock_dataframe['name_of_reporting_person'] == 'Benioff Marc'].dtypes"
   ]
  },
  {
   "cell_type": "code",
   "execution_count": 113,
   "id": "63ca6c4a-1b23-4cb0-b7db-617590569da5",
   "metadata": {
    "tags": []
   },
   "outputs": [
    {
     "name": "stdout",
     "output_type": "stream",
     "text": [
      "datetime64[ns]\n"
     ]
    },
    {
     "data": {
      "image/png": "[encoded data removed]",
      "text/plain": [
       "<Figure size 640x480 with 1 Axes>"
      ]
     },
     "metadata": {},
     "output_type": "display_data"
    }
   ],
   "source": [
    "one_person_df = pd.DataFrame(\n",
    "    common_stock_dataframe[common_stock_dataframe['name_of_reporting_person'] == 'Benioff Marc']\n",
    ")\n",
    "one_person_df = one_person_df.sort_values(by='transaction_date')\n",
    "x = one_person_df['transaction_date']\n",
    "print(x.dtype)\n",
    "y = one_person_df['dollars_moved'].cumsum()\n",
    "color = one_person_df['security_acquired_or_disposed'].map({'A':'green', 'D':'red'})\n",
    "\n",
    "fig, ax = plt.subplots()\n",
    "ax.xaxis.set_major_formatter(\n",
    "    mdates.ConciseDateFormatter(ax.xaxis.get_major_locator()))\n",
    "ax.plot(x, y)\n",
    "ax.set_xlabel(\"Transaction Date\")\n",
    "ax.set_ylabel(\"Price ($)\")\n",
    "\n",
    "\n",
    "plt.show()"
   ]
  },
  {
   "cell_type": "markdown",
   "id": "4aec9be3-b8c7-4dde-826c-cd2a04c10499",
   "metadata": {},
   "source": [
    "Chart Ideas:\n",
    "* Cash extracted per person\n",
    "* Cash + Stock per person over time\n",
    "* Single person's sales overlaid on ticker chart\n",
    "* Top 10 largest transactions per person"
   ]
  }
 ],
 "metadata": {
  "kernelspec": {
   "display_name": "Python 3 (ipykernel)",
   "language": "python",
   "name": "python3"
  },
  "language_info": {
   "codemirror_mode": {
    "name": "ipython",
    "version": 3
   },
   "file_extension": ".py",
   "mimetype": "text/x-python",
   "name": "python",
   "nbconvert_exporter": "python",
   "pygments_lexer": "ipython3",
   "version": "3.11.0"
  }
 },
 "nbformat": 4,
 "nbformat_minor": 5
}
