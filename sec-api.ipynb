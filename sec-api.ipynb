{
 "cells": [
  {
   "cell_type": "markdown",
   "id": "a92381cb-653c-41ef-a58c-32dc265a7fd9",
   "metadata": {},
   "source": [
    "First goal is to find an endpoint for Form 4's\n",
    "\n",
    "https://www.sec.gov/developer\n",
    "\n",
    "https://www.sec.gov/os/accessing-edgar-data"
   ]
  },
  {
   "cell_type": "code",
   "execution_count": 1,
   "id": "f62a6470-162a-4724-82a0-e60ec1476e8e",
   "metadata": {
    "tags": []
   },
   "outputs": [],
   "source": [
    "import requests\n",
    "import time\n",
    "\n",
    "run_once_override = False"
   ]
  },
  {
   "cell_type": "code",
   "execution_count": 2,
   "id": "4d6aa047-4500-4910-bced-a792202cd928",
   "metadata": {
    "tags": []
   },
   "outputs": [],
   "source": [
    "HEADERS = {\n",
    "    'User-Agent': 'Personal User khalidelassaad@gmail.com',\n",
    "    'Accept-Encoding': 'gzip, deflate',\n",
    "    'Host': 'www.sec.gov'\n",
    "}"
   ]
  },
  {
   "cell_type": "markdown",
   "id": "1be2e222-caa4-4706-b26d-30276faef767",
   "metadata": {},
   "source": [
    "Fetch the list of CIKs from here https://www.sec.gov/Archives/edgar/cik-lookup-data.txt"
   ]
  },
  {
   "cell_type": "code",
   "execution_count": 3,
   "id": "b454f104-c59c-4ddc-b283-61410df8d220",
   "metadata": {
    "tags": []
   },
   "outputs": [],
   "source": [
    "def get_url_to_outfilename(url, outfilename, run_once_override=run_once_override):\n",
    "    if not run_once_override:\n",
    "        return -1\n",
    "    response = requests.get(url, headers=HEADERS)\n",
    "    print(\"Status Code:\", response.status_code)\n",
    "    with open(outfilename, \"w\", encoding=\"utf-8\") as outfile:\n",
    "        outfile.write(response.text)\n",
    "    return response"
   ]
  },
  {
   "cell_type": "code",
   "execution_count": 4,
   "id": "b8ebdd93-d130-42c2-97a1-645ed367562c",
   "metadata": {
    "tags": []
   },
   "outputs": [
    {
     "data": {
      "text/plain": [
       "-1"
      ]
     },
     "execution_count": 4,
     "metadata": {},
     "output_type": "execute_result"
    }
   ],
   "source": [
    "get_url_to_outfilename(\n",
    "    \"https://www.sec.gov/Archives/edgar/cik-lookup-data.txt\",\n",
    "    \"cik_list.txt\"\n",
    ")"
   ]
  },
  {
   "cell_type": "code",
   "execution_count": 5,
   "id": "c42fec01-92f3-4d02-9e04-f70734204335",
   "metadata": {
    "tags": []
   },
   "outputs": [
    {
     "data": {
      "text/plain": [
       "-1"
      ]
     },
     "execution_count": 5,
     "metadata": {},
     "output_type": "execute_result"
    }
   ],
   "source": [
    "get_url_to_outfilename(\n",
    "    \"https://www.sec.gov/files/company_tickers.json\",\n",
    "    \"company_tickers.json\"\n",
    ")"
   ]
  },
  {
   "cell_type": "code",
   "execution_count": 6,
   "id": "6bc5eece-aca8-4bcb-821a-00b8a3af327c",
   "metadata": {
    "tags": []
   },
   "outputs": [],
   "source": [
    "def generate_interested_companies_dict():\n",
    "    interested_company_names = []\n",
    "    return_dict = dict()\n",
    "    with open(\"interested_company_names.txt\",\"r\") as infile:\n",
    "        for line in infile:\n",
    "            interested_company_names.append(line.strip())\n",
    "    with open(\"cik_list.txt\",\"r\") as infile:\n",
    "        for line in infile:\n",
    "            for name in interested_company_names:\n",
    "                if name in line:\n",
    "                    cik_number = int(line.split(\":\")[1])\n",
    "                    cik_name = line.split(\":\")[0]\n",
    "                    return_dict[cik_number] = {\"name\": cik_name}\n",
    "    return return_dict"
   ]
  },
  {
   "cell_type": "code",
   "execution_count": 7,
   "id": "2effa6c0-188a-49ca-b029-3460a28e68c7",
   "metadata": {
    "tags": []
   },
   "outputs": [],
   "source": [
    "interested_companies_dict = generate_interested_companies_dict()"
   ]
  },
  {
   "cell_type": "markdown",
   "id": "6e1096a0-e0dc-4f06-b100-4c720a0174a0",
   "metadata": {},
   "source": [
    "We can get information about a specific CIK's filings by querying this resource:\n",
    "\n",
    "https://data.sec.gov/submissions/CIK##########.json"
   ]
  },
  {
   "cell_type": "code",
   "execution_count": 8,
   "id": "49736a7a-3a29-4fa1-afe0-64b68aaa5bd9",
   "metadata": {
    "tags": []
   },
   "outputs": [],
   "source": [
    "def save_interested_companies_indices(interested_companies_dict, run_once_override=run_once_override):\n",
    "    if not run_once_override:\n",
    "        return -1\n",
    "    for cik in interested_companies_dict:\n",
    "        url = \"https://data.sec.gov/submissions/CIK{:010d}.json\".format(cik)\n",
    "        get_url_to_outfilename(\n",
    "            \"https://data.sec.gov/submissions/CIK{:010d}.json\".format(cik),\n",
    "            \"{}.html\".format(cik),\n",
    "            run_once_override=run_once_override\n",
    "        )\n",
    "        time.sleep(0.1)\n",
    "    return 0"
   ]
  },
  {
   "cell_type": "markdown",
   "id": "df5ca1f3-b78a-4999-9041-e411c32d0adb",
   "metadata": {},
   "source": [
    "The above URL is not fetching. Let's try something else.\n",
    "\n",
    "https://www.sec.gov/os/accessing-edgar-data\n",
    "\n",
    "According to the above, use https://www.sec.gov/Archives/edgar/full-index/ to get an index per quarter of all filings from all companies. Let's write a function to grab the latest index and parse out relevant links for our `interested_companies_dict`\n",
    "\n",
    "Within each "
   ]
  },
  {
   "cell_type": "code",
   "execution_count": null,
   "id": "eb88f7cc-680a-4bad-b38c-801436fe26c6",
   "metadata": {},
   "outputs": [],
   "source": []
  }
 ],
 "metadata": {
  "kernelspec": {
   "display_name": "Python 3 (ipykernel)",
   "language": "python",
   "name": "python3"
  },
  "language_info": {
   "codemirror_mode": {
    "name": "ipython",
    "version": 3
   },
   "file_extension": ".py",
   "mimetype": "text/x-python",
   "name": "python",
   "nbconvert_exporter": "python",
   "pygments_lexer": "ipython3",
   "version": "3.11.0"
  }
 },
 "nbformat": 4,
 "nbformat_minor": 5
}
