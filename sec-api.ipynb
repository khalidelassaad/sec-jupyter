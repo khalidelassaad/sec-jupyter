{
 "cells": [
  {
   "cell_type": "markdown",
   "id": "a92381cb-653c-41ef-a58c-32dc265a7fd9",
   "metadata": {},
   "source": [
    "First goal is to find an endpoint for Form 4's\n",
    "\n",
    "https://www.sec.gov/developer\n",
    "\n",
    "https://www.sec.gov/os/accessing-edgar-data"
   ]
  },
  {
   "cell_type": "code",
   "execution_count": 1,
   "id": "f62a6470-162a-4724-82a0-e60ec1476e8e",
   "metadata": {
    "tags": []
   },
   "outputs": [],
   "source": [
    "import requests\n",
    "import time\n",
    "import datetime\n",
    "import pandas as pd\n",
    "import os\n",
    "import dotenv\n",
    "import xml.etree.ElementTree as ET"
   ]
  },
  {
   "cell_type": "code",
   "execution_count": 2,
   "id": "4d6aa047-4500-4910-bced-a792202cd928",
   "metadata": {
    "tags": []
   },
   "outputs": [],
   "source": [
    "dotenv.load_dotenv()\n",
    "run_once_override = False\n",
    "\n",
    "HEADERS = {\n",
    "    'User-Agent': 'Personal User {}'.format(os.getenv(\"EMAIL\")),\n",
    "    'Accept-Encoding': 'gzip, deflate',\n",
    "    'Host': 'www.sec.gov'\n",
    "}\n",
    "\n",
    "def SEC_API_sleep():\n",
    "    # Be a good citizen! Limit requests to less than 10 per second\n",
    "    time.sleep(0.11)\n",
    "    "
   ]
  },
  {
   "cell_type": "markdown",
   "id": "1be2e222-caa4-4706-b26d-30276faef767",
   "metadata": {},
   "source": [
    "Fetch the list of CIKs from here https://www.sec.gov/Archives/edgar/cik-lookup-data.txt"
   ]
  },
  {
   "cell_type": "code",
   "execution_count": 3,
   "id": "b454f104-c59c-4ddc-b283-61410df8d220",
   "metadata": {
    "tags": []
   },
   "outputs": [],
   "source": [
    "def get_url_to_outfilename(url, outfilename, run_once_override=run_once_override):\n",
    "    if not run_once_override:\n",
    "        return -1\n",
    "    response = requests.get(url, headers=HEADERS)\n",
    "    if response.status_code != 200:\n",
    "        print(\"Status Code:\", response.status_code)\n",
    "    with open(outfilename, \"w\", encoding=\"utf-8\") as outfile:\n",
    "        outfile.write(response.text)\n",
    "    SEC_API_sleep()\n",
    "    return response"
   ]
  },
  {
   "cell_type": "code",
   "execution_count": 4,
   "id": "b8ebdd93-d130-42c2-97a1-645ed367562c",
   "metadata": {
    "tags": []
   },
   "outputs": [
    {
     "data": {
      "text/plain": [
       "-1"
      ]
     },
     "execution_count": 4,
     "metadata": {},
     "output_type": "execute_result"
    }
   ],
   "source": [
    "get_url_to_outfilename(\n",
    "    \"https://www.sec.gov/Archives/edgar/cik-lookup-data.txt\",\n",
    "    \"cik_list.txt\"\n",
    ")"
   ]
  },
  {
   "cell_type": "code",
   "execution_count": 5,
   "id": "c42fec01-92f3-4d02-9e04-f70734204335",
   "metadata": {
    "tags": []
   },
   "outputs": [
    {
     "data": {
      "text/plain": [
       "-1"
      ]
     },
     "execution_count": 5,
     "metadata": {},
     "output_type": "execute_result"
    }
   ],
   "source": [
    "get_url_to_outfilename(\n",
    "    \"https://www.sec.gov/files/company_tickers.json\",\n",
    "    \"company_tickers.json\"\n",
    ")"
   ]
  },
  {
   "cell_type": "code",
   "execution_count": 6,
   "id": "6bc5eece-aca8-4bcb-821a-00b8a3af327c",
   "metadata": {
    "tags": []
   },
   "outputs": [],
   "source": [
    "def generate_interested_companies_dict():\n",
    "    interested_company_names = []\n",
    "    return_dict = dict()\n",
    "    with open(\"interested_company_names.txt\",\"r\") as infile:\n",
    "        for line in infile:\n",
    "            interested_company_names.append(line.strip())\n",
    "    with open(\"cik_list.txt\",\"r\") as infile:\n",
    "        for line in infile:\n",
    "            for name in interested_company_names:\n",
    "                if name in line:\n",
    "                    cik_number = int(line.split(\":\")[1])\n",
    "                    cik_name = line.split(\":\")[0]\n",
    "                    return_dict[cik_number] = {\"name\": cik_name}\n",
    "    return return_dict"
   ]
  },
  {
   "cell_type": "code",
   "execution_count": 7,
   "id": "2effa6c0-188a-49ca-b029-3460a28e68c7",
   "metadata": {
    "tags": []
   },
   "outputs": [],
   "source": [
    "interested_companies_dict = generate_interested_companies_dict()"
   ]
  },
  {
   "cell_type": "markdown",
   "id": "6e1096a0-e0dc-4f06-b100-4c720a0174a0",
   "metadata": {},
   "source": [
    "We can get information about a specific CIK's filings by querying this resource:\n",
    "\n",
    "https://data.sec.gov/submissions/CIK##########.json"
   ]
  },
  {
   "cell_type": "code",
   "execution_count": 8,
   "id": "49736a7a-3a29-4fa1-afe0-64b68aaa5bd9",
   "metadata": {
    "tags": []
   },
   "outputs": [],
   "source": [
    "def save_interested_companies_indices(interested_companies_dict, run_once_override=run_once_override):\n",
    "    if not run_once_override:\n",
    "        return -1\n",
    "    for cik in interested_companies_dict:\n",
    "        url = \"https://data.sec.gov/submissions/CIK{:010d}.json\".format(cik)\n",
    "        get_url_to_outfilename(\n",
    "            \"https://data.sec.gov/submissions/CIK{:010d}.json\".format(cik),\n",
    "            \"{}.html\".format(cik),\n",
    "            run_once_override=run_once_override\n",
    "        )\n",
    "    return 0"
   ]
  },
  {
   "cell_type": "markdown",
   "id": "df5ca1f3-b78a-4999-9041-e411c32d0adb",
   "metadata": {},
   "source": [
    "The above URL is not fetching. Let's try something else.\n",
    "\n",
    "https://www.sec.gov/os/accessing-edgar-data\n",
    "\n",
    "According to the above, use https://www.sec.gov/Archives/edgar/full-index/ to get an index per quarter of all filings from all companies. Let's write a function to grab the latest index and parse out relevant links for our `interested_companies_dict`\n",
    "\n",
    "We want the `master.idx` file which contains data in this format: `CIK|Company Name|Form Type|Date Filed|Filename`\n",
    "\n",
    "The full path to this file looks like:\n",
    "\n",
    "`https://www.sec.gov/Archives/edgar/full-index/{YYYY}/QTR{1-4}/master.idx`\n",
    "\n",
    "Data extends from 1993 QTR1 - 2023 QTR1"
   ]
  },
  {
   "cell_type": "code",
   "execution_count": 9,
   "id": "eb88f7cc-680a-4bad-b38c-801436fe26c6",
   "metadata": {
    "tags": []
   },
   "outputs": [],
   "source": [
    "def get_master_index_for_year_and_quarter(year, quarter, run_once_override=run_once_override):\n",
    "    if not run_once_override:\n",
    "        return -1\n",
    "    get_url_to_outfilename(\n",
    "        \"https://www.sec.gov/Archives/edgar/full-index/{}/QTR{}/master.idx\".format(year, quarter),\n",
    "        \"indices/{}Q{}_master.idx\".format(year, quarter),\n",
    "        run_once_override=run_once_override\n",
    "    )\n",
    "    return 0"
   ]
  },
  {
   "cell_type": "code",
   "execution_count": 10,
   "id": "efd4dfea-fdf6-4427-8f98-107527250d7e",
   "metadata": {
    "tags": []
   },
   "outputs": [
    {
     "data": {
      "text/plain": [
       "-1"
      ]
     },
     "execution_count": 10,
     "metadata": {},
     "output_type": "execute_result"
    }
   ],
   "source": [
    "get_master_index_for_year_and_quarter(2023, 1)"
   ]
  },
  {
   "cell_type": "markdown",
   "id": "7c6d4607-58ff-45ba-9cfe-099099ff3607",
   "metadata": {},
   "source": [
    "Let's grab all indices since 1993 QTR1, then we can aggregate them together for one unified master index that we can parse for companies we're interested in.\n",
    "\n",
    "First we'll grab all indices."
   ]
  },
  {
   "cell_type": "code",
   "execution_count": 11,
   "id": "c834e6c1-48df-4c49-b075-89c43ad36e0f",
   "metadata": {
    "tags": []
   },
   "outputs": [],
   "source": [
    "def get_all_master_indices(run_once_override=run_once_override, start_year=1993):\n",
    "    if not run_once_override:\n",
    "        return -1\n",
    "    end_year = pd.Timestamp(datetime.datetime.now()).year\n",
    "    end_quarter = pd.Timestamp(datetime.datetime.now()).quarter\n",
    "    for year in range(start_year, end_year + 1):\n",
    "        end_quarter_range = 4 if year != end_year else end_quarter\n",
    "        for quarter in range(1, end_quarter_range + 1):\n",
    "            print(\"Fetchin index for {}Q{}\".format(year, quarter))\n",
    "            get_master_index_for_year_and_quarter(year, quarter, run_once_override)\n",
    "    return 0"
   ]
  },
  {
   "cell_type": "code",
   "execution_count": 12,
   "id": "78cca6c2-40b8-4947-855e-3fcc76e6fecd",
   "metadata": {
    "tags": []
   },
   "outputs": [
    {
     "data": {
      "text/plain": [
       "-1"
      ]
     },
     "execution_count": 12,
     "metadata": {},
     "output_type": "execute_result"
    }
   ],
   "source": [
    "get_all_master_indices()"
   ]
  },
  {
   "cell_type": "markdown",
   "id": "6261e675-5d83-404e-9144-f18be1e6e417",
   "metadata": {},
   "source": [
    "Let's also write a function to fetch only the latest index (for updates while the current quarter is ongoing)."
   ]
  },
  {
   "cell_type": "code",
   "execution_count": 13,
   "id": "5c4bebe4-bf73-4c8d-a73b-c40f012b7bad",
   "metadata": {
    "tags": []
   },
   "outputs": [],
   "source": [
    "def get_latest_master_index(run_once_override=run_once_override):\n",
    "    if not run_once_override:\n",
    "        return -1\n",
    "    year = pd.Timestamp(datetime.datetime.now()).year\n",
    "    quarter = pd.Timestamp(datetime.datetime.now()).quarter\n",
    "    print(\"Fetchin index for {}Q{}\".format(year, quarter))\n",
    "    get_master_index_for_year_and_quarter(year, quarter, run_once_override)\n",
    "    return 0"
   ]
  },
  {
   "cell_type": "code",
   "execution_count": 14,
   "id": "f0efd1ce-c698-437b-9766-ebb98259df89",
   "metadata": {
    "tags": []
   },
   "outputs": [
    {
     "data": {
      "text/plain": [
       "-1"
      ]
     },
     "execution_count": 14,
     "metadata": {},
     "output_type": "execute_result"
    }
   ],
   "source": [
    "get_latest_master_index()"
   ]
  },
  {
   "cell_type": "markdown",
   "id": "f03132c5-2130-4efd-9df6-5328020d6b64",
   "metadata": {},
   "source": [
    "Nice, now to read data. Here's what I want to do:\n",
    "\n",
    "1. Read all index files.\n",
    "2. Grab rows for CIKs that I'm interested in, based on `interested_companies_dict`\n",
    "3. Output rows as a pandas dataframe"
   ]
  },
  {
   "cell_type": "code",
   "execution_count": 15,
   "id": "a1c6b762-eb4e-4bd0-9982-77d64771a012",
   "metadata": {
    "tags": []
   },
   "outputs": [
    {
     "data": {
      "text/plain": [
       "'indices/2023Q1_master.idx'"
      ]
     },
     "execution_count": 15,
     "metadata": {},
     "output_type": "execute_result"
    }
   ],
   "source": [
    "index_files = [\"indices/\" + filepath for filepath in os.listdir(\"indices\")]\n",
    "index_files[-1]"
   ]
  },
  {
   "cell_type": "code",
   "execution_count": 16,
   "id": "5ffbc072-cfe7-4abb-9341-00d694511469",
   "metadata": {
    "tags": []
   },
   "outputs": [
    {
     "data": {
      "text/html": [
       "<div>\n",
       "<style scoped>\n",
       "    .dataframe tbody tr th:only-of-type {\n",
       "        vertical-align: middle;\n",
       "    }\n",
       "\n",
       "    .dataframe tbody tr th {\n",
       "        vertical-align: top;\n",
       "    }\n",
       "\n",
       "    .dataframe thead th {\n",
       "        text-align: right;\n",
       "    }\n",
       "</style>\n",
       "<table border=\"1\" class=\"dataframe\">\n",
       "  <thead>\n",
       "    <tr style=\"text-align: right;\">\n",
       "      <th></th>\n",
       "      <th>CIK</th>\n",
       "      <th>Company Name</th>\n",
       "      <th>Form Type</th>\n",
       "      <th>Date Filed</th>\n",
       "      <th>Filename</th>\n",
       "    </tr>\n",
       "  </thead>\n",
       "  <tbody>\n",
       "    <tr>\n",
       "      <th>23906</th>\n",
       "      <td>1108524</td>\n",
       "      <td>Salesforce, Inc.</td>\n",
       "      <td>10-K</td>\n",
       "      <td>2023-03-08</td>\n",
       "      <td>edgar/data/1108524/0001108524-23-000011.txt</td>\n",
       "    </tr>\n",
       "    <tr>\n",
       "      <th>23907</th>\n",
       "      <td>1108524</td>\n",
       "      <td>Salesforce, Inc.</td>\n",
       "      <td>13F-HR</td>\n",
       "      <td>2023-02-10</td>\n",
       "      <td>edgar/data/1108524/0001108524-23-000005.txt</td>\n",
       "    </tr>\n",
       "    <tr>\n",
       "      <th>23908</th>\n",
       "      <td>1108524</td>\n",
       "      <td>Salesforce, Inc.</td>\n",
       "      <td>3</td>\n",
       "      <td>2023-03-03</td>\n",
       "      <td>edgar/data/1108524/0001127602-23-008948.txt</td>\n",
       "    </tr>\n",
       "    <tr>\n",
       "      <th>23909</th>\n",
       "      <td>1108524</td>\n",
       "      <td>Salesforce, Inc.</td>\n",
       "      <td>3</td>\n",
       "      <td>2023-03-03</td>\n",
       "      <td>edgar/data/1108524/0001127602-23-008950.txt</td>\n",
       "    </tr>\n",
       "    <tr>\n",
       "      <th>23910</th>\n",
       "      <td>1108524</td>\n",
       "      <td>Salesforce, Inc.</td>\n",
       "      <td>3</td>\n",
       "      <td>2023-03-03</td>\n",
       "      <td>edgar/data/1108524/0001418812-23-000017.txt</td>\n",
       "    </tr>\n",
       "    <tr>\n",
       "      <th>...</th>\n",
       "      <td>...</td>\n",
       "      <td>...</td>\n",
       "      <td>...</td>\n",
       "      <td>...</td>\n",
       "      <td>...</td>\n",
       "    </tr>\n",
       "    <tr>\n",
       "      <th>23995</th>\n",
       "      <td>1108524</td>\n",
       "      <td>Salesforce, Inc.</td>\n",
       "      <td>8-K</td>\n",
       "      <td>2023-01-27</td>\n",
       "      <td>edgar/data/1108524/0001193125-23-017661.txt</td>\n",
       "    </tr>\n",
       "    <tr>\n",
       "      <th>23996</th>\n",
       "      <td>1108524</td>\n",
       "      <td>Salesforce, Inc.</td>\n",
       "      <td>8-K</td>\n",
       "      <td>2023-03-01</td>\n",
       "      <td>edgar/data/1108524/0001108524-23-000007.txt</td>\n",
       "    </tr>\n",
       "    <tr>\n",
       "      <th>23997</th>\n",
       "      <td>1108524</td>\n",
       "      <td>Salesforce, Inc.</td>\n",
       "      <td>SC 13G/A</td>\n",
       "      <td>2023-02-07</td>\n",
       "      <td>edgar/data/1108524/0001306550-23-008329.txt</td>\n",
       "    </tr>\n",
       "    <tr>\n",
       "      <th>23998</th>\n",
       "      <td>1108524</td>\n",
       "      <td>Salesforce, Inc.</td>\n",
       "      <td>SC 13G/A</td>\n",
       "      <td>2023-02-09</td>\n",
       "      <td>edgar/data/1108524/0000315066-23-002031.txt</td>\n",
       "    </tr>\n",
       "    <tr>\n",
       "      <th>23999</th>\n",
       "      <td>1108524</td>\n",
       "      <td>Salesforce, Inc.</td>\n",
       "      <td>SC 13G/A</td>\n",
       "      <td>2023-02-09</td>\n",
       "      <td>edgar/data/1108524/0001104659-23-016896.txt</td>\n",
       "    </tr>\n",
       "  </tbody>\n",
       "</table>\n",
       "<p>94 rows × 5 columns</p>\n",
       "</div>"
      ],
      "text/plain": [
       "           CIK      Company Name Form Type  Date Filed  \\\n",
       "23906  1108524  Salesforce, Inc.      10-K  2023-03-08   \n",
       "23907  1108524  Salesforce, Inc.    13F-HR  2023-02-10   \n",
       "23908  1108524  Salesforce, Inc.         3  2023-03-03   \n",
       "23909  1108524  Salesforce, Inc.         3  2023-03-03   \n",
       "23910  1108524  Salesforce, Inc.         3  2023-03-03   \n",
       "...        ...               ...       ...         ...   \n",
       "23995  1108524  Salesforce, Inc.       8-K  2023-01-27   \n",
       "23996  1108524  Salesforce, Inc.       8-K  2023-03-01   \n",
       "23997  1108524  Salesforce, Inc.  SC 13G/A  2023-02-07   \n",
       "23998  1108524  Salesforce, Inc.  SC 13G/A  2023-02-09   \n",
       "23999  1108524  Salesforce, Inc.  SC 13G/A  2023-02-09   \n",
       "\n",
       "                                          Filename  \n",
       "23906  edgar/data/1108524/0001108524-23-000011.txt  \n",
       "23907  edgar/data/1108524/0001108524-23-000005.txt  \n",
       "23908  edgar/data/1108524/0001127602-23-008948.txt  \n",
       "23909  edgar/data/1108524/0001127602-23-008950.txt  \n",
       "23910  edgar/data/1108524/0001418812-23-000017.txt  \n",
       "...                                            ...  \n",
       "23995  edgar/data/1108524/0001193125-23-017661.txt  \n",
       "23996  edgar/data/1108524/0001108524-23-000007.txt  \n",
       "23997  edgar/data/1108524/0001306550-23-008329.txt  \n",
       "23998  edgar/data/1108524/0000315066-23-002031.txt  \n",
       "23999  edgar/data/1108524/0001104659-23-016896.txt  \n",
       "\n",
       "[94 rows x 5 columns]"
      ]
     },
     "execution_count": 16,
     "metadata": {},
     "output_type": "execute_result"
    }
   ],
   "source": [
    "index_column_names = [\"CIK\",\"Company Name\",\"Form Type\",\"Date Filed\",\"Filename\"]\n",
    "index_dataframe = pd.read_csv(index_files[-1], sep = \"|\", skiprows=11, names=index_column_names)\n",
    "index_dataframe[index_dataframe[\"CIK\"].isin(interested_companies_dict)]"
   ]
  },
  {
   "cell_type": "markdown",
   "id": "8a24b7e1-1a33-48ba-901f-3ea008e63b48",
   "metadata": {},
   "source": [
    "Okay, I have the pieces to read the data correctly from the files and to focus on only the companies I care about. The last step is figure out how to concatenate two dataframes together.\n",
    "\n",
    "Looks like `pd.concat([list of dataframes])` will do the job. Time to stitch it all together."
   ]
  },
  {
   "cell_type": "code",
   "execution_count": 17,
   "id": "98739f49-703c-4431-b23a-ae3057bf8dbd",
   "metadata": {
    "tags": []
   },
   "outputs": [],
   "source": [
    "def print_percent_complete(step, total):\n",
    "    print(\"{:.2f}% complete\".format( (step / total) * 100), end = \"\\r\")"
   ]
  },
  {
   "cell_type": "code",
   "execution_count": 22,
   "id": "cbc13b84-dc67-44df-8602-2d251044000d",
   "metadata": {
    "tags": []
   },
   "outputs": [],
   "source": [
    "def get_index_dataframe_for_interested_companies(interested_companies_dict, interested_forms=None):\n",
    "    index_files = [\"indices/\" + filepath for filepath in os.listdir(\"indices\")]\n",
    "    index_column_names = [\"CIK\",\"Company Name\",\"Form Type\",\"Date Filed\",\"Filename\"]\n",
    "    return_dataframe = pd.DataFrame()\n",
    "    for i in range(len(index_files)):\n",
    "        index_file = index_files[i]\n",
    "        index_dataframe = pd.read_csv(index_file, sep = \"|\", skiprows=11, names=index_column_names)\n",
    "        index_dataframe = index_dataframe[\n",
    "            index_dataframe[\"CIK\"].isin(interested_companies_dict)\n",
    "        ]\n",
    "        if interested_forms is not None:\n",
    "            index_dataframe = index_dataframe[\n",
    "                index_dataframe[\"Form Type\"].isin(interested_forms)\n",
    "            ]\n",
    "        return_dataframe = pd.concat([return_dataframe, index_dataframe])\n",
    "        print_percent_complete(i, len(index_files) - 1)\n",
    "    print()\n",
    "    return return_dataframe.reset_index(drop=True)"
   ]
  },
  {
   "cell_type": "code",
   "execution_count": 23,
   "id": "9b5947cf-c9ab-4dbd-950e-13e6087ab01c",
   "metadata": {
    "tags": []
   },
   "outputs": [
    {
     "name": "stdout",
     "output_type": "stream",
     "text": [
      "100.00% complete\n"
     ]
    }
   ],
   "source": [
    "interested_company_form_4_index = get_index_dataframe_for_interested_companies(interested_companies_dict, [\"4\"])"
   ]
  },
  {
   "cell_type": "markdown",
   "id": "d232a752-689f-426c-9d2d-504d9db6cf89",
   "metadata": {},
   "source": [
    "Great! I can grab the locations of the forms I want. Now to pull the data for those actual forms..."
   ]
  },
  {
   "cell_type": "code",
   "execution_count": 24,
   "id": "f329485d-bffb-4f01-88da-c757aa013744",
   "metadata": {
    "tags": []
   },
   "outputs": [],
   "source": [
    "edgar_archive_url_root = \"https://www.sec.gov/Archives/\""
   ]
  },
  {
   "cell_type": "code",
   "execution_count": 25,
   "id": "8bb7928b-2dc7-4167-90e9-4a94ca41907a",
   "metadata": {
    "tags": []
   },
   "outputs": [
    {
     "data": {
      "text/plain": [
       "['https://www.sec.gov/Archives/edgar/data/1108524/0001127602-23-010343.txt',\n",
       " 'https://www.sec.gov/Archives/edgar/data/1108524/0001127602-23-010346.txt',\n",
       " 'https://www.sec.gov/Archives/edgar/data/1108524/0001127602-23-010481.txt',\n",
       " 'https://www.sec.gov/Archives/edgar/data/1108524/0001127602-23-010750.txt',\n",
       " 'https://www.sec.gov/Archives/edgar/data/1108524/0001127602-23-010933.txt']"
      ]
     },
     "execution_count": 25,
     "metadata": {},
     "output_type": "execute_result"
    }
   ],
   "source": [
    "form_4_urls_to_collect = [edgar_archive_url_root + i for i in interested_company_form_4_index.tail()[\"Filename\"]]\n",
    "form_4_urls_to_collect"
   ]
  },
  {
   "cell_type": "code",
   "execution_count": 26,
   "id": "c340a7ac-fcd7-4464-b3cc-8984058b3cab",
   "metadata": {
    "tags": []
   },
   "outputs": [],
   "source": [
    "def get_forms_from_url_list(form_urls_to_collect, run_once_override=run_once_override):\n",
    "    if not run_once_override:\n",
    "        return -1\n",
    "    for i in range(len(form_urls_to_collect)):\n",
    "        form_url = form_urls_to_collect[i]\n",
    "        get_url_to_outfilename(\n",
    "            form_url,\n",
    "            \"forms/\" + form_url.split(\"/\")[-1],\n",
    "            run_once_override\n",
    "        )\n",
    "        print_percent_complete(i, len(form_urls_to_collect) - 1)\n",
    "    print()\n",
    "    return 0"
   ]
  },
  {
   "cell_type": "code",
   "execution_count": 27,
   "id": "d9a3076c-04cb-4eca-ae3f-9f562160a6e5",
   "metadata": {
    "tags": []
   },
   "outputs": [
    {
     "data": {
      "text/plain": [
       "['forms/0001127602-23-010343.txt',\n",
       " 'forms/0001127602-23-010346.txt',\n",
       " 'forms/0001127602-23-010481.txt',\n",
       " 'forms/0001127602-23-010750.txt',\n",
       " 'forms/0001127602-23-010933.txt']"
      ]
     },
     "execution_count": 27,
     "metadata": {},
     "output_type": "execute_result"
    }
   ],
   "source": [
    "get_forms_from_url_list(form_4_urls_to_collect)\n",
    "form_4_paths = [\"forms/\" + filepath for filepath in os.listdir(\"forms\")]\n",
    "form_4_paths"
   ]
  },
  {
   "cell_type": "markdown",
   "id": "872a697c-8073-4870-82d4-2a8bc48bec7a",
   "metadata": {},
   "source": [
    "Time to parse the XML and extract key form 4 data..."
   ]
  },
  {
   "cell_type": "code",
   "execution_count": 28,
   "id": "4bcd49fb-d299-48b5-8c05-39a99c80e8ff",
   "metadata": {
    "tags": []
   },
   "outputs": [],
   "source": [
    "def get_XML_tree_from_file_path(file_path):\n",
    "    file_lines = []\n",
    "    with open(file_path, \"r\") as infile:\n",
    "        file_lines = infile.readlines()\n",
    "    XML_string = \"\".join(file_lines[file_lines.index('<XML>\\n')+1:file_lines.index('</XML>\\n')])\n",
    "    return ET.fromstring(XML_string)"
   ]
  },
  {
   "cell_type": "markdown",
   "id": "bdd9ab3a-67ef-40a9-83bb-21d98068fadd",
   "metadata": {
    "tags": []
   },
   "source": [
    "Okay we've sort of figured out how to walk through the XML tree, let's define the data we're trying to extract:\n",
    "\n",
    "1. Name of Reporting Person\n",
    "2. Title of Reporting Person\n",
    "3. Issuer Name\n",
    "4. Issuer Ticker\n",
    "5. Non-Derivative Securities\n",
    "    * Title of Security\n",
    "    * Date\n",
    "    * Code\n",
    "    * Amount\n",
    "    * Security Acquired or Disposed A / D\n",
    "    * Price\n",
    "    * Amount Total Following Reported Transaction\n",
    "    * Ownership Direct or Indirect D / I\n",
    "    * Nature of Indirect Beneficial Ownership\n",
    "6. Derivative Securities\n",
    "    * Title of Security\n",
    "    * Exercise Price\n",
    "    * Date\n",
    "    * Code\n",
    "    * Amount\n",
    "    * Security Acquired or Disposed A / D\n",
    "    * Date Exercisable\n",
    "    * Date of Expiry\n",
    "    * Title of Security Underlying\n",
    "    * Amount of Security Underlying\n",
    "    * Price of Derivative Security\n",
    "    * Amount of Derivative Security Total Following Reported Transaction\n",
    "    * Ownership Form Direct or Indirect D / A\n",
    "    * Nature of Indirect Beneficial Ownership"
   ]
  },
  {
   "cell_type": "code",
   "execution_count": 29,
   "id": "f63d5b64-3fc8-46f7-b4fc-d0863f33132b",
   "metadata": {
    "tags": []
   },
   "outputs": [
    {
     "data": {
      "text/plain": [
       "[<Element 'schemaVersion' at 0x000002552D2D88B0>,\n",
       " <Element 'documentType' at 0x00000255036399E0>,\n",
       " <Element 'periodOfReport' at 0x0000025503638E50>,\n",
       " <Element 'issuer' at 0x0000025503638F90>,\n",
       " <Element 'reportingOwner' at 0x000002552D28E700>,\n",
       " <Element 'aff10b5One' at 0x000002552D28F6A0>,\n",
       " <Element 'nonDerivativeTable' at 0x000002552D28F600>,\n",
       " <Element 'derivativeTable' at 0x000002552D2709A0>,\n",
       " <Element 'footnotes' at 0x000002552D272160>,\n",
       " <Element 'ownerSignature' at 0x000002552D272390>]"
      ]
     },
     "execution_count": 29,
     "metadata": {},
     "output_type": "execute_result"
    }
   ],
   "source": [
    "XML_tree = get_XML_tree_from_file_path(form_4_paths[-1])\n",
    "[i for i in XML_tree]"
   ]
  },
  {
   "cell_type": "code",
   "execution_count": 30,
   "id": "ad2c68d6-d11c-4829-9019-c9f73e4ce545",
   "metadata": {
    "tags": []
   },
   "outputs": [],
   "source": [
    "def get_text_from_XML_tree_and_xpath_string(XML_tree, xpath):\n",
    "    result = XML_tree.find(xpath)\n",
    "    return result.text if result is not None else result"
   ]
  },
  {
   "cell_type": "code",
   "execution_count": 61,
   "id": "0a0aeacb-adf9-4a30-a004-3ad115990eb3",
   "metadata": {
    "tags": []
   },
   "outputs": [],
   "source": [
    "def get_form_4_dict_from_XML_tree(XML_tree):\n",
    "    form_4_dict = {\n",
    "        \"name_of_reporting_person\": \n",
    "        get_text_from_XML_tree_and_xpath_string(XML_tree, './reportingOwner/reportingOwnerId/rptOwnerName'),\n",
    "        \"title_of_reporting_person\": \n",
    "        get_text_from_XML_tree_and_xpath_string(XML_tree, './reportingOwner/reportingOwnerRelationship/officerTitle'),\n",
    "        \"issuer_name\":\n",
    "        get_text_from_XML_tree_and_xpath_string(XML_tree, './issuer/issuerName'),\n",
    "        \"issuer_ticker\":\n",
    "        get_text_from_XML_tree_and_xpath_string(XML_tree, './issuer/issuerTradingSymbol'),\n",
    "        \"non_derivative_table\": [\n",
    "            {\n",
    "                \"title_of_security\":\n",
    "                get_text_from_XML_tree_and_xpath_string(non_derivative_transaction, './securityTitle/value'),\n",
    "                \"transaction_date\":\n",
    "                get_text_from_XML_tree_and_xpath_string(non_derivative_transaction, './transactionDate/value'),\n",
    "                \"transaction_code\":\n",
    "                get_text_from_XML_tree_and_xpath_string(non_derivative_transaction, './transactionCoding/transactionCode'),\n",
    "                \"amount_of_shares\":\n",
    "                get_text_from_XML_tree_and_xpath_string(non_derivative_transaction, './transactionAmounts/transactionShares/value'),\n",
    "                \"security_acquired_or_disposed\":\n",
    "                get_text_from_XML_tree_and_xpath_string(non_derivative_transaction, './transactionAmounts/transactionAcquiredDisposedCode/value'),\n",
    "                \"price\":\n",
    "                get_text_from_XML_tree_and_xpath_string(non_derivative_transaction, './transactionAmounts/transactionPricePerShare/value'),\n",
    "                \"amount_owned_following_transaction\":\n",
    "                get_text_from_XML_tree_and_xpath_string(non_derivative_transaction, './postTransactionAmounts/sharesOwnedFollowingTransaction/value'),\n",
    "                \"ownership_direct_or_indirect\":\n",
    "                get_text_from_XML_tree_and_xpath_string(non_derivative_transaction, './ownershipNature/directOrIndirectOwnership/value'),\n",
    "                \"nature_of_indirect_ownership\":\n",
    "                get_text_from_XML_tree_and_xpath_string(non_derivative_transaction, './ownershipNature/natureOfOwnership/value'),\n",
    "            } for non_derivative_transaction in XML_tree.find('./nonDerivativeTable').findall('nonDerivativeTransaction')\n",
    "        ],\n",
    "        \"derivative_table\": [\n",
    "            {\n",
    "                \"title_of_security\":\n",
    "                get_text_from_XML_tree_and_xpath_string(derivative_transaction, './securityTitle/value'),\n",
    "                \"transaction_date\":\n",
    "                get_text_from_XML_tree_and_xpath_string(derivative_transaction, './transactionDate/value'),\n",
    "                \"transaction_code\":\n",
    "                get_text_from_XML_tree_and_xpath_string(derivative_transaction, './transactionCoding/transactionCode'),\n",
    "                \"amount_of_shares\":\n",
    "                get_text_from_XML_tree_and_xpath_string(derivative_transaction, './transactionAmounts/transactionShares/value'),\n",
    "                \"security_acquired_or_disposed\":\n",
    "                get_text_from_XML_tree_and_xpath_string(derivative_transaction, './transactionAmounts/transactionAcquiredDisposedCode/value'),\n",
    "                \"price\":\n",
    "                get_text_from_XML_tree_and_xpath_string(derivative_transaction, './transactionAmounts/transactionPricePerShare/value'),\n",
    "                \"amount_owned_following_transaction\":\n",
    "                get_text_from_XML_tree_and_xpath_string(derivative_transaction, './postTransactionAmounts/sharesOwnedFollowingTransaction/value'),\n",
    "                \"ownership_direct_or_indirect\":\n",
    "                get_text_from_XML_tree_and_xpath_string(derivative_transaction, './ownershipNature/directOrIndirectOwnership/value'),\n",
    "                \"nature_of_indirect_ownership\":\n",
    "                get_text_from_XML_tree_and_xpath_string(derivative_transaction, './ownershipNature/natureOfOwnership/value'),\n",
    "                \"date_exercisable\":\n",
    "                get_text_from_XML_tree_and_xpath_string(derivative_transaction, './exerciseDate/value'),\n",
    "                \"date_of_expiry\":\n",
    "                get_text_from_XML_tree_and_xpath_string(derivative_transaction, './expirationDate/value'),\n",
    "                \"title_of_security_underlying\":\n",
    "                get_text_from_XML_tree_and_xpath_string(derivative_transaction, './underlyingSecurity/underlyingSecurityTitle/value'),\n",
    "                \"amount_of_security_underlying\":\n",
    "                get_text_from_XML_tree_and_xpath_string(derivative_transaction, './underlyingSecurity/underlyingSecurityShares/value'),\n",
    "                \"exercise_price\":\n",
    "                get_text_from_XML_tree_and_xpath_string(derivative_transaction, './conversionOrExercisePrice/value'),\n",
    "            } for derivative_transaction in XML_tree.find('./derivativeTable').findall('derivativeTransaction')\n",
    "        ]\n",
    "    }\n",
    "    return form_4_dict"
   ]
  },
  {
   "cell_type": "code",
   "execution_count": 62,
   "id": "913fd3b1-7715-4286-b25c-4eefb0e95681",
   "metadata": {
    "tags": []
   },
   "outputs": [
    {
     "data": {
      "text/plain": [
       "{'name_of_reporting_person': 'Benioff Marc',\n",
       " 'title_of_reporting_person': 'Chair and CEO',\n",
       " 'issuer_name': 'Salesforce, Inc.',\n",
       " 'issuer_ticker': 'CRM',\n",
       " 'non_derivative_table': [{'title_of_security': 'Common Stock',\n",
       "   'transaction_date': '2023-03-17',\n",
       "   'transaction_code': 'M',\n",
       "   'amount_of_shares': '725',\n",
       "   'security_acquired_or_disposed': 'A',\n",
       "   'price': '75.57',\n",
       "   'amount_owned_following_transaction': '27754334',\n",
       "   'ownership_direct_or_indirect': 'D',\n",
       "   'nature_of_indirect_ownership': None},\n",
       "  {'title_of_security': 'Common Stock',\n",
       "   'transaction_date': '2023-03-17',\n",
       "   'transaction_code': 'S',\n",
       "   'amount_of_shares': '341',\n",
       "   'security_acquired_or_disposed': 'D',\n",
       "   'price': '184.8934',\n",
       "   'amount_owned_following_transaction': '27753993',\n",
       "   'ownership_direct_or_indirect': 'D',\n",
       "   'nature_of_indirect_ownership': None},\n",
       "  {'title_of_security': 'Common Stock',\n",
       "   'transaction_date': '2023-03-17',\n",
       "   'transaction_code': 'S',\n",
       "   'amount_of_shares': '326',\n",
       "   'security_acquired_or_disposed': 'D',\n",
       "   'price': '185.8831',\n",
       "   'amount_owned_following_transaction': '27753667',\n",
       "   'ownership_direct_or_indirect': 'D',\n",
       "   'nature_of_indirect_ownership': None},\n",
       "  {'title_of_security': 'Common Stock',\n",
       "   'transaction_date': '2023-03-17',\n",
       "   'transaction_code': 'S',\n",
       "   'amount_of_shares': '58',\n",
       "   'security_acquired_or_disposed': 'D',\n",
       "   'price': '186.7848',\n",
       "   'amount_owned_following_transaction': '27753609',\n",
       "   'ownership_direct_or_indirect': 'D',\n",
       "   'nature_of_indirect_ownership': None}],\n",
       " 'derivative_table': [{'title_of_security': 'Non-qualified Stock Option (Right to Buy)',\n",
       "   'transaction_date': '2023-03-17',\n",
       "   'transaction_code': 'M',\n",
       "   'amount_of_shares': '725',\n",
       "   'security_acquired_or_disposed': 'D',\n",
       "   'price': '0',\n",
       "   'amount_owned_following_transaction': '113357',\n",
       "   'ownership_direct_or_indirect': 'D',\n",
       "   'nature_of_indirect_ownership': None,\n",
       "   'date_exercisable': '2017-11-22',\n",
       "   'date_of_expiry': '2023-11-22',\n",
       "   'title_of_security_underlying': 'Common Stock',\n",
       "   'amount_of_security_underlying': '725',\n",
       "   'exercise_price': '75.57'}]}"
      ]
     },
     "execution_count": 62,
     "metadata": {},
     "output_type": "execute_result"
    }
   ],
   "source": [
    "form_4_dict = get_form_4_dict_from_XML_tree(XML_tree)\n",
    "form_4_dict"
   ]
  },
  {
   "cell_type": "code",
   "execution_count": 65,
   "id": "d0ad5775-a2a1-4896-a59e-aed8162e314f",
   "metadata": {
    "tags": []
   },
   "outputs": [
    {
     "ename": "ValueError",
     "evalue": "If using all scalar values, you must pass an index",
     "output_type": "error",
     "traceback": [
      "\u001b[1;31m---------------------------------------------------------------------------\u001b[0m",
      "\u001b[1;31mValueError\u001b[0m                                Traceback (most recent call last)",
      "Cell \u001b[1;32mIn[65], line 15\u001b[0m\n\u001b[0;32m     12\u001b[0m     \u001b[38;5;28;01mreturn\u001b[39;00m pd\u001b[38;5;241m.\u001b[39mDataFrame(all_rows_dict)\n\u001b[0;32m     13\u001b[0m     \u001b[38;5;28;01mreturn\u001b[39;00m return_dataframe\n\u001b[1;32m---> 15\u001b[0m \u001b[43mget_form_4_transaction_dataframe_from_form_4_dict\u001b[49m\u001b[43m(\u001b[49m\u001b[43mform_4_dict\u001b[49m\u001b[43m)\u001b[49m\n",
      "Cell \u001b[1;32mIn[65], line 12\u001b[0m, in \u001b[0;36mget_form_4_transaction_dataframe_from_form_4_dict\u001b[1;34m(form_4_dict)\u001b[0m\n\u001b[0;32m      5\u001b[0m keys_to_add_to_all_rows \u001b[38;5;241m=\u001b[39m [\n\u001b[0;32m      6\u001b[0m     \u001b[38;5;124m'\u001b[39m\u001b[38;5;124mname_of_reporting_person\u001b[39m\u001b[38;5;124m'\u001b[39m, \n\u001b[0;32m      7\u001b[0m     \u001b[38;5;124m'\u001b[39m\u001b[38;5;124mtitle_of_reporting_person\u001b[39m\u001b[38;5;124m'\u001b[39m,\n\u001b[0;32m      8\u001b[0m     \u001b[38;5;124m'\u001b[39m\u001b[38;5;124missuer_name\u001b[39m\u001b[38;5;124m'\u001b[39m,\n\u001b[0;32m      9\u001b[0m     \u001b[38;5;124m'\u001b[39m\u001b[38;5;124missuer_ticker\u001b[39m\u001b[38;5;124m'\u001b[39m\n\u001b[0;32m     10\u001b[0m ]\n\u001b[0;32m     11\u001b[0m all_rows_dict \u001b[38;5;241m=\u001b[39m \u001b[38;5;28mdict\u001b[39m((k, form_4_dict[k]) \u001b[38;5;28;01mfor\u001b[39;00m k \u001b[38;5;129;01min\u001b[39;00m keys_to_add_to_all_rows)\n\u001b[1;32m---> 12\u001b[0m \u001b[38;5;28;01mreturn\u001b[39;00m \u001b[43mpd\u001b[49m\u001b[38;5;241;43m.\u001b[39;49m\u001b[43mDataFrame\u001b[49m\u001b[43m(\u001b[49m\u001b[43mall_rows_dict\u001b[49m\u001b[43m)\u001b[49m\n\u001b[0;32m     13\u001b[0m \u001b[38;5;28;01mreturn\u001b[39;00m return_dataframe\n",
      "File \u001b[1;32mC:\\Python311\\Lib\\site-packages\\pandas\\core\\frame.py:664\u001b[0m, in \u001b[0;36mDataFrame.__init__\u001b[1;34m(self, data, index, columns, dtype, copy)\u001b[0m\n\u001b[0;32m    658\u001b[0m     mgr \u001b[38;5;241m=\u001b[39m \u001b[38;5;28mself\u001b[39m\u001b[38;5;241m.\u001b[39m_init_mgr(\n\u001b[0;32m    659\u001b[0m         data, axes\u001b[38;5;241m=\u001b[39m{\u001b[38;5;124m\"\u001b[39m\u001b[38;5;124mindex\u001b[39m\u001b[38;5;124m\"\u001b[39m: index, \u001b[38;5;124m\"\u001b[39m\u001b[38;5;124mcolumns\u001b[39m\u001b[38;5;124m\"\u001b[39m: columns}, dtype\u001b[38;5;241m=\u001b[39mdtype, copy\u001b[38;5;241m=\u001b[39mcopy\n\u001b[0;32m    660\u001b[0m     )\n\u001b[0;32m    662\u001b[0m \u001b[38;5;28;01melif\u001b[39;00m \u001b[38;5;28misinstance\u001b[39m(data, \u001b[38;5;28mdict\u001b[39m):\n\u001b[0;32m    663\u001b[0m     \u001b[38;5;66;03m# GH#38939 de facto copy defaults to False only in non-dict cases\u001b[39;00m\n\u001b[1;32m--> 664\u001b[0m     mgr \u001b[38;5;241m=\u001b[39m \u001b[43mdict_to_mgr\u001b[49m\u001b[43m(\u001b[49m\u001b[43mdata\u001b[49m\u001b[43m,\u001b[49m\u001b[43m \u001b[49m\u001b[43mindex\u001b[49m\u001b[43m,\u001b[49m\u001b[43m \u001b[49m\u001b[43mcolumns\u001b[49m\u001b[43m,\u001b[49m\u001b[43m \u001b[49m\u001b[43mdtype\u001b[49m\u001b[38;5;241;43m=\u001b[39;49m\u001b[43mdtype\u001b[49m\u001b[43m,\u001b[49m\u001b[43m \u001b[49m\u001b[43mcopy\u001b[49m\u001b[38;5;241;43m=\u001b[39;49m\u001b[43mcopy\u001b[49m\u001b[43m,\u001b[49m\u001b[43m \u001b[49m\u001b[43mtyp\u001b[49m\u001b[38;5;241;43m=\u001b[39;49m\u001b[43mmanager\u001b[49m\u001b[43m)\u001b[49m\n\u001b[0;32m    665\u001b[0m \u001b[38;5;28;01melif\u001b[39;00m \u001b[38;5;28misinstance\u001b[39m(data, ma\u001b[38;5;241m.\u001b[39mMaskedArray):\n\u001b[0;32m    666\u001b[0m     \u001b[38;5;28;01mimport\u001b[39;00m \u001b[38;5;21;01mnumpy\u001b[39;00m\u001b[38;5;21;01m.\u001b[39;00m\u001b[38;5;21;01mma\u001b[39;00m\u001b[38;5;21;01m.\u001b[39;00m\u001b[38;5;21;01mmrecords\u001b[39;00m \u001b[38;5;28;01mas\u001b[39;00m \u001b[38;5;21;01mmrecords\u001b[39;00m\n",
      "File \u001b[1;32mC:\\Python311\\Lib\\site-packages\\pandas\\core\\internals\\construction.py:493\u001b[0m, in \u001b[0;36mdict_to_mgr\u001b[1;34m(data, index, columns, dtype, typ, copy)\u001b[0m\n\u001b[0;32m    489\u001b[0m     \u001b[38;5;28;01melse\u001b[39;00m:\n\u001b[0;32m    490\u001b[0m         \u001b[38;5;66;03m# dtype check to exclude e.g. range objects, scalars\u001b[39;00m\n\u001b[0;32m    491\u001b[0m         arrays \u001b[38;5;241m=\u001b[39m [x\u001b[38;5;241m.\u001b[39mcopy() \u001b[38;5;28;01mif\u001b[39;00m \u001b[38;5;28mhasattr\u001b[39m(x, \u001b[38;5;124m\"\u001b[39m\u001b[38;5;124mdtype\u001b[39m\u001b[38;5;124m\"\u001b[39m) \u001b[38;5;28;01melse\u001b[39;00m x \u001b[38;5;28;01mfor\u001b[39;00m x \u001b[38;5;129;01min\u001b[39;00m arrays]\n\u001b[1;32m--> 493\u001b[0m \u001b[38;5;28;01mreturn\u001b[39;00m \u001b[43marrays_to_mgr\u001b[49m\u001b[43m(\u001b[49m\u001b[43marrays\u001b[49m\u001b[43m,\u001b[49m\u001b[43m \u001b[49m\u001b[43mcolumns\u001b[49m\u001b[43m,\u001b[49m\u001b[43m \u001b[49m\u001b[43mindex\u001b[49m\u001b[43m,\u001b[49m\u001b[43m \u001b[49m\u001b[43mdtype\u001b[49m\u001b[38;5;241;43m=\u001b[39;49m\u001b[43mdtype\u001b[49m\u001b[43m,\u001b[49m\u001b[43m \u001b[49m\u001b[43mtyp\u001b[49m\u001b[38;5;241;43m=\u001b[39;49m\u001b[43mtyp\u001b[49m\u001b[43m,\u001b[49m\u001b[43m \u001b[49m\u001b[43mconsolidate\u001b[49m\u001b[38;5;241;43m=\u001b[39;49m\u001b[43mcopy\u001b[49m\u001b[43m)\u001b[49m\n",
      "File \u001b[1;32mC:\\Python311\\Lib\\site-packages\\pandas\\core\\internals\\construction.py:118\u001b[0m, in \u001b[0;36marrays_to_mgr\u001b[1;34m(arrays, columns, index, dtype, verify_integrity, typ, consolidate)\u001b[0m\n\u001b[0;32m    115\u001b[0m \u001b[38;5;28;01mif\u001b[39;00m verify_integrity:\n\u001b[0;32m    116\u001b[0m     \u001b[38;5;66;03m# figure out the index, if necessary\u001b[39;00m\n\u001b[0;32m    117\u001b[0m     \u001b[38;5;28;01mif\u001b[39;00m index \u001b[38;5;129;01mis\u001b[39;00m \u001b[38;5;28;01mNone\u001b[39;00m:\n\u001b[1;32m--> 118\u001b[0m         index \u001b[38;5;241m=\u001b[39m \u001b[43m_extract_index\u001b[49m\u001b[43m(\u001b[49m\u001b[43marrays\u001b[49m\u001b[43m)\u001b[49m\n\u001b[0;32m    119\u001b[0m     \u001b[38;5;28;01melse\u001b[39;00m:\n\u001b[0;32m    120\u001b[0m         index \u001b[38;5;241m=\u001b[39m ensure_index(index)\n",
      "File \u001b[1;32mC:\\Python311\\Lib\\site-packages\\pandas\\core\\internals\\construction.py:656\u001b[0m, in \u001b[0;36m_extract_index\u001b[1;34m(data)\u001b[0m\n\u001b[0;32m    653\u001b[0m         \u001b[38;5;28;01mraise\u001b[39;00m \u001b[38;5;167;01mValueError\u001b[39;00m(\u001b[38;5;124m\"\u001b[39m\u001b[38;5;124mPer-column arrays must each be 1-dimensional\u001b[39m\u001b[38;5;124m\"\u001b[39m)\n\u001b[0;32m    655\u001b[0m \u001b[38;5;28;01mif\u001b[39;00m \u001b[38;5;129;01mnot\u001b[39;00m indexes \u001b[38;5;129;01mand\u001b[39;00m \u001b[38;5;129;01mnot\u001b[39;00m raw_lengths:\n\u001b[1;32m--> 656\u001b[0m     \u001b[38;5;28;01mraise\u001b[39;00m \u001b[38;5;167;01mValueError\u001b[39;00m(\u001b[38;5;124m\"\u001b[39m\u001b[38;5;124mIf using all scalar values, you must pass an index\u001b[39m\u001b[38;5;124m\"\u001b[39m)\n\u001b[0;32m    658\u001b[0m \u001b[38;5;28;01melif\u001b[39;00m have_series:\n\u001b[0;32m    659\u001b[0m     index \u001b[38;5;241m=\u001b[39m union_indexes(indexes)\n",
      "\u001b[1;31mValueError\u001b[0m: If using all scalar values, you must pass an index"
     ]
    }
   ],
   "source": [
    "def get_form_4_transaction_dataframe_from_form_4_dict(form_4_dict):\n",
    "    non_derivative_dataframe = pd.DataFrame(form_4_dict['non_derivative_table'])\n",
    "    derivative_dataframe = pd.DataFrame(form_4_dict['derivative_table'])\n",
    "    return_dataframe = pd.concat([non_derivative_dataframe, derivative_dataframe])\n",
    "    keys_to_add_to_all_rows = [\n",
    "        'name_of_reporting_person', \n",
    "        'title_of_reporting_person',\n",
    "        'issuer_name',\n",
    "        'issuer_ticker'\n",
    "    ]\n",
    "    all_rows_dict = dict((k, form_4_dict[k]) for k in keys_to_add_to_all_rows)\n",
    "    return pd.DataFrame(all_rows_dict)\n",
    "    return return_dataframe\n",
    "\n",
    "get_form_4_transaction_dataframe_from_form_4_dict(form_4_dict)"
   ]
  }
 ],
 "metadata": {
  "kernelspec": {
   "display_name": "Python 3 (ipykernel)",
   "language": "python",
   "name": "python3"
  },
  "language_info": {
   "codemirror_mode": {
    "name": "ipython",
    "version": 3
   },
   "file_extension": ".py",
   "mimetype": "text/x-python",
   "name": "python",
   "nbconvert_exporter": "python",
   "pygments_lexer": "ipython3",
   "version": "3.11.0"
  }
 },
 "nbformat": 4,
 "nbformat_minor": 5
}
